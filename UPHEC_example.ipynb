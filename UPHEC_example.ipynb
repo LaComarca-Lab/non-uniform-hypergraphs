{
 "cells": [
  {
   "cell_type": "markdown",
   "metadata": {},
   "source": [
    "# UPHEC example from Section 3.1"
   ]
  },
  {
   "cell_type": "code",
   "execution_count": 1,
   "metadata": {},
   "outputs": [],
   "source": [
    "import copy\n",
    "import numpy as np\n",
    "import xgi\n",
    "from itertools import permutations\n",
    "from itertools import combinations\n",
    "import matplotlib.pyplot as plt\n",
    "\n",
    "from hyperfunctions import *"
   ]
  },
  {
   "cell_type": "code",
   "execution_count": 2,
   "metadata": {},
   "outputs": [
    {
     "name": "stdout",
     "output_type": "stream",
     "text": [
      "The hypergraph has [1, 2, 3, 4, 5, 6] nodes and ['A', 'B', 'C'] edges\n"
     ]
    },
    {
     "data": {
      "text/plain": [
       "<Axes: >"
      ]
     },
     "execution_count": 2,
     "metadata": {},
     "output_type": "execute_result"
    },
    {
     "data": {
      "image/png": "[encoded data removed]",
      "text/plain": [
       "<Figure size 640x480 with 1 Axes>"
      ]
     },
     "metadata": {},
     "output_type": "display_data"
    }
   ],
   "source": [
    "hyperedge_dict = {'A': [1,2], 'B': [2,3,4,5], 'C': [4,5,6]}\n",
    "H = xgi.Hypergraph(hyperedge_dict)\n",
    "print(f\"The hypergraph has {H.nodes} nodes and {H.edges} edges\")\n",
    "xgi.draw(H, node_labels=True, font_color_nodes=\"blue\")"
   ]
  },
  {
   "cell_type": "markdown",
   "metadata": {},
   "source": [
    "## Order 2: CEC-like"
   ]
  },
  {
   "cell_type": "code",
   "execution_count": 3,
   "metadata": {},
   "outputs": [],
   "source": [
    "T2 = uniform_adjacency_combinatorial_tensor(H, m = 2, math_notation = True)"
   ]
  },
  {
   "cell_type": "code",
   "execution_count": 4,
   "metadata": {},
   "outputs": [
    {
     "data": {
      "text/plain": [
       "({(0, 1): 1.0,\n",
       "  (1, 0): 1.0,\n",
       "  (1, 2): 0.08333333333333333,\n",
       "  (2, 1): 0.08333333333333333,\n",
       "  (1, 3): 0.08333333333333333,\n",
       "  (3, 1): 0.08333333333333333,\n",
       "  (1, 4): 0.08333333333333333,\n",
       "  (4, 1): 0.08333333333333333,\n",
       "  (2, 3): 0.08333333333333333,\n",
       "  (3, 2): 0.08333333333333333,\n",
       "  (2, 4): 0.08333333333333333,\n",
       "  (4, 2): 0.08333333333333333,\n",
       "  (3, 4): 0.25,\n",
       "  (4, 3): 0.25,\n",
       "  (3, 5): 0.16666666666666666,\n",
       "  (5, 3): 0.16666666666666666,\n",
       "  (4, 5): 0.16666666666666666,\n",
       "  (5, 4): 0.16666666666666666},\n",
       " (6, 6))"
      ]
     },
     "execution_count": 4,
     "metadata": {},
     "output_type": "execute_result"
    }
   ],
   "source": [
    "T2"
   ]
  },
  {
   "cell_type": "code",
   "execution_count": 5,
   "metadata": {},
   "outputs": [
    {
     "name": "stdout",
     "output_type": "stream",
     "text": [
      "Finished in 1867 iterations.\n"
     ]
    }
   ],
   "source": [
    "cent2 = HEC_ours(T2, m=2, niter=100000, tol=1e-6, verbose=True)"
   ]
  },
  {
   "cell_type": "code",
   "execution_count": 6,
   "metadata": {},
   "outputs": [
    {
     "data": {
      "text/plain": [
       "(array([0.41220116, 0.41846788, 0.04324068, 0.05415455, 0.05415455,\n",
       "        0.01778117]),\n",
       " True)"
      ]
     },
     "execution_count": 6,
     "metadata": {},
     "output_type": "execute_result"
    }
   ],
   "source": [
    "cent2"
   ]
  },
  {
   "cell_type": "markdown",
   "metadata": {},
   "source": [
    "## Order 3"
   ]
  },
  {
   "cell_type": "code",
   "execution_count": 7,
   "metadata": {},
   "outputs": [],
   "source": [
    "T3 = uniform_adjacency_combinatorial_tensor(H, m = 3, math_notation = True)"
   ]
  },
  {
   "cell_type": "code",
   "execution_count": 8,
   "metadata": {},
   "outputs": [
    {
     "data": {
      "text/plain": [
       "({(0, 1, 5): 0.3333333333333333,\n",
       "  (0, 5, 1): 0.3333333333333333,\n",
       "  (1, 0, 5): 0.3333333333333333,\n",
       "  (1, 5, 0): 0.3333333333333333,\n",
       "  (5, 0, 1): 0.3333333333333333,\n",
       "  (5, 1, 0): 0.3333333333333333,\n",
       "  (1, 2): 0.08333333333333333,\n",
       "  (2, 1): 0.08333333333333333,\n",
       "  (1, 3): 0.08333333333333333,\n",
       "  (3, 1): 0.08333333333333333,\n",
       "  (1, 4): 0.08333333333333333,\n",
       "  (4, 1): 0.08333333333333333,\n",
       "  (2, 3): 0.08333333333333333,\n",
       "  (3, 2): 0.08333333333333333,\n",
       "  (2, 4): 0.08333333333333333,\n",
       "  (4, 2): 0.08333333333333333,\n",
       "  (3, 4): 0.08333333333333333,\n",
       "  (4, 3): 0.08333333333333333,\n",
       "  (3, 4, 5): 1.0,\n",
       "  (3, 5, 4): 1.0,\n",
       "  (4, 3, 5): 1.0,\n",
       "  (4, 5, 3): 1.0,\n",
       "  (5, 3, 4): 1.0,\n",
       "  (5, 4, 3): 1.0},\n",
       " (6, 6, 6))"
      ]
     },
     "execution_count": 8,
     "metadata": {},
     "output_type": "execute_result"
    }
   ],
   "source": [
    "T3"
   ]
  },
  {
   "cell_type": "code",
   "execution_count": 9,
   "metadata": {},
   "outputs": [
    {
     "name": "stdout",
     "output_type": "stream",
     "text": [
      "Finished in 16 iterations.\n"
     ]
    }
   ],
   "source": [
    "cent3 = HEC_ours(T3, m=3, niter=100000, tol=1e-6, verbose=True)"
   ]
  },
  {
   "cell_type": "code",
   "execution_count": 10,
   "metadata": {},
   "outputs": [
    {
     "data": {
      "text/plain": [
       "(array([0.08501373, 0.14796201, 0.13472794, 0.21795005, 0.21795005,\n",
       "        0.19639622]),\n",
       " True)"
      ]
     },
     "execution_count": 10,
     "metadata": {},
     "output_type": "execute_result"
    }
   ],
   "source": [
    "cent3"
   ]
  },
  {
   "cell_type": "markdown",
   "metadata": {},
   "source": [
    "## Order 4"
   ]
  },
  {
   "cell_type": "code",
   "execution_count": 11,
   "metadata": {},
   "outputs": [],
   "source": [
    "T4 = uniform_adjacency_combinatorial_tensor(H, m=4, math_notation = True)"
   ]
  },
  {
   "cell_type": "code",
   "execution_count": 12,
   "metadata": {},
   "outputs": [
    {
     "data": {
      "text/plain": [
       "({(0, 1, 6, 6): 0.16666666666666666,\n",
       "  (0, 6, 1, 6): 0.16666666666666666,\n",
       "  (0, 6, 6, 1): 0.16666666666666666,\n",
       "  (1, 0, 6, 6): 0.16666666666666666,\n",
       "  (1, 6, 0, 6): 0.16666666666666666,\n",
       "  (1, 6, 6, 0): 0.16666666666666666,\n",
       "  (6, 0, 1, 6): 0.16666666666666666,\n",
       "  (6, 0, 6, 1): 0.16666666666666666,\n",
       "  (6, 1, 0, 6): 0.16666666666666666,\n",
       "  (6, 1, 6, 0): 0.16666666666666666,\n",
       "  (6, 6, 0, 1): 0.16666666666666666,\n",
       "  (6, 6, 1, 0): 0.16666666666666666,\n",
       "  (1, 2, 3, 4): 1.0,\n",
       "  (1, 2, 4, 3): 1.0,\n",
       "  (1, 3, 2, 4): 1.0,\n",
       "  (1, 3, 4, 2): 1.0,\n",
       "  (1, 4, 2, 3): 1.0,\n",
       "  (1, 4, 3, 2): 1.0,\n",
       "  (2, 1, 3, 4): 1.0,\n",
       "  (2, 1, 4, 3): 1.0,\n",
       "  (2, 3, 1, 4): 1.0,\n",
       "  (2, 3, 4, 1): 1.0,\n",
       "  (2, 4, 1, 3): 1.0,\n",
       "  (2, 4, 3, 1): 1.0,\n",
       "  (3, 1, 2, 4): 1.0,\n",
       "  (3, 1, 4, 2): 1.0,\n",
       "  (3, 2, 1, 4): 1.0,\n",
       "  (3, 2, 4, 1): 1.0,\n",
       "  (3, 4, 1, 2): 1.0,\n",
       "  (3, 4, 2, 1): 1.0,\n",
       "  (4, 1, 2, 3): 1.0,\n",
       "  (4, 1, 3, 2): 1.0,\n",
       "  (4, 2, 1, 3): 1.0,\n",
       "  (4, 2, 3, 1): 1.0,\n",
       "  (4, 3, 1, 2): 1.0,\n",
       "  (4, 3, 2, 1): 1.0,\n",
       "  (3, 4, 5, 6): 0.25,\n",
       "  (3, 4, 6, 5): 0.25,\n",
       "  (3, 5, 4, 6): 0.25,\n",
       "  (3, 5, 6, 4): 0.25,\n",
       "  (3, 6, 4, 5): 0.25,\n",
       "  (3, 6, 5, 4): 0.25,\n",
       "  (4, 3, 5, 6): 0.25,\n",
       "  (4, 3, 6, 5): 0.25,\n",
       "  (4, 5, 3, 6): 0.25,\n",
       "  (4, 5, 6, 3): 0.25,\n",
       "  (4, 6, 3, 5): 0.25,\n",
       "  (4, 6, 5, 3): 0.25,\n",
       "  (5, 3, 4, 6): 0.25,\n",
       "  (5, 3, 6, 4): 0.25,\n",
       "  (5, 4, 3, 6): 0.25,\n",
       "  (5, 4, 6, 3): 0.25,\n",
       "  (5, 6, 3, 4): 0.25,\n",
       "  (5, 6, 4, 3): 0.25,\n",
       "  (6, 3, 4, 5): 0.25,\n",
       "  (6, 3, 5, 4): 0.25,\n",
       "  (6, 4, 3, 5): 0.25,\n",
       "  (6, 4, 5, 3): 0.25,\n",
       "  (6, 5, 3, 4): 0.25,\n",
       "  (6, 5, 4, 3): 0.25},\n",
       " (7, 7, 7, 7))"
      ]
     },
     "execution_count": 12,
     "metadata": {},
     "output_type": "execute_result"
    }
   ],
   "source": [
    "T4"
   ]
  },
  {
   "cell_type": "code",
   "execution_count": 13,
   "metadata": {},
   "outputs": [
    {
     "name": "stdout",
     "output_type": "stream",
     "text": [
      "Finished in 15 iterations.\n"
     ]
    }
   ],
   "source": [
    "cent4 = HEC_ours(T4, m=4, niter=100000, tol=1e-6, verbose=True)"
   ]
  },
  {
   "cell_type": "code",
   "execution_count": 14,
   "metadata": {},
   "outputs": [
    {
     "data": {
      "text/plain": [
       "(array([0.05299274, 0.18675662, 0.1864532 , 0.18954567, 0.18954567,\n",
       "        0.09521732, 0.09948879]),\n",
       " True)"
      ]
     },
     "execution_count": 14,
     "metadata": {},
     "output_type": "execute_result"
    }
   ],
   "source": [
    "cent4"
   ]
  },
  {
   "cell_type": "code",
   "execution_count": null,
   "metadata": {},
   "outputs": [],
   "source": []
  }
 ],
 "metadata": {
  "kernelspec": {
   "display_name": "Python 3",
   "language": "python",
   "name": "python3"
  },
  "language_info": {
   "codemirror_mode": {
    "name": "ipython",
    "version": 3
   },
   "file_extension": ".py",
   "mimetype": "text/x-python",
   "name": "python",
   "nbconvert_exporter": "python",
   "pygments_lexer": "ipython3",
   "version": "3.10.12"
  },
  "orig_nbformat": 4
 },
 "nbformat": 4,
 "nbformat_minor": 2
}
