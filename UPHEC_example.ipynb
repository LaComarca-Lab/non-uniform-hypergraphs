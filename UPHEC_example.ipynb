{
 "cells": [
  {
   "cell_type": "markdown",
   "metadata": {},
   "source": [
    "# UPHEC example from Section 3.1"
   ]
  },
  {
   "cell_type": "code",
   "execution_count": 1,
   "metadata": {
    "tags": []
   },
   "outputs": [],
   "source": [
    "import copy\n",
    "import numpy as np\n",
    "import xgi\n",
    "from itertools import permutations\n",
    "from itertools import combinations\n",
    "import matplotlib.pyplot as plt\n",
    "\n",
    "from hyperfunctions import *"
   ]
  },
  {
   "cell_type": "code",
   "execution_count": 2,
   "metadata": {
    "tags": []
   },
   "outputs": [
    {
     "name": "stdout",
     "output_type": "stream",
     "text": [
      "The hypergraph has [1, 2, 3, 4, 5, 6] nodes and ['A', 'B', 'C'] edges\n"
     ]
    },
    {
     "data": {
      "text/plain": [
       "(<Axes: >, <matplotlib.collections.PathCollection at 0x7f63cbcfc280>)"
      ]
     },
     "execution_count": 2,
     "metadata": {},
     "output_type": "execute_result"
    },
    {
     "data": {
      "image/png": "[encoded data removed]",
      "text/plain": [
       "<Figure size 640x480 with 1 Axes>"
      ]
     },
     "metadata": {},
     "output_type": "display_data"
    }
   ],
   "source": [
    "hyperedge_dict = {'A': [1,2], 'B': [2,3,4,5], 'C': [4,5,6]}\n",
    "H = xgi.Hypergraph(hyperedge_dict)\n",
    "print(f\"The hypergraph has {H.nodes} nodes and {H.edges} edges\")\n",
    "xgi.draw(H, node_labels=True, font_color_nodes=\"blue\")"
   ]
  },
  {
   "cell_type": "markdown",
   "metadata": {},
   "source": [
    "## Order 2: CEC-like"
   ]
  },
  {
   "cell_type": "code",
   "execution_count": 3,
   "metadata": {
    "tags": []
   },
   "outputs": [],
   "source": [
    "T2 = uniform_adjacency_combinatorial_tensor(H, m = 2, math_notation = True)"
   ]
  },
  {
   "cell_type": "code",
   "execution_count": 4,
   "metadata": {},
   "outputs": [
    {
     "data": {
      "text/plain": [
       "({(0, 1): 1.0,\n",
       "  (1, 0): 1.0,\n",
       "  (1, 2): 1,\n",
       "  (2, 1): 1,\n",
       "  (1, 3): 1,\n",
       "  (3, 1): 1,\n",
       "  (1, 4): 1,\n",
       "  (4, 1): 1,\n",
       "  (2, 3): 1,\n",
       "  (3, 2): 1,\n",
       "  (2, 4): 1,\n",
       "  (4, 2): 1,\n",
       "  (3, 4): 2,\n",
       "  (4, 3): 2,\n",
       "  (3, 5): 1,\n",
       "  (5, 3): 1,\n",
       "  (4, 5): 1,\n",
       "  (5, 4): 1},\n",
       " (6, 6))"
      ]
     },
     "execution_count": 4,
     "metadata": {},
     "output_type": "execute_result"
    }
   ],
   "source": [
    "T2"
   ]
  },
  {
   "cell_type": "code",
   "execution_count": 5,
   "metadata": {},
   "outputs": [
    {
     "name": "stdout",
     "output_type": "stream",
     "text": [
      "Finished in 9 iterations.\n"
     ]
    }
   ],
   "source": [
    "cent2 = HEC_ours(T2, m=2, niter=100000, tol=1e-6, verbose=True)"
   ]
  },
  {
   "cell_type": "code",
   "execution_count": 6,
   "metadata": {},
   "outputs": [
    {
     "data": {
      "text/plain": [
       "(array([0.09286365, 0.18020404, 0.16901214, 0.20835299, 0.20835299,\n",
       "        0.14121418]),\n",
       " True)"
      ]
     },
     "execution_count": 6,
     "metadata": {},
     "output_type": "execute_result"
    }
   ],
   "source": [
    "cent2"
   ]
  },
  {
   "cell_type": "markdown",
   "metadata": {},
   "source": [
    "## Order 3"
   ]
  },
  {
   "cell_type": "code",
   "execution_count": 7,
   "metadata": {},
   "outputs": [],
   "source": [
    "T3 = uniform_adjacency_combinatorial_tensor(H, m = 3, math_notation = True)"
   ]
  },
  {
   "cell_type": "code",
   "execution_count": 8,
   "metadata": {},
   "outputs": [
    {
     "data": {
      "text/plain": [
       "({(0, 1, 6): 0.3333333333333333,\n",
       "  (0, 6, 1): 0.3333333333333333,\n",
       "  (1, 0, 6): 0.3333333333333333,\n",
       "  (1, 6, 0): 0.3333333333333333,\n",
       "  (6, 0, 1): 0.3333333333333333,\n",
       "  (6, 1, 0): 0.3333333333333333,\n",
       "  (1, 2, 3): 1,\n",
       "  (1, 3, 2): 1,\n",
       "  (2, 1, 3): 1,\n",
       "  (2, 3, 1): 1,\n",
       "  (3, 1, 2): 1,\n",
       "  (3, 2, 1): 1,\n",
       "  (1, 2, 4): 1,\n",
       "  (1, 4, 2): 1,\n",
       "  (2, 1, 4): 1,\n",
       "  (2, 4, 1): 1,\n",
       "  (4, 1, 2): 1,\n",
       "  (4, 2, 1): 1,\n",
       "  (1, 3, 4): 1,\n",
       "  (1, 4, 3): 1,\n",
       "  (3, 1, 4): 1,\n",
       "  (3, 4, 1): 1,\n",
       "  (4, 1, 3): 1,\n",
       "  (4, 3, 1): 1,\n",
       "  (2, 3, 4): 1,\n",
       "  (2, 4, 3): 1,\n",
       "  (3, 2, 4): 1,\n",
       "  (3, 4, 2): 1,\n",
       "  (4, 2, 3): 1,\n",
       "  (4, 3, 2): 1,\n",
       "  (3, 4, 5): 1.0,\n",
       "  (3, 5, 4): 1.0,\n",
       "  (4, 3, 5): 1.0,\n",
       "  (4, 5, 3): 1.0,\n",
       "  (5, 3, 4): 1.0,\n",
       "  (5, 4, 3): 1.0},\n",
       " (7, 7, 7))"
      ]
     },
     "execution_count": 8,
     "metadata": {},
     "output_type": "execute_result"
    }
   ],
   "source": [
    "T3"
   ]
  },
  {
   "cell_type": "code",
   "execution_count": 9,
   "metadata": {},
   "outputs": [
    {
     "name": "stdout",
     "output_type": "stream",
     "text": [
      "Finished in 13 iterations.\n"
     ]
    }
   ],
   "source": [
    "cent3 = HEC_ours(T3, m=3, niter=100000, tol=1e-6, verbose=True)"
   ]
  },
  {
   "cell_type": "code",
   "execution_count": 10,
   "metadata": {},
   "outputs": [
    {
     "data": {
      "text/plain": [
       "(array([0.05867764, 0.18347169, 0.18294437, 0.19391345, 0.19391345,\n",
       "        0.12840177, 0.05867764]),\n",
       " True)"
      ]
     },
     "execution_count": 10,
     "metadata": {},
     "output_type": "execute_result"
    }
   ],
   "source": [
    "cent3"
   ]
  },
  {
   "cell_type": "markdown",
   "metadata": {},
   "source": [
    "## Order 4"
   ]
  },
  {
   "cell_type": "code",
   "execution_count": 11,
   "metadata": {},
   "outputs": [],
   "source": [
    "T4 = uniform_adjacency_combinatorial_tensor(H, m=4, math_notation = True)"
   ]
  },
  {
   "cell_type": "code",
   "execution_count": 12,
   "metadata": {},
   "outputs": [
    {
     "data": {
      "text/plain": [
       "({(0, 1, 6, 6): 0.16666666666666666,\n",
       "  (0, 6, 1, 6): 0.16666666666666666,\n",
       "  (0, 6, 6, 1): 0.16666666666666666,\n",
       "  (1, 0, 6, 6): 0.16666666666666666,\n",
       "  (1, 6, 0, 6): 0.16666666666666666,\n",
       "  (1, 6, 6, 0): 0.16666666666666666,\n",
       "  (6, 0, 1, 6): 0.16666666666666666,\n",
       "  (6, 0, 6, 1): 0.16666666666666666,\n",
       "  (6, 1, 0, 6): 0.16666666666666666,\n",
       "  (6, 1, 6, 0): 0.16666666666666666,\n",
       "  (6, 6, 0, 1): 0.16666666666666666,\n",
       "  (6, 6, 1, 0): 0.16666666666666666,\n",
       "  (1, 2, 3, 4): 1.0,\n",
       "  (1, 2, 4, 3): 1.0,\n",
       "  (1, 3, 2, 4): 1.0,\n",
       "  (1, 3, 4, 2): 1.0,\n",
       "  (1, 4, 2, 3): 1.0,\n",
       "  (1, 4, 3, 2): 1.0,\n",
       "  (2, 1, 3, 4): 1.0,\n",
       "  (2, 1, 4, 3): 1.0,\n",
       "  (2, 3, 1, 4): 1.0,\n",
       "  (2, 3, 4, 1): 1.0,\n",
       "  (2, 4, 1, 3): 1.0,\n",
       "  (2, 4, 3, 1): 1.0,\n",
       "  (3, 1, 2, 4): 1.0,\n",
       "  (3, 1, 4, 2): 1.0,\n",
       "  (3, 2, 1, 4): 1.0,\n",
       "  (3, 2, 4, 1): 1.0,\n",
       "  (3, 4, 1, 2): 1.0,\n",
       "  (3, 4, 2, 1): 1.0,\n",
       "  (4, 1, 2, 3): 1.0,\n",
       "  (4, 1, 3, 2): 1.0,\n",
       "  (4, 2, 1, 3): 1.0,\n",
       "  (4, 2, 3, 1): 1.0,\n",
       "  (4, 3, 1, 2): 1.0,\n",
       "  (4, 3, 2, 1): 1.0,\n",
       "  (3, 4, 5, 6): 0.25,\n",
       "  (3, 4, 6, 5): 0.25,\n",
       "  (3, 5, 4, 6): 0.25,\n",
       "  (3, 5, 6, 4): 0.25,\n",
       "  (3, 6, 4, 5): 0.25,\n",
       "  (3, 6, 5, 4): 0.25,\n",
       "  (4, 3, 5, 6): 0.25,\n",
       "  (4, 3, 6, 5): 0.25,\n",
       "  (4, 5, 3, 6): 0.25,\n",
       "  (4, 5, 6, 3): 0.25,\n",
       "  (4, 6, 3, 5): 0.25,\n",
       "  (4, 6, 5, 3): 0.25,\n",
       "  (5, 3, 4, 6): 0.25,\n",
       "  (5, 3, 6, 4): 0.25,\n",
       "  (5, 4, 3, 6): 0.25,\n",
       "  (5, 4, 6, 3): 0.25,\n",
       "  (5, 6, 3, 4): 0.25,\n",
       "  (5, 6, 4, 3): 0.25,\n",
       "  (6, 3, 4, 5): 0.25,\n",
       "  (6, 3, 5, 4): 0.25,\n",
       "  (6, 4, 3, 5): 0.25,\n",
       "  (6, 4, 5, 3): 0.25,\n",
       "  (6, 5, 3, 4): 0.25,\n",
       "  (6, 5, 4, 3): 0.25},\n",
       " (7, 7, 7, 7))"
      ]
     },
     "execution_count": 12,
     "metadata": {},
     "output_type": "execute_result"
    }
   ],
   "source": [
    "T4"
   ]
  },
  {
   "cell_type": "code",
   "execution_count": 13,
   "metadata": {},
   "outputs": [
    {
     "name": "stdout",
     "output_type": "stream",
     "text": [
      "Finished in 11 iterations.\n"
     ]
    }
   ],
   "source": [
    "cent4 = HEC_ours(T4, m=4, niter=100000, tol=1e-6, verbose=True)"
   ]
  },
  {
   "cell_type": "code",
   "execution_count": 14,
   "metadata": {},
   "outputs": [
    {
     "data": {
      "text/plain": [
       "(array([0.07534858, 0.17308835, 0.17254376, 0.17610609, 0.17610609,\n",
       "        0.11047053, 0.11633661]),\n",
       " True)"
      ]
     },
     "execution_count": 14,
     "metadata": {},
     "output_type": "execute_result"
    }
   ],
   "source": [
    "cent4"
   ]
  },
  {
   "cell_type": "markdown",
   "metadata": {},
   "source": [
    "## Comparison between scores"
   ]
  },
  {
   "cell_type": "code",
   "execution_count": 15,
   "metadata": {},
   "outputs": [],
   "source": [
    "C2 = np.round(cent2[0]/np.sum(cent2[0]),4)\n",
    "cent3real = cent3[0][:-1]\n",
    "C3 = np.round(cent3real/np.sum(cent3real),4)\n",
    "cent4real = cent4[0][:-1]\n",
    "C4 = np.round(cent4real/np.sum(cent4real),4)"
   ]
  },
  {
   "cell_type": "code",
   "execution_count": 16,
   "metadata": {},
   "outputs": [
    {
     "data": {
      "text/plain": [
       "(array([0.0929, 0.1802, 0.169 , 0.2084, 0.2084, 0.1412]),\n",
       " array([0.0623, 0.1949, 0.1943, 0.206 , 0.206 , 0.1364]),\n",
       " array([0.0853, 0.1959, 0.1953, 0.1993, 0.1993, 0.125 ]))"
      ]
     },
     "execution_count": 16,
     "metadata": {},
     "output_type": "execute_result"
    }
   ],
   "source": [
    "C2, C3, C4"
   ]
  },
  {
   "cell_type": "code",
   "execution_count": 17,
   "metadata": {},
   "outputs": [
    {
     "name": "stdout",
     "output_type": "stream",
     "text": [
      "0.0929 & 0.1802 & 0.169 & 0.2084 & 0.2084 & 0.1412 & \n",
      "0.0623 & 0.1949 & 0.1943 & 0.206 & 0.206 & 0.1364 & \n",
      "0.0853 & 0.1959 & 0.1953 & 0.1993 & 0.1993 & 0.125 & \n"
     ]
    }
   ],
   "source": [
    "for cent in [C2,C3,C4]:\n",
    "    texstring = \"\"\n",
    "    for node in cent:\n",
    "        texstring += str(np.round(node,4)) + \" & \" \n",
    "    print(texstring)"
   ]
  },
  {
   "cell_type": "code",
   "execution_count": 18,
   "metadata": {},
   "outputs": [
    {
     "data": {
      "text/plain": [
       "array([0.07534858, 0.17308835, 0.17254376, 0.17610609, 0.17610609,\n",
       "       0.11047053])"
      ]
     },
     "execution_count": 18,
     "metadata": {},
     "output_type": "execute_result"
    }
   ],
   "source": [
    "cent4[0][:-1]"
   ]
  },
  {
   "cell_type": "markdown",
   "metadata": {},
   "source": [
    "### Comparison with the vector centrality\n",
    "\n",
    "First rename the nodes to be suitable for the xgi function..."
   ]
  },
  {
   "cell_type": "code",
   "execution_count": 19,
   "metadata": {},
   "outputs": [
    {
     "name": "stdout",
     "output_type": "stream",
     "text": [
      "The hypergraph has [0, 1, 2, 3, 4, 5] nodes and ['A', 'B', 'C'] edges\n"
     ]
    },
    {
     "data": {
      "text/plain": [
       "(<Axes: >, <matplotlib.collections.PathCollection at 0x7f63c9ca63a0>)"
      ]
     },
     "execution_count": 19,
     "metadata": {},
     "output_type": "execute_result"
    },
    {
     "data": {
      "image/png": "[encoded data removed]",
      "text/plain": [
       "<Figure size 640x480 with 1 Axes>"
      ]
     },
     "metadata": {},
     "output_type": "display_data"
    }
   ],
   "source": [
    "hyperedge_dict = {'A': [0,1], 'B': [1,2,3,4], 'C': [3,4,5]}\n",
    "H = xgi.Hypergraph(hyperedge_dict)\n",
    "print(f\"The hypergraph has {H.nodes} nodes and {H.edges} edges\")\n",
    "xgi.draw(H, node_labels=True, font_color_nodes=\"blue\")"
   ]
  },
  {
   "cell_type": "code",
   "execution_count": 20,
   "metadata": {},
   "outputs": [
    {
     "data": {
      "text/plain": [
       "{0: [0.25000003220902994, 0.0, 0.0],\n",
       " 1: [0.25000003220902994, 0.0, 0.1767766725214105],\n",
       " 2: [0.0, 0.0, 0.1767766725214105],\n",
       " 3: [0.0, 0.1666666881393533, 0.1767766725214105],\n",
       " 4: [0.0, 0.1666666881393533, 0.1767766725214105],\n",
       " 5: [0.0, 0.1666666881393533, 0.0]}"
      ]
     },
     "execution_count": 20,
     "metadata": {},
     "output_type": "execute_result"
    }
   ],
   "source": [
    "veccent= xgi.algorithms.centrality.line_vector_centrality(H)\n",
    "veccent"
   ]
  },
  {
   "cell_type": "code",
   "execution_count": 21,
   "metadata": {},
   "outputs": [],
   "source": [
    "veccentnorm = {}\n",
    "\n",
    "VC = []\n",
    "for val in veccent.values():\n",
    "    VC.append(val)\n",
    "\n",
    "VCnorm = np.array(VC) / np.sum(VC, axis=0)\n",
    "VCnorm\n",
    "\n",
    "for i, row in enumerate(VCnorm):\n",
    "    veccentnorm[i] = row \n"
   ]
  },
  {
   "cell_type": "code",
   "execution_count": 22,
   "metadata": {},
   "outputs": [
    {
     "name": "stdout",
     "output_type": "stream",
     "text": [
      "2\n",
      "0.5 & 0.5 & 0.0 & 0.0 & 0.0 & 0.0 & \n",
      "3\n",
      "0.0 & 0.0 & 0.0 & 0.3333 & 0.3333 & 0.3333 & \n",
      "4\n",
      "0.0 & 0.25 & 0.25 & 0.25 & 0.25 & 0.0 & \n"
     ]
    }
   ],
   "source": [
    "for order in range(2,H.edges.size.max()+1):\n",
    "    print(order)\n",
    "    \n",
    "    texstring = \"\"\n",
    "    for node in veccentnorm.keys():\n",
    "        texstring += str(np.round(veccentnorm[node][order-2],4)) + \" & \" \n",
    "    \n",
    "    print(texstring)"
   ]
  },
  {
   "cell_type": "code",
   "execution_count": null,
   "metadata": {},
   "outputs": [],
   "source": []
  },
  {
   "cell_type": "code",
   "execution_count": null,
   "metadata": {},
   "outputs": [],
   "source": []
  }
 ],
 "metadata": {
  "kernelspec": {
   "display_name": "Python 3 (ipykernel)",
   "language": "python",
   "name": "python3"
  },
  "language_info": {
   "codemirror_mode": {
    "name": "ipython",
    "version": 3
   },
   "file_extension": ".py",
   "mimetype": "text/x-python",
   "name": "python",
   "nbconvert_exporter": "python",
   "pygments_lexer": "ipython3",
   "version": "3.9.16"
  }
 },
 "nbformat": 4,
 "nbformat_minor": 4
}
