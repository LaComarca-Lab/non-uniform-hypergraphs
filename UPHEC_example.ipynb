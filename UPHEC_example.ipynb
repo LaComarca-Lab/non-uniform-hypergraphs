{
 "cells": [
  {
   "cell_type": "markdown",
   "metadata": {},
   "source": [
    "# UPHEC example from Section 3.1"
   ]
  },
  {
   "cell_type": "code",
   "execution_count": 5,
   "metadata": {},
   "outputs": [],
   "source": [
    "import copy\n",
    "import numpy as np\n",
    "import xgi\n",
    "from itertools import permutations\n",
    "from itertools import combinations\n",
    "import matplotlib.pyplot as plt\n",
    "\n",
    "from hyperfunctions import *"
   ]
  },
  {
   "cell_type": "code",
   "execution_count": 6,
   "metadata": {},
   "outputs": [
    {
     "name": "stdout",
     "output_type": "stream",
     "text": [
      "The hypergraph has [1, 2, 3, 4, 5, 6] nodes and ['A', 'B', 'C'] edges\n"
     ]
    },
    {
     "data": {
      "text/plain": [
       "<Axes: >"
      ]
     },
     "execution_count": 6,
     "metadata": {},
     "output_type": "execute_result"
    },
    {
     "data": {
      "image/png": "[encoded data removed]",
      "text/plain": [
       "<Figure size 640x480 with 1 Axes>"
      ]
     },
     "metadata": {},
     "output_type": "display_data"
    }
   ],
   "source": [
    "hyperedge_dict = {'A': [1,2], 'B': [2,3,4,5], 'C': [4,5,6]}\n",
    "H = xgi.Hypergraph(hyperedge_dict)\n",
    "print(f\"The hypergraph has {H.nodes} nodes and {H.edges} edges\")\n",
    "xgi.draw(H, node_labels=True, font_color_nodes=\"blue\")"
   ]
  },
  {
   "cell_type": "markdown",
   "metadata": {},
   "source": [
    "## Order 2: CEC-like"
   ]
  },
  {
   "cell_type": "code",
   "execution_count": 22,
   "metadata": {},
   "outputs": [],
   "source": [
    "T2 = uniform_adjacency_combinatorial_tensor(H, m = 2, math_notation = False)"
   ]
  },
  {
   "cell_type": "code",
   "execution_count": 23,
   "metadata": {},
   "outputs": [
    {
     "data": {
      "text/plain": [
       "({(1, 2): 1.0,\n",
       "  (2, 1): 1.0,\n",
       "  (2, 3): 0.16666666666666666,\n",
       "  (2, 4): 0.16666666666666666,\n",
       "  (2, 5): 0.16666666666666666,\n",
       "  (3, 4): 0.16666666666666666,\n",
       "  (3, 5): 0.16666666666666666,\n",
       "  (4, 5): 0.5,\n",
       "  (4, 6): 0.3333333333333333,\n",
       "  (5, 6): 0.3333333333333333},\n",
       " (7, 7))"
      ]
     },
     "execution_count": 23,
     "metadata": {},
     "output_type": "execute_result"
    }
   ],
   "source": [
    "T2"
   ]
  },
  {
   "cell_type": "code",
   "execution_count": 41,
   "metadata": {},
   "outputs": [],
   "source": [
    "cent2 = HEC_ours(T2, m=2, niter=100000, tol=1e-6, verbose=True)"
   ]
  },
  {
   "cell_type": "code",
   "execution_count": 42,
   "metadata": {},
   "outputs": [
    {
     "data": {
      "text/plain": [
       "(array([0.        , 0.55427632, 0.44572368, 0.        , 0.        ,\n",
       "        0.        , 0.        ]),\n",
       " False)"
      ]
     },
     "execution_count": 42,
     "metadata": {},
     "output_type": "execute_result"
    }
   ],
   "source": [
    "cent2"
   ]
  },
  {
   "cell_type": "markdown",
   "metadata": {},
   "source": [
    "## Order 3"
   ]
  },
  {
   "cell_type": "code",
   "execution_count": 32,
   "metadata": {},
   "outputs": [],
   "source": [
    "T3 = uniform_adjacency_combinatorial_tensor(H, m = 3, math_notation = False)"
   ]
  },
  {
   "cell_type": "code",
   "execution_count": 26,
   "metadata": {},
   "outputs": [
    {
     "data": {
      "text/plain": [
       "({(1, 2, 6): 0.3333333333333333,\n",
       "  (1, 6, 2): 0.3333333333333333,\n",
       "  (2, 1, 6): 0.3333333333333333,\n",
       "  (2, 6, 1): 0.3333333333333333,\n",
       "  (6, 1, 2): 0.3333333333333333,\n",
       "  (6, 2, 1): 0.3333333333333333,\n",
       "  (2, 3, 4): 0.25,\n",
       "  (2, 3, 5): 0.25,\n",
       "  (2, 4, 5): 0.25,\n",
       "  (3, 4, 5): 0.25,\n",
       "  (4, 5, 6): 1.0,\n",
       "  (4, 6, 5): 1.0,\n",
       "  (5, 4, 6): 1.0,\n",
       "  (5, 6, 4): 1.0,\n",
       "  (6, 4, 5): 1.0,\n",
       "  (6, 5, 4): 1.0},\n",
       " (7, 7, 7))"
      ]
     },
     "execution_count": 26,
     "metadata": {},
     "output_type": "execute_result"
    }
   ],
   "source": [
    "T3"
   ]
  },
  {
   "cell_type": "code",
   "execution_count": 37,
   "metadata": {},
   "outputs": [],
   "source": [
    "cent3 = HEC_ours(T3, m=2, niter=100000, tol=1e-6, verbose=True)"
   ]
  },
  {
   "cell_type": "code",
   "execution_count": 38,
   "metadata": {},
   "outputs": [
    {
     "data": {
      "text/plain": [
       "(array([0.        , 0.02256572, 0.0471894 , 0.0319526 , 0.32089516,\n",
       "        0.32089516, 0.25650197]),\n",
       " False)"
      ]
     },
     "execution_count": 38,
     "metadata": {},
     "output_type": "execute_result"
    }
   ],
   "source": [
    "cent3"
   ]
  },
  {
   "cell_type": "markdown",
   "metadata": {},
   "source": [
    "## Order 4"
   ]
  },
  {
   "cell_type": "code",
   "execution_count": 39,
   "metadata": {},
   "outputs": [],
   "source": [
    "T4 = uniform_adjacency_combinatorial_tensor(H, m = 4, math_notation = False)"
   ]
  },
  {
   "cell_type": "code",
   "execution_count": 40,
   "metadata": {},
   "outputs": [
    {
     "data": {
      "text/plain": [
       "({(1, 2, 6, 6): 0.16666666666666666,\n",
       "  (1, 6, 2, 6): 0.16666666666666666,\n",
       "  (1, 6, 6, 2): 0.16666666666666666,\n",
       "  (2, 1, 6, 6): 0.16666666666666666,\n",
       "  (2, 6, 1, 6): 0.16666666666666666,\n",
       "  (2, 6, 6, 1): 0.16666666666666666,\n",
       "  (6, 1, 2, 6): 0.16666666666666666,\n",
       "  (6, 1, 6, 2): 0.16666666666666666,\n",
       "  (6, 2, 1, 6): 0.16666666666666666,\n",
       "  (6, 2, 6, 1): 0.16666666666666666,\n",
       "  (6, 6, 1, 2): 0.16666666666666666,\n",
       "  (6, 6, 2, 1): 0.16666666666666666,\n",
       "  (2, 3, 4, 5): 1.0,\n",
       "  (2, 3, 5, 4): 1.0,\n",
       "  (2, 4, 3, 5): 1.0,\n",
       "  (2, 4, 5, 3): 1.0,\n",
       "  (2, 5, 3, 4): 1.0,\n",
       "  (2, 5, 4, 3): 1.0,\n",
       "  (3, 2, 4, 5): 1.0,\n",
       "  (3, 2, 5, 4): 1.0,\n",
       "  (3, 4, 2, 5): 1.0,\n",
       "  (3, 4, 5, 2): 1.0,\n",
       "  (3, 5, 2, 4): 1.0,\n",
       "  (3, 5, 4, 2): 1.0,\n",
       "  (4, 2, 3, 5): 1.0,\n",
       "  (4, 2, 5, 3): 1.0,\n",
       "  (4, 3, 2, 5): 1.0,\n",
       "  (4, 3, 5, 2): 1.0,\n",
       "  (4, 5, 2, 3): 1.0,\n",
       "  (4, 5, 3, 2): 1.0,\n",
       "  (5, 2, 3, 4): 1.0,\n",
       "  (5, 2, 4, 3): 1.0,\n",
       "  (5, 3, 2, 4): 1.0,\n",
       "  (5, 3, 4, 2): 1.0,\n",
       "  (5, 4, 2, 3): 1.0,\n",
       "  (5, 4, 3, 2): 1.0,\n",
       "  (4, 5, 6, 6): 0.5,\n",
       "  (4, 6, 5, 6): 0.5,\n",
       "  (4, 6, 6, 5): 0.5,\n",
       "  (5, 4, 6, 6): 0.5,\n",
       "  (5, 6, 4, 6): 0.5,\n",
       "  (5, 6, 6, 4): 0.5,\n",
       "  (6, 4, 5, 6): 0.5,\n",
       "  (6, 4, 6, 5): 0.5,\n",
       "  (6, 5, 4, 6): 0.5,\n",
       "  (6, 5, 6, 4): 0.5,\n",
       "  (6, 6, 4, 5): 0.5,\n",
       "  (6, 6, 5, 4): 0.5},\n",
       " (7, 7, 7, 7))"
      ]
     },
     "execution_count": 40,
     "metadata": {},
     "output_type": "execute_result"
    }
   ],
   "source": [
    "T4"
   ]
  },
  {
   "cell_type": "code",
   "execution_count": 46,
   "metadata": {},
   "outputs": [
    {
     "name": "stderr",
     "output_type": "stream",
     "text": [
      "/home/gonzalo/Documents/Universidades/URJC/Projects/non-uniform-hypergraphs/hyperfunctions.py:125: RuntimeWarning: invalid value encountered in divide\n",
      "  s = np.divide(y, np.power(x, m - 1))\n"
     ]
    }
   ],
   "source": [
    "cent4 = HEC_ours(T4, m=2, niter=10000, tol=1e-6, verbose=True)"
   ]
  },
  {
   "cell_type": "code",
   "execution_count": 47,
   "metadata": {},
   "outputs": [
    {
     "data": {
      "text/plain": [
       "(array([0.        , 0.        , 0.25317307, 0.27379361, 0.23651666,\n",
       "        0.23651666, 0.        ]),\n",
       " False)"
      ]
     },
     "execution_count": 47,
     "metadata": {},
     "output_type": "execute_result"
    }
   ],
   "source": [
    "cent4"
   ]
  },
  {
   "cell_type": "code",
   "execution_count": null,
   "metadata": {},
   "outputs": [],
   "source": []
  }
 ],
 "metadata": {
  "kernelspec": {
   "display_name": "Python 3",
   "language": "python",
   "name": "python3"
  },
  "language_info": {
   "codemirror_mode": {
    "name": "ipython",
    "version": 3
   },
   "file_extension": ".py",
   "mimetype": "text/x-python",
   "name": "python",
   "nbconvert_exporter": "python",
   "pygments_lexer": "ipython3",
   "version": "3.10.12"
  },
  "orig_nbformat": 4
 },
 "nbformat": 4,
 "nbformat_minor": 2
}
