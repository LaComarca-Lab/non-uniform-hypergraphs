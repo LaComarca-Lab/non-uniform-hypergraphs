{
 "cells": [
  {
   "cell_type": "markdown",
   "metadata": {},
   "source": [
    "# ZEC example from Section 3.2 "
   ]
  },
  {
   "cell_type": "code",
   "execution_count": 1,
   "metadata": {},
   "outputs": [],
   "source": [
    "import copy\n",
    "import numpy as np\n",
    "import networkx as nx\n",
    "import xgi\n",
    "from itertools import permutations\n",
    "from itertools import combinations\n",
    "import matplotlib.pyplot as plt\n",
    "\n",
    "from hyperfunctions import *"
   ]
  },
  {
   "cell_type": "code",
   "execution_count": 2,
   "metadata": {},
   "outputs": [],
   "source": [
    "G = nx.Graph()\n",
    "nx.add_path(G,[0,1,2])"
   ]
  },
  {
   "cell_type": "markdown",
   "metadata": {},
   "source": [
    "## Computing the Z-eigenvector from the original graph\n",
    "\n",
    "Equation: \n",
    "\n",
    "$$\\lambda' c_i = \\sum_j^N A_{ij} c_j$$"
   ]
  },
  {
   "cell_type": "code",
   "execution_count": 3,
   "metadata": {},
   "outputs": [
    {
     "data": {
      "text/plain": [
       "array([-1.41421356e+00,  9.77950360e-17,  1.41421356e+00])"
      ]
     },
     "execution_count": 3,
     "metadata": {},
     "output_type": "execute_result"
    }
   ],
   "source": [
    "A = nx.to_numpy_array(G)\n",
    "eigvals, eigvecs = np.linalg.eig(A)\n",
    "\n",
    "eigvals"
   ]
  },
  {
   "cell_type": "code",
   "execution_count": 4,
   "metadata": {},
   "outputs": [
    {
     "data": {
      "text/plain": [
       "array([0.5       , 0.70710678, 0.5       ])"
      ]
     },
     "execution_count": 4,
     "metadata": {},
     "output_type": "execute_result"
    }
   ],
   "source": [
    "lambp = np.sqrt(2)\n",
    "cent = eigvecs[:,2]\n",
    "cent"
   ]
  },
  {
   "cell_type": "markdown",
   "metadata": {},
   "source": [
    "Now calculate $c_\\star,c_\\times$ from the obtained centralities."
   ]
  },
  {
   "cell_type": "code",
   "execution_count": 5,
   "metadata": {},
   "outputs": [
    {
     "data": {
      "text/plain": [
       "0.7071067811865475"
      ]
     },
     "execution_count": 5,
     "metadata": {},
     "output_type": "execute_result"
    }
   ],
   "source": [
    "c_star = np.sqrt(2 * (A[0,1] * cent[0] + A[1,2] * cent[2]) * cent[1]/ (2*lambp)) \n",
    "c_star"
   ]
  },
  {
   "cell_type": "code",
   "execution_count": 6,
   "metadata": {},
   "outputs": [
    {
     "data": {
      "text/plain": [
       "1.0"
      ]
     },
     "execution_count": 6,
     "metadata": {},
     "output_type": "execute_result"
    }
   ],
   "source": [
    "c_times = np.sqrt(2)*c_star\n",
    "c_times"
   ]
  },
  {
   "cell_type": "markdown",
   "metadata": {},
   "source": [
    "Solution Z-eigenvector + normalization condition:"
   ]
  },
  {
   "cell_type": "code",
   "execution_count": 7,
   "metadata": {},
   "outputs": [
    {
     "data": {
      "text/plain": [
       "array([0.14644661, 0.20710678, 0.14644661, 0.20710678, 0.29289322])"
      ]
     },
     "execution_count": 7,
     "metadata": {},
     "output_type": "execute_result"
    }
   ],
   "source": [
    "bc = np.hstack((cent, [c_star, c_times]))\n",
    "bc = bc / np.sum(bc)\n",
    "bc"
   ]
  },
  {
   "cell_type": "markdown",
   "metadata": {},
   "source": [
    "## Check against the tensor\n",
    "\n",
    "Equation to check, side by side:\n",
    "$$\\lambda c_i = \\sum_{jklm}^{N,\\star,\\times} T_{ijklm} c_j c_k c_l c_m $$\n",
    "\n",
    "\n",
    "Labels: c_star has index 3, c_times has index 4"
   ]
  },
  {
   "cell_type": "code",
   "execution_count": 8,
   "metadata": {},
   "outputs": [],
   "source": [
    "# As the hypergraph is uniform, equal weights in the hyperedges do not affect the later outcome\n",
    "# (they just displace the eigenvalue, but that is something we calculate by hand).\n",
    "w = 1#/(4*3)"
   ]
  },
  {
   "cell_type": "code",
   "execution_count": 9,
   "metadata": {},
   "outputs": [],
   "source": [
    "# Manually construct the tensor dictionary\n",
    "Tdict = {tuple(perm) : w for perm in permutations([0,1,3,4,4])} \n",
    "Tdict.update({tuple(perm) : w for perm in permutations([1,2,3,4,4])} )"
   ]
  },
  {
   "cell_type": "code",
   "execution_count": 10,
   "metadata": {},
   "outputs": [
    {
     "data": {
      "text/plain": [
       "({(0, 1, 3, 4, 4): 1,\n",
       "  (0, 1, 4, 3, 4): 1,\n",
       "  (0, 1, 4, 4, 3): 1,\n",
       "  (0, 3, 1, 4, 4): 1,\n",
       "  (0, 3, 4, 1, 4): 1,\n",
       "  (0, 3, 4, 4, 1): 1,\n",
       "  (0, 4, 1, 3, 4): 1,\n",
       "  (0, 4, 1, 4, 3): 1,\n",
       "  (0, 4, 3, 1, 4): 1,\n",
       "  (0, 4, 3, 4, 1): 1,\n",
       "  (0, 4, 4, 1, 3): 1,\n",
       "  (0, 4, 4, 3, 1): 1,\n",
       "  (1, 0, 3, 4, 4): 1,\n",
       "  (1, 0, 4, 3, 4): 1,\n",
       "  (1, 0, 4, 4, 3): 1,\n",
       "  (1, 3, 0, 4, 4): 1,\n",
       "  (1, 3, 4, 0, 4): 1,\n",
       "  (1, 3, 4, 4, 0): 1,\n",
       "  (1, 4, 0, 3, 4): 1,\n",
       "  (1, 4, 0, 4, 3): 1,\n",
       "  (1, 4, 3, 0, 4): 1,\n",
       "  (1, 4, 3, 4, 0): 1,\n",
       "  (1, 4, 4, 0, 3): 1,\n",
       "  (1, 4, 4, 3, 0): 1,\n",
       "  (3, 0, 1, 4, 4): 1,\n",
       "  (3, 0, 4, 1, 4): 1,\n",
       "  (3, 0, 4, 4, 1): 1,\n",
       "  (3, 1, 0, 4, 4): 1,\n",
       "  (3, 1, 4, 0, 4): 1,\n",
       "  (3, 1, 4, 4, 0): 1,\n",
       "  (3, 4, 0, 1, 4): 1,\n",
       "  (3, 4, 0, 4, 1): 1,\n",
       "  (3, 4, 1, 0, 4): 1,\n",
       "  (3, 4, 1, 4, 0): 1,\n",
       "  (3, 4, 4, 0, 1): 1,\n",
       "  (3, 4, 4, 1, 0): 1,\n",
       "  (4, 0, 1, 3, 4): 1,\n",
       "  (4, 0, 1, 4, 3): 1,\n",
       "  (4, 0, 3, 1, 4): 1,\n",
       "  (4, 0, 3, 4, 1): 1,\n",
       "  (4, 0, 4, 1, 3): 1,\n",
       "  (4, 0, 4, 3, 1): 1,\n",
       "  (4, 1, 0, 3, 4): 1,\n",
       "  (4, 1, 0, 4, 3): 1,\n",
       "  (4, 1, 3, 0, 4): 1,\n",
       "  (4, 1, 3, 4, 0): 1,\n",
       "  (4, 1, 4, 0, 3): 1,\n",
       "  (4, 1, 4, 3, 0): 1,\n",
       "  (4, 3, 0, 1, 4): 1,\n",
       "  (4, 3, 0, 4, 1): 1,\n",
       "  (4, 3, 1, 0, 4): 1,\n",
       "  (4, 3, 1, 4, 0): 1,\n",
       "  (4, 3, 4, 0, 1): 1,\n",
       "  (4, 3, 4, 1, 0): 1,\n",
       "  (4, 4, 0, 1, 3): 1,\n",
       "  (4, 4, 0, 3, 1): 1,\n",
       "  (4, 4, 1, 0, 3): 1,\n",
       "  (4, 4, 1, 3, 0): 1,\n",
       "  (4, 4, 3, 0, 1): 1,\n",
       "  (4, 4, 3, 1, 0): 1,\n",
       "  (1, 2, 3, 4, 4): 1,\n",
       "  (1, 2, 4, 3, 4): 1,\n",
       "  (1, 2, 4, 4, 3): 1,\n",
       "  (1, 3, 2, 4, 4): 1,\n",
       "  (1, 3, 4, 2, 4): 1,\n",
       "  (1, 3, 4, 4, 2): 1,\n",
       "  (1, 4, 2, 3, 4): 1,\n",
       "  (1, 4, 2, 4, 3): 1,\n",
       "  (1, 4, 3, 2, 4): 1,\n",
       "  (1, 4, 3, 4, 2): 1,\n",
       "  (1, 4, 4, 2, 3): 1,\n",
       "  (1, 4, 4, 3, 2): 1,\n",
       "  (2, 1, 3, 4, 4): 1,\n",
       "  (2, 1, 4, 3, 4): 1,\n",
       "  (2, 1, 4, 4, 3): 1,\n",
       "  (2, 3, 1, 4, 4): 1,\n",
       "  (2, 3, 4, 1, 4): 1,\n",
       "  (2, 3, 4, 4, 1): 1,\n",
       "  (2, 4, 1, 3, 4): 1,\n",
       "  (2, 4, 1, 4, 3): 1,\n",
       "  (2, 4, 3, 1, 4): 1,\n",
       "  (2, 4, 3, 4, 1): 1,\n",
       "  (2, 4, 4, 1, 3): 1,\n",
       "  (2, 4, 4, 3, 1): 1,\n",
       "  (3, 1, 2, 4, 4): 1,\n",
       "  (3, 1, 4, 2, 4): 1,\n",
       "  (3, 1, 4, 4, 2): 1,\n",
       "  (3, 2, 1, 4, 4): 1,\n",
       "  (3, 2, 4, 1, 4): 1,\n",
       "  (3, 2, 4, 4, 1): 1,\n",
       "  (3, 4, 1, 2, 4): 1,\n",
       "  (3, 4, 1, 4, 2): 1,\n",
       "  (3, 4, 2, 1, 4): 1,\n",
       "  (3, 4, 2, 4, 1): 1,\n",
       "  (3, 4, 4, 1, 2): 1,\n",
       "  (3, 4, 4, 2, 1): 1,\n",
       "  (4, 1, 2, 3, 4): 1,\n",
       "  (4, 1, 2, 4, 3): 1,\n",
       "  (4, 1, 3, 2, 4): 1,\n",
       "  (4, 1, 3, 4, 2): 1,\n",
       "  (4, 1, 4, 2, 3): 1,\n",
       "  (4, 1, 4, 3, 2): 1,\n",
       "  (4, 2, 1, 3, 4): 1,\n",
       "  (4, 2, 1, 4, 3): 1,\n",
       "  (4, 2, 3, 1, 4): 1,\n",
       "  (4, 2, 3, 4, 1): 1,\n",
       "  (4, 2, 4, 1, 3): 1,\n",
       "  (4, 2, 4, 3, 1): 1,\n",
       "  (4, 3, 1, 2, 4): 1,\n",
       "  (4, 3, 1, 4, 2): 1,\n",
       "  (4, 3, 2, 1, 4): 1,\n",
       "  (4, 3, 2, 4, 1): 1,\n",
       "  (4, 3, 4, 1, 2): 1,\n",
       "  (4, 3, 4, 2, 1): 1,\n",
       "  (4, 4, 1, 2, 3): 1,\n",
       "  (4, 4, 1, 3, 2): 1,\n",
       "  (4, 4, 2, 1, 3): 1,\n",
       "  (4, 4, 2, 3, 1): 1,\n",
       "  (4, 4, 3, 1, 2): 1,\n",
       "  (4, 4, 3, 2, 1): 1},\n",
       " (4, 4, 4, 4, 4))"
      ]
     },
     "execution_count": 10,
     "metadata": {},
     "output_type": "execute_result"
    }
   ],
   "source": [
    "T = (Tdict, (4,4,4,4,4))\n",
    "T"
   ]
  },
  {
   "cell_type": "code",
   "execution_count": 11,
   "metadata": {},
   "outputs": [
    {
     "data": {
      "text/plain": [
       "array([0.04415588, 0.06244584, 0.04415588, 0.06244584, 0.08831175])"
      ]
     },
     "execution_count": 11,
     "metadata": {},
     "output_type": "execute_result"
    }
   ],
   "source": [
    "# right hand side\n",
    "apply(T, bc)"
   ]
  },
  {
   "cell_type": "code",
   "execution_count": 12,
   "metadata": {},
   "outputs": [
    {
     "data": {
      "text/plain": [
       "array([0.04415588, 0.06244584, 0.04415588, 0.06244584, 0.08831175])"
      ]
     },
     "execution_count": 12,
     "metadata": {},
     "output_type": "execute_result"
    }
   ],
   "source": [
    "# Z-eigenvalue\n",
    "lamb = lambp * (12 * bc[3] * bc[4]**2)\n",
    "\n",
    "# right hand side\n",
    "lamb * bc"
   ]
  },
  {
   "cell_type": "code",
   "execution_count": null,
   "metadata": {},
   "outputs": [],
   "source": []
  },
  {
   "cell_type": "code",
   "execution_count": null,
   "metadata": {},
   "outputs": [],
   "source": []
  }
 ],
 "metadata": {
  "kernelspec": {
   "display_name": "Python 3",
   "language": "python",
   "name": "python3"
  },
  "language_info": {
   "codemirror_mode": {
    "name": "ipython",
    "version": 3
   },
   "file_extension": ".py",
   "mimetype": "text/x-python",
   "name": "python",
   "nbconvert_exporter": "python",
   "pygments_lexer": "ipython3",
   "version": "3.10.12"
  },
  "orig_nbformat": 4
 },
 "nbformat": 4,
 "nbformat_minor": 2
}
