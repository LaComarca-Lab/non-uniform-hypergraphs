{
 "cells": [
  {
   "attachments": {},
   "cell_type": "markdown",
   "metadata": {},
   "source": [
    "# Use partial-CEC (=projection) to break larger simplices into smaller ones"
   ]
  },
  {
   "cell_type": "code",
   "execution_count": 1,
   "metadata": {},
   "outputs": [],
   "source": [
    "import numpy as np\n",
    "import xgi\n",
    "\n",
    "\n",
    "from hyperfunctions import *"
   ]
  },
  {
   "cell_type": "code",
   "execution_count": 2,
   "metadata": {},
   "outputs": [
    {
     "name": "stdout",
     "output_type": "stream",
     "text": [
      "The hypergraph has [0, 1, 2, 3, 4] nodes and ['a', 'b', 'c', 'd'] edges\n"
     ]
    },
    {
     "data": {
      "image/png": "[encoded data removed]",
      "text/plain": [
       "<Figure size 640x480 with 1 Axes>"
      ]
     },
     "metadata": {},
     "output_type": "display_data"
    }
   ],
   "source": [
    "hyperedge_dict = {'a': [0,1,2], 'b': [0,1,2,3], 'c': [1,3,4], 'd': [3,4]}\n",
    "H = xgi.Hypergraph(hyperedge_dict)\n",
    "print(f\"The hypergraph has {H.nodes} nodes and {H.edges} edges\")\n",
    "xgi.draw(H, node_labels=True, font_color_nodes=\"blue\")"
   ]
  },
  {
   "cell_type": "code",
   "execution_count": 24,
   "metadata": {},
   "outputs": [],
   "source": [
    "def uniform_adjacency_combinatorial_tensor(H, m = None):\n",
    "    '''Given a Hypergraph H, returns its adjacency tensor (with the Permutations with Repetions number corresponding to \n",
    "    the number of phantom nodes added).\n",
    "\n",
    "    If the hypergraph is not uniform or m != the dimension of the hyperedges, we uplift the lower-dimensional hyperedges \n",
    "    by introducing a \"phantom node\" (indexed as N+1), and we project down the higher-dimensional hyperedges.\n",
    "\n",
    "    :param h :: Hypergraph:\n",
    "    :return t :: numpy.ndarray:\n",
    "    '''\n",
    "        \n",
    "    N = len(H.nodes)\n",
    "\n",
    "    # Find maximum hyperedge dimension\n",
    "    if not m:\n",
    "        m = H.edges.size.max()\n",
    "    else:\n",
    "        assert isinstance(m, int)\n",
    "\n",
    "    if not xgi.is_uniform(H):\n",
    "        # In case it isn't uniform, we node to add the phantom node\n",
    "        N += 1\n",
    "\n",
    "    shape = [N] * m\n",
    "    T = np.zeros(shape)\n",
    "\n",
    "    # Insert edges in the tensor, multiplying them by their combinatorial factor\n",
    "    for hyperedge in H.edges.members():\n",
    "\n",
    "        initial_len = len(hyperedge)\n",
    "        edge = list(hyperedge) # convert to list to add phantom nodes (possibly more than 1)\n",
    "\n",
    "        # Uplift adding an extra node enough times\n",
    "        if len(edge) <= m:\n",
    "            \n",
    "            while len(edge) < m:\n",
    "                edge.append(N - 1)\n",
    "            perms = list(permutations(edge))\n",
    "\n",
    "            # Combinatorial factor\n",
    "            entry = np.math.factorial(initial_len)/np.math.factorial(len(edge))\n",
    "\n",
    "        # Projection if higher dimensional\n",
    "        else:\n",
    "            perms = list(combinations(edge, m))\n",
    "            entry = 1/len(perms)\n",
    "\n",
    "        # Add the permutation (uplift) / combination (projection) to the tensor\n",
    "        for indices in perms:\n",
    "            T[indices] += entry\n",
    "\n",
    "\n",
    "    return T\n"
   ]
  },
  {
   "cell_type": "code",
   "execution_count": 28,
   "metadata": {},
   "outputs": [
    {
     "data": {
      "text/plain": [
       "{'a': {0, 1, 2}, 'b': {0, 1, 2, 3}, 'c': {1, 3, 4}, 'd': {3, 4}}"
      ]
     },
     "execution_count": 28,
     "metadata": {},
     "output_type": "execute_result"
    }
   ],
   "source": [
    "H.edges.members(dtype=dict)"
   ]
  },
  {
   "cell_type": "code",
   "execution_count": 27,
   "metadata": {},
   "outputs": [
    {
     "data": {
      "text/plain": [
       "{'a': 3, 'b': 4, 'c': 3, 'd': 2}"
      ]
     },
     "execution_count": 27,
     "metadata": {},
     "output_type": "execute_result"
    }
   ],
   "source": [
    "{edge: len(edgenodes) for edge, edgenodes in H.edges.members(dtype=dict).items()}"
   ]
  },
  {
   "cell_type": "code",
   "execution_count": 25,
   "metadata": {},
   "outputs": [
    {
     "data": {
      "text/plain": [
       "{'a': 3, 'b': 4, 'c': 3, 'd': 2}"
      ]
     },
     "execution_count": 25,
     "metadata": {},
     "output_type": "execute_result"
    }
   ],
   "source": [
    "H.edges.size.asdict()"
   ]
  },
  {
   "cell_type": "code",
   "execution_count": 17,
   "metadata": {},
   "outputs": [
    {
     "data": {
      "text/plain": [
       "{1, 3, 4}"
      ]
     },
     "execution_count": 17,
     "metadata": {},
     "output_type": "execute_result"
    }
   ],
   "source": [
    "np.max(H.edges.members())"
   ]
  },
  {
   "cell_type": "code",
   "execution_count": 9,
   "metadata": {},
   "outputs": [],
   "source": [
    "T3 = uniform_adjacency_combinatorial_tensor(H, 3)"
   ]
  },
  {
   "cell_type": "code",
   "execution_count": 10,
   "metadata": {},
   "outputs": [
    {
     "data": {
      "text/plain": [
       "(6, 6, 6)"
      ]
     },
     "execution_count": 10,
     "metadata": {},
     "output_type": "execute_result"
    }
   ],
   "source": [
    "T.shape"
   ]
  },
  {
   "cell_type": "code",
   "execution_count": 11,
   "metadata": {},
   "outputs": [
    {
     "data": {
      "text/plain": [
       "[{0, 1, 2}, {0, 1, 2, 3}, {1, 3, 4}, {3, 4}]"
      ]
     },
     "execution_count": 11,
     "metadata": {},
     "output_type": "execute_result"
    }
   ],
   "source": [
    "H.edges.members()"
   ]
  },
  {
   "cell_type": "code",
   "execution_count": 12,
   "metadata": {},
   "outputs": [
    {
     "name": "stdout",
     "output_type": "stream",
     "text": [
      "(6, 6, 6)\n",
      "[(0, 1, 2), (0, 1, 3), (0, 2, 1), (0, 2, 3), (1, 0, 2), (1, 2, 0), (1, 2, 3), (1, 3, 4), (1, 4, 3), (2, 0, 1), (2, 1, 0), (3, 1, 4), (3, 4, 1), (3, 4, 5), (3, 5, 4), (4, 1, 3), (4, 3, 1), (4, 3, 5), (4, 5, 3), (5, 3, 4), (5, 4, 3)]\n"
     ]
    }
   ],
   "source": [
    "print(T.shape)\n",
    "print([(np.nonzero(T)[0][i], np.nonzero(T)[1][i], np.nonzero(T)[2][i]) for i in range(len(np.nonzero(T)[0]))])"
   ]
  },
  {
   "cell_type": "code",
   "execution_count": 13,
   "metadata": {},
   "outputs": [
    {
     "data": {
      "text/plain": [
       "1.25"
      ]
     },
     "execution_count": 13,
     "metadata": {},
     "output_type": "execute_result"
    }
   ],
   "source": [
    "T[0,1,2]"
   ]
  },
  {
   "cell_type": "code",
   "execution_count": null,
   "metadata": {},
   "outputs": [],
   "source": []
  }
 ],
 "metadata": {
  "kernelspec": {
   "display_name": "Python 3",
   "language": "python",
   "name": "python3"
  },
  "language_info": {
   "codemirror_mode": {
    "name": "ipython",
    "version": 3
   },
   "file_extension": ".py",
   "mimetype": "text/x-python",
   "name": "python",
   "nbconvert_exporter": "python",
   "pygments_lexer": "ipython3",
   "version": "3.10.6"
  },
  "orig_nbformat": 4,
  "vscode": {
   "interpreter": {
    "hash": "916dbcbb3f70747c44a77c7bcd40155683ae19c65e1c03b4aa3499c5328201f1"
   }
  }
 },
 "nbformat": 4,
 "nbformat_minor": 2
}
