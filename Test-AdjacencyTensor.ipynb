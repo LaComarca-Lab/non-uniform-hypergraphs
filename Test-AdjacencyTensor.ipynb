{
 "cells": [
  {
   "attachments": {},
   "cell_type": "markdown",
   "metadata": {},
   "source": [
    "# Testing the adjacency_tensor function"
   ]
  },
  {
   "cell_type": "code",
   "execution_count": 1,
   "metadata": {},
   "outputs": [],
   "source": [
    "import numpy as np\n",
    "import xgi\n",
    "import networkx as nx\n",
    "import copy\n",
    "from collections import OrderedDict, Counter\n",
    "import matplotlib.pyplot as plt\n",
    "from itertools import permutations\n",
    "\n",
    "from hyperfunctions import *"
   ]
  },
  {
   "cell_type": "code",
   "execution_count": 2,
   "metadata": {},
   "outputs": [
    {
     "name": "stdout",
     "output_type": "stream",
     "text": [
      "The hypergraph has [0, 1, 2, 4, 5, 3] nodes and ['a', 'b', 'c', 'd'] edges\n"
     ]
    },
    {
     "data": {
      "image/png": "[encoded data removed]",
      "text/plain": [
       "<Figure size 640x480 with 1 Axes>"
      ]
     },
     "metadata": {},
     "output_type": "display_data"
    }
   ],
   "source": [
    "hyperedge_dict = {'a': [0,1,2], 'b': [1,4,5], 'c': [1,3], 'd': [3,4]}\n",
    "H = xgi.Hypergraph(hyperedge_dict)\n",
    "print(f\"The hypergraph has {H.nodes} nodes and {H.edges} edges\")\n",
    "xgi.draw(H, node_labels=True, font_color_nodes=\"blue\")"
   ]
  },
  {
   "cell_type": "code",
   "execution_count": 3,
   "metadata": {},
   "outputs": [],
   "source": [
    "def uniform_adjacency_tensor(H):\n",
    "    '''\n",
    "    Given a Hypergraph H, returns its adjacency tensor.\n",
    "    If the hypergraph is non-uniform, \n",
    "    we first uniformize (Hu) it adding a artificial node\n",
    "    :param h :: Hypergraph:\n",
    "    :return t :: numpy.ndarray:\n",
    "    '''\n",
    "    assert isinstance(H, xgi.Hypergraph)\n",
    "\n",
    "    if not xgi.is_uniform(H):\n",
    "        Hu = uniformize(H)\n",
    "    \n",
    "    dimension = len(Hu.nodes)\n",
    "    m = len(Hu.edges.members()[0])\n",
    "    \n",
    "    shape = [dimension] * m\n",
    "    T = np.zeros(shape)\n",
    "\n",
    "    for edge in Hu.edges.members():\n",
    "        \n",
    "        if '*' in edge:\n",
    "            edge.remove('*')\n",
    "            edge.add(dimension-1)\n",
    "        \n",
    "        perms = permutations(edge)\n",
    "        \n",
    "        for indices in perms:\n",
    "            T[indices] = 1\n",
    "    \n",
    "    return T"
   ]
  },
  {
   "cell_type": "code",
   "execution_count": 4,
   "metadata": {},
   "outputs": [
    {
     "data": {
      "text/plain": [
       "array([[[0., 0., 0., 0., 0., 0., 0.],\n",
       "        [0., 0., 1., 0., 0., 0., 0.],\n",
       "        [0., 1., 0., 0., 0., 0., 0.],\n",
       "        [0., 0., 0., 0., 0., 0., 0.],\n",
       "        [0., 0., 0., 0., 0., 0., 0.],\n",
       "        [0., 0., 0., 0., 0., 0., 0.],\n",
       "        [0., 0., 0., 0., 0., 0., 0.]],\n",
       "\n",
       "       [[0., 0., 1., 0., 0., 0., 0.],\n",
       "        [0., 0., 0., 0., 0., 0., 0.],\n",
       "        [1., 0., 0., 0., 0., 0., 0.],\n",
       "        [0., 0., 0., 0., 0., 0., 1.],\n",
       "        [0., 0., 0., 0., 0., 1., 0.],\n",
       "        [0., 0., 0., 0., 1., 0., 0.],\n",
       "        [0., 0., 0., 1., 0., 0., 0.]],\n",
       "\n",
       "       [[0., 1., 0., 0., 0., 0., 0.],\n",
       "        [1., 0., 0., 0., 0., 0., 0.],\n",
       "        [0., 0., 0., 0., 0., 0., 0.],\n",
       "        [0., 0., 0., 0., 0., 0., 0.],\n",
       "        [0., 0., 0., 0., 0., 0., 0.],\n",
       "        [0., 0., 0., 0., 0., 0., 0.],\n",
       "        [0., 0., 0., 0., 0., 0., 0.]],\n",
       "\n",
       "       [[0., 0., 0., 0., 0., 0., 0.],\n",
       "        [0., 0., 0., 0., 0., 0., 1.],\n",
       "        [0., 0., 0., 0., 0., 0., 0.],\n",
       "        [0., 0., 0., 0., 0., 0., 0.],\n",
       "        [0., 0., 0., 0., 0., 0., 1.],\n",
       "        [0., 0., 0., 0., 0., 0., 0.],\n",
       "        [0., 1., 0., 0., 1., 0., 0.]],\n",
       "\n",
       "       [[0., 0., 0., 0., 0., 0., 0.],\n",
       "        [0., 0., 0., 0., 0., 1., 0.],\n",
       "        [0., 0., 0., 0., 0., 0., 0.],\n",
       "        [0., 0., 0., 0., 0., 0., 1.],\n",
       "        [0., 0., 0., 0., 0., 0., 0.],\n",
       "        [0., 1., 0., 0., 0., 0., 0.],\n",
       "        [0., 0., 0., 1., 0., 0., 0.]],\n",
       "\n",
       "       [[0., 0., 0., 0., 0., 0., 0.],\n",
       "        [0., 0., 0., 0., 1., 0., 0.],\n",
       "        [0., 0., 0., 0., 0., 0., 0.],\n",
       "        [0., 0., 0., 0., 0., 0., 0.],\n",
       "        [0., 1., 0., 0., 0., 0., 0.],\n",
       "        [0., 0., 0., 0., 0., 0., 0.],\n",
       "        [0., 0., 0., 0., 0., 0., 0.]],\n",
       "\n",
       "       [[0., 0., 0., 0., 0., 0., 0.],\n",
       "        [0., 0., 0., 1., 0., 0., 0.],\n",
       "        [0., 0., 0., 0., 0., 0., 0.],\n",
       "        [0., 1., 0., 0., 1., 0., 0.],\n",
       "        [0., 0., 0., 1., 0., 0., 0.],\n",
       "        [0., 0., 0., 0., 0., 0., 0.],\n",
       "        [0., 0., 0., 0., 0., 0., 0.]]])"
      ]
     },
     "execution_count": 4,
     "metadata": {},
     "output_type": "execute_result"
    }
   ],
   "source": [
    "T = uniform_adjacency_tensor(H)\n",
    "T"
   ]
  },
  {
   "cell_type": "code",
   "execution_count": 5,
   "metadata": {},
   "outputs": [],
   "source": [
    "def repeated_perms(li, m):\n",
    "    '''Given a list with unique elements, return the set of lists obtained from it\n",
    "    by duplicating any entries to reach length m lists, and their permutations. \n",
    "    '''\n",
    "\n",
    "    unique = len(li)\n",
    "    to_add = m - unique\n",
    "    \n",
    "    assert to_add > 0 and max(Counter(li).values()) == 1 and isinstance(li,list)\n",
    "\n",
    "    goodperms = set()\n",
    "    for perm in permutations(li * (to_add+1), m):\n",
    "        if len(Counter(perm).values()) == unique:\n",
    "            goodperms.add(perm)\n",
    "    \n",
    "    return goodperms"
   ]
  },
  {
   "cell_type": "code",
   "execution_count": 6,
   "metadata": {},
   "outputs": [],
   "source": [
    "def uniform_adjacency_tensor_Benson(H):\n",
    "    '''\n",
    "    Given a non-uniform Hypergraph H, returns its adjacency tensor,\n",
    "    as defined by Benson in the conclusions of this paper.\n",
    "    :param h :: Hypergraph:\n",
    "    :return t :: numpy.ndarray:\n",
    "    '''\n",
    "    assert isinstance(H, xgi.Hypergraph)\n",
    "\n",
    "    if xgi.is_uniform(H):\n",
    "        raise Exception('Use the uniform_adjacency_tensor() funcion')\n",
    "    \n",
    "    # Obtain the list of hyperedge lengths\n",
    "    ms = [len(he) for he in H.edges.members()]\n",
    "\n",
    "    # Initialize a tensor with the order of the maximum hyperedge\n",
    "    shape = [len(H.nodes)] * max(ms)  \n",
    "    T = np.zeros(shape)\n",
    "    \n",
    "    for he in H.edges.members():\n",
    "        \n",
    "        repeat = max(ms) - len(he)\n",
    "        \n",
    "        if repeat == 0:\n",
    "            goodperms = permutations(he)\n",
    "        else:\n",
    "            goodperms = repeated_perms(list(he), max(ms))\n",
    "        \n",
    "        for indices in goodperms:\n",
    "            T[indices] = 1\n",
    "    \n",
    "    return T"
   ]
  },
  {
   "cell_type": "code",
   "execution_count": 7,
   "metadata": {},
   "outputs": [
    {
     "data": {
      "text/plain": [
       "array([[[0., 0., 0., 0., 0., 0.],\n",
       "        [0., 0., 1., 0., 0., 0.],\n",
       "        [0., 1., 0., 0., 0., 0.],\n",
       "        [0., 0., 0., 0., 0., 0.],\n",
       "        [0., 0., 0., 0., 0., 0.],\n",
       "        [0., 0., 0., 0., 0., 0.]],\n",
       "\n",
       "       [[0., 0., 1., 0., 0., 0.],\n",
       "        [0., 0., 0., 1., 0., 0.],\n",
       "        [1., 0., 0., 0., 0., 0.],\n",
       "        [0., 1., 0., 1., 0., 0.],\n",
       "        [0., 0., 0., 0., 0., 1.],\n",
       "        [0., 0., 0., 0., 1., 0.]],\n",
       "\n",
       "       [[0., 1., 0., 0., 0., 0.],\n",
       "        [1., 0., 0., 0., 0., 0.],\n",
       "        [0., 0., 0., 0., 0., 0.],\n",
       "        [0., 0., 0., 0., 0., 0.],\n",
       "        [0., 0., 0., 0., 0., 0.],\n",
       "        [0., 0., 0., 0., 0., 0.]],\n",
       "\n",
       "       [[0., 0., 0., 0., 0., 0.],\n",
       "        [0., 1., 0., 1., 0., 0.],\n",
       "        [0., 0., 0., 0., 0., 0.],\n",
       "        [0., 1., 0., 0., 1., 0.],\n",
       "        [0., 0., 0., 1., 1., 0.],\n",
       "        [0., 0., 0., 0., 0., 0.]],\n",
       "\n",
       "       [[0., 0., 0., 0., 0., 0.],\n",
       "        [0., 0., 0., 0., 0., 1.],\n",
       "        [0., 0., 0., 0., 0., 0.],\n",
       "        [0., 0., 0., 1., 1., 0.],\n",
       "        [0., 0., 0., 1., 0., 0.],\n",
       "        [0., 1., 0., 0., 0., 0.]],\n",
       "\n",
       "       [[0., 0., 0., 0., 0., 0.],\n",
       "        [0., 0., 0., 0., 1., 0.],\n",
       "        [0., 0., 0., 0., 0., 0.],\n",
       "        [0., 0., 0., 0., 0., 0.],\n",
       "        [0., 1., 0., 0., 0., 0.],\n",
       "        [0., 0., 0., 0., 0., 0.]]])"
      ]
     },
     "execution_count": 7,
     "metadata": {},
     "output_type": "execute_result"
    }
   ],
   "source": [
    "TB = uniform_adjacency_tensor_Benson(H)\n",
    "TB"
   ]
  },
  {
   "cell_type": "code",
   "execution_count": 8,
   "metadata": {},
   "outputs": [
    {
     "ename": "NameError",
     "evalue": "name 'a' is not defined",
     "output_type": "error",
     "traceback": [
      "\u001b[0;31m---------------------------------------------------------------------------\u001b[0m",
      "\u001b[0;31mNameError\u001b[0m                                 Traceback (most recent call last)",
      "\u001b[1;32m/home/gonzalo/Documents/Universidades/URJC/Projects/non-uniform-hypergraphs/Test-AdjacencyTensor.ipynb Cell 10\u001b[0m in \u001b[0;36m<cell line: 1>\u001b[0;34m()\u001b[0m\n\u001b[0;32m----> <a href='vscode-notebook-cell:/home/gonzalo/Documents/Universidades/URJC/Projects/non-uniform-hypergraphs/Test-AdjacencyTensor.ipynb#X36sZmlsZQ%3D%3D?line=0'>1</a>\u001b[0m a\n",
      "\u001b[0;31mNameError\u001b[0m: name 'a' is not defined"
     ]
    }
   ],
   "source": [
    "a"
   ]
  },
  {
   "cell_type": "code",
   "execution_count": null,
   "metadata": {},
   "outputs": [
    {
     "name": "stderr",
     "output_type": "stream",
     "text": [
      "/tmp/ipykernel_7947/2386224752.py:42: UserWarning: Matplotlib is currently using svg, which is a non-GUI backend, so cannot show the figure.\n",
      "  plt.show()\n"
     ]
    }
   ],
   "source": [
    "import matplotlib.pyplot as plt\n",
    "import networkx as nx\n",
    "import matplotlib as mpl\n",
    "\n",
    "mpl.use('svg')\n",
    "new_rc_params = {'text.usetex': False,\n",
    "\"svg.fonttype\": 'none'\n",
    "}\n",
    "mpl.rcParams.update(new_rc_params)\n",
    "\n",
    "# Create a complete graph with an odd number of nodes\n",
    "nnodes = 10\n",
    "G = nx.complete_graph(nnodes)\n",
    "\n",
    "#1,2,3\n",
    "\n",
    "edges = list(G.edges())\n",
    "for edge in edges:\n",
    "    if edge[0] in (6,7,8,9) and edge[1] in (6,7,8,9):\n",
    "        G[edge[0]][edge[1]][\"width\"] = 4\n",
    "    elif edge[0] in (3,4,5) and edge[1] not in (0,1,2):\n",
    "        G[edge[0]][edge[1]][\"width\"] = 2\n",
    "    elif edge[1] in (3,4,5) and edge[0] not in (0,1,2):\n",
    "        G[edge[0]][edge[1]][\"width\"] = 2\n",
    "    else:\n",
    "        G[edge[0]][edge[1]][\"width\"] = 0.8\n",
    "\n",
    "pos = nx.circular_layout(G)\n",
    "# Create a figure with 1:1 aspect ratio to preserve the circle.\n",
    "fig, ax = plt.subplots(figsize=(8, 8))\n",
    "nodecolor = ['magenta', 'magenta', 'magenta', 'blue', 'blue', 'blue', 'olive', 'olive', 'olive', 'olive']\n",
    "nodesize = [300,300,300,500,500,500,700,700,700,700]\n",
    "node_opts = {\"node_size\": nodesize, \"node_color\": nodecolor, \"edgecolors\": \"k\", \"linewidths\": 2.0}\n",
    "nx.draw_networkx_nodes(G, pos, **node_opts)\n",
    "#nx.draw_networkx_labels(G, pos, font_size=14)\n",
    "# Extract color from edge data\n",
    "edge_widths = [edgedata[\"width\"] for _, _, edgedata in G.edges(data=True)]\n",
    "nx.draw_networkx_edges(G, pos, width=edge_widths, edge_color='k')\n",
    "\n",
    "ax.set_axis_off()\n",
    "fig.tight_layout()\n",
    "plt.show()\n",
    "\n",
    "plt.savefig('smallweighted.pdf')"
   ]
  },
  {
   "cell_type": "code",
   "execution_count": null,
   "metadata": {},
   "outputs": [],
   "source": []
  }
 ],
 "metadata": {
  "kernelspec": {
   "display_name": "Python 3",
   "language": "python",
   "name": "python3"
  },
  "language_info": {
   "codemirror_mode": {
    "name": "ipython",
    "version": 3
   },
   "file_extension": ".py",
   "mimetype": "text/x-python",
   "name": "python",
   "nbconvert_exporter": "python",
   "pygments_lexer": "ipython3",
   "version": "3.10.6"
  },
  "orig_nbformat": 4,
  "vscode": {
   "interpreter": {
    "hash": "916dbcbb3f70747c44a77c7bcd40155683ae19c65e1c03b4aa3499c5328201f1"
   }
  }
 },
 "nbformat": 4,
 "nbformat_minor": 2
}
