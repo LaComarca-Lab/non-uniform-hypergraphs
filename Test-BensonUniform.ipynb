{
 "cells": [
  {
   "cell_type": "markdown",
   "id": "46a98611-0f12-42e2-9fcb-b1ec74c4df31",
   "metadata": {},
   "source": [
    "# Pruebas"
   ]
  },
  {
   "cell_type": "code",
   "execution_count": 1,
   "id": "eab502da-d4ea-4457-b314-d3d3cc6e7488",
   "metadata": {
    "tags": []
   },
   "outputs": [],
   "source": [
    "import networkx as nx\n",
    "import copy\n",
    "import numpy as np\n",
    "import xgi\n",
    "from itertools import permutations\n",
    "from itertools import combinations\n",
    "from collections import Counter\n",
    "\n",
    "from hyperfunctions import HEC_ours"
   ]
  },
  {
   "cell_type": "markdown",
   "id": "e458ad9d-b364-4725-a74e-5925aef7e251",
   "metadata": {},
   "source": [
    "## Increasing the edge to the desired length"
   ]
  },
  {
   "cell_type": "code",
   "execution_count": 2,
   "id": "877113bb-fac1-415e-ad04-047afeb57305",
   "metadata": {
    "tags": []
   },
   "outputs": [
    {
     "name": "stdout",
     "output_type": "stream",
     "text": [
      "(1, 2, 3)\n"
     ]
    }
   ],
   "source": [
    "edgeset = set()\n",
    "edgeset.add((1,2,3))\n",
    "for edge in edgeset:\n",
    "    print(edge)"
   ]
  },
  {
   "cell_type": "code",
   "execution_count": 3,
   "id": "7e91982f-f7f1-410c-a767-4ea976389bf0",
   "metadata": {
    "tags": []
   },
   "outputs": [],
   "source": [
    "def increase_edge(edgeset):\n",
    "    '''\n",
    "    Given some edges, returns all edges whose length is one higher with those same nodes\n",
    "    :param edgeset :: set of edges:\n",
    "    :return new_edgeset :: modified set of edges:\n",
    "    '''\n",
    "    \n",
    "    new_edgeset = set()\n",
    "    counterlist = [] # all counters must be different, otherwise we don't add the node\n",
    "    for edge in edgeset:\n",
    "        \n",
    "        edge = list(edge)\n",
    "        \n",
    "        # Add each node in the edge to itself, increasing in 1 the length\n",
    "        for node in edge:\n",
    "            \n",
    "            copyedge = copy.copy(edge)\n",
    "            copyedge.append(node)\n",
    "            \n",
    "            # Check for duplicates (permuted edges already with the same node count within)\n",
    "            if Counter(copyedge) not in counterlist: \n",
    "                new_edgeset.add(tuple(copyedge))\n",
    "                \n",
    "                counterlist.append(Counter(copyedge))\n",
    "            \n",
    "    return new_edgeset\n"
   ]
  },
  {
   "cell_type": "code",
   "execution_count": 4,
   "id": "425c774b-bfe4-4e1f-8f47-7867b1d34820",
   "metadata": {
    "tags": []
   },
   "outputs": [
    {
     "data": {
      "text/plain": [
       "{(1, 2, 3, 1), (1, 2, 3, 2), (1, 2, 3, 3)}"
      ]
     },
     "execution_count": 4,
     "metadata": {},
     "output_type": "execute_result"
    }
   ],
   "source": [
    "increase_edge(edgeset)"
   ]
  },
  {
   "cell_type": "markdown",
   "id": "3f7fd5a5-d185-4910-98a2-a7f72aa61f5c",
   "metadata": {},
   "source": [
    "### Do this repeatedly up to the desired length"
   ]
  },
  {
   "cell_type": "code",
   "execution_count": 5,
   "id": "ae9672db-3b35-4fdb-836c-f831b29cbf55",
   "metadata": {
    "tags": []
   },
   "outputs": [
    {
     "name": "stdout",
     "output_type": "stream",
     "text": [
      "{(1, 2, 3, 1, 3), (1, 2, 3, 2, 3), (1, 2, 3, 3, 3), (1, 2, 3, 1, 2), (1, 2, 3, 2, 2), (1, 2, 3, 1, 1)}\n"
     ]
    }
   ],
   "source": [
    "while len(list(edgeset)[0]) < 5:\n",
    "    edgeset = increase_edge(edgeset)\n",
    "    \n",
    "print(edgeset)"
   ]
  },
  {
   "cell_type": "code",
   "execution_count": 6,
   "id": "78eec19a-126c-4ffc-ae76-0b36d05a9ef1",
   "metadata": {
    "tags": []
   },
   "outputs": [
    {
     "name": "stdout",
     "output_type": "stream",
     "text": [
      "(1, 2, 3, 1, 3) -> {(2, 3, 1, 1, 3), (2, 1, 1, 3, 3), (3, 1, 3, 2, 1), (3, 1, 1, 3, 2), (1, 3, 3, 1, 2), (1, 1, 2, 3, 3), (1, 1, 3, 2, 3), (1, 1, 3, 3, 2), (3, 1, 3, 1, 2), (1, 2, 3, 3, 1), (3, 1, 1, 2, 3), (2, 1, 3, 3, 1), (1, 2, 1, 3, 3), (1, 3, 1, 3, 2), (3, 3, 1, 2, 1), (3, 1, 2, 3, 1), (1, 2, 3, 1, 3), (1, 3, 2, 3, 1), (3, 3, 1, 1, 2), (1, 3, 1, 2, 3), (2, 1, 3, 1, 3), (1, 3, 2, 1, 3), (3, 3, 2, 1, 1), (3, 2, 1, 3, 1), (2, 3, 3, 1, 1), (3, 1, 2, 1, 3), (2, 3, 1, 3, 1), (3, 2, 1, 1, 3), (1, 3, 3, 2, 1), (3, 2, 3, 1, 1)}\n",
      "(1, 2, 3, 2, 3) -> {(2, 1, 3, 3, 2), (1, 2, 3, 2, 3), (2, 1, 2, 3, 3), (3, 3, 2, 2, 1), (3, 1, 2, 3, 2), (3, 3, 1, 2, 2), (2, 3, 2, 3, 1), (1, 3, 2, 2, 3), (2, 2, 3, 3, 1), (1, 3, 2, 3, 2), (2, 1, 3, 2, 3), (2, 2, 3, 1, 3), (3, 2, 2, 3, 1), (3, 3, 2, 1, 2), (2, 3, 3, 1, 2), (2, 3, 3, 2, 1), (3, 1, 2, 2, 3), (3, 2, 1, 2, 3), (3, 2, 1, 3, 2), (3, 2, 3, 2, 1), (2, 3, 1, 3, 2), (1, 2, 2, 3, 3), (2, 3, 2, 1, 3), (3, 2, 2, 1, 3), (2, 3, 1, 2, 3), (1, 3, 3, 2, 2), (3, 2, 3, 1, 2), (3, 1, 3, 2, 2), (1, 2, 3, 3, 2), (2, 2, 1, 3, 3)}\n",
      "(1, 2, 3, 3, 3) -> {(2, 3, 3, 3, 1), (3, 2, 3, 3, 1), (3, 3, 2, 1, 3), (3, 2, 1, 3, 3), (2, 3, 3, 1, 3), (2, 3, 1, 3, 3), (1, 3, 3, 3, 2), (3, 3, 3, 2, 1), (3, 3, 3, 1, 2), (3, 1, 3, 3, 2), (1, 3, 3, 2, 3), (3, 2, 3, 1, 3), (3, 1, 3, 2, 3), (1, 2, 3, 3, 3), (3, 3, 2, 3, 1), (3, 3, 1, 3, 2), (2, 1, 3, 3, 3), (3, 1, 2, 3, 3), (3, 3, 1, 2, 3), (1, 3, 2, 3, 3)}\n",
      "(1, 2, 3, 1, 2) -> {(2, 1, 3, 1, 2), (2, 1, 3, 2, 1), (1, 3, 2, 1, 2), (2, 2, 3, 1, 1), (3, 1, 2, 1, 2), (3, 1, 2, 2, 1), (3, 2, 1, 2, 1), (2, 3, 2, 1, 1), (3, 2, 2, 1, 1), (1, 2, 2, 3, 1), (2, 3, 1, 2, 1), (3, 2, 1, 1, 2), (2, 1, 1, 3, 2), (2, 3, 1, 1, 2), (1, 2, 2, 1, 3), (1, 1, 2, 3, 2), (2, 1, 1, 2, 3), (1, 1, 3, 2, 2), (3, 1, 1, 2, 2), (2, 2, 1, 3, 1), (1, 1, 2, 2, 3), (2, 1, 2, 1, 3), (1, 2, 3, 2, 1), (2, 1, 2, 3, 1), (2, 2, 1, 1, 3), (1, 2, 1, 3, 2), (1, 3, 2, 2, 1), (1, 2, 3, 1, 2), (1, 2, 1, 2, 3), (1, 3, 1, 2, 2)}\n",
      "(1, 2, 3, 2, 2) -> {(2, 3, 1, 2, 2), (1, 2, 2, 2, 3), (2, 2, 1, 2, 3), (2, 2, 1, 3, 2), (1, 2, 3, 2, 2), (2, 1, 2, 3, 2), (2, 2, 2, 3, 1), (1, 3, 2, 2, 2), (2, 1, 2, 2, 3), (2, 2, 3, 2, 1), (2, 1, 3, 2, 2), (3, 2, 2, 2, 1), (2, 2, 3, 1, 2), (2, 2, 2, 1, 3), (3, 1, 2, 2, 2), (3, 2, 1, 2, 2), (1, 2, 2, 3, 2), (2, 3, 2, 1, 2), (2, 3, 2, 2, 1), (3, 2, 2, 1, 2)}\n",
      "(1, 2, 3, 1, 1) -> {(2, 1, 1, 1, 3), (1, 1, 3, 1, 2), (1, 1, 1, 2, 3), (1, 1, 1, 3, 2), (3, 1, 1, 1, 2), (1, 1, 2, 1, 3), (1, 2, 1, 3, 1), (1, 2, 3, 1, 1), (1, 2, 1, 1, 3), (1, 3, 1, 2, 1), (2, 1, 3, 1, 1), (1, 3, 2, 1, 1), (1, 3, 1, 1, 2), (3, 1, 2, 1, 1), (3, 2, 1, 1, 1), (2, 3, 1, 1, 1), (2, 1, 1, 3, 1), (1, 1, 2, 3, 1), (1, 1, 3, 2, 1), (3, 1, 1, 2, 1)}\n"
     ]
    }
   ],
   "source": [
    "for edge in edgeset:\n",
    "    print(edge, \"->\", set(permutations(edge)))"
   ]
  },
  {
   "cell_type": "code",
   "execution_count": 7,
   "id": "b63b2add-9538-401a-a5f2-ba55c6dc3c18",
   "metadata": {
    "tags": []
   },
   "outputs": [
    {
     "name": "stdout",
     "output_type": "stream",
     "text": [
      "(1, 2, 3, 1, 3) -> Counter({1: 2, 3: 2, 2: 1}) -> 4\n",
      "(1, 2, 3, 2, 3) -> Counter({2: 2, 3: 2, 1: 1}) -> 4\n",
      "(1, 2, 3, 3, 3) -> Counter({3: 3, 1: 1, 2: 1}) -> 6\n",
      "(1, 2, 3, 1, 2) -> Counter({1: 2, 2: 2, 3: 1}) -> 4\n",
      "(1, 2, 3, 2, 2) -> Counter({2: 3, 1: 1, 3: 1}) -> 6\n",
      "(1, 2, 3, 1, 1) -> Counter({1: 3, 2: 1, 3: 1}) -> 6\n"
     ]
    }
   ],
   "source": [
    "for edge in edgeset:\n",
    "    print(edge, \"->\", Counter(edge), \"->\", np.prod([np.math.factorial(alpha) for alpha in Counter(edge).values()]))"
   ]
  },
  {
   "cell_type": "code",
   "execution_count": 8,
   "id": "4a8d9b73-4237-4f14-9723-7d43199e8dbf",
   "metadata": {
    "tags": []
   },
   "outputs": [
    {
     "data": {
      "text/plain": [
       "{(1, 2, 3, 1, 1),\n",
       " (1, 2, 3, 1, 2),\n",
       " (1, 2, 3, 1, 3),\n",
       " (1, 2, 3, 2, 2),\n",
       " (1, 2, 3, 2, 3),\n",
       " (1, 2, 3, 3, 3)}"
      ]
     },
     "execution_count": 8,
     "metadata": {},
     "output_type": "execute_result"
    }
   ],
   "source": [
    "edgeset"
   ]
  },
  {
   "cell_type": "markdown",
   "id": "3a599afe-6712-42ed-a90c-9ea4d23e69de",
   "metadata": {},
   "source": [
    "### Calculate the alpha factor for the collection of edges"
   ]
  },
  {
   "cell_type": "code",
   "execution_count": 9,
   "id": "23dfb419-1c93-4b01-80de-1f73f4fdee2b",
   "metadata": {
    "tags": []
   },
   "outputs": [
    {
     "name": "stdout",
     "output_type": "stream",
     "text": [
      "150.0\n"
     ]
    }
   ],
   "source": [
    "psprod = lambda edge: np.prod([np.math.factorial(pi) for pi in Counter(edge).values()])\n",
    "alpha = np.sum([np.math.factorial(len(edge))/psprod(edge) for edge in edgeset])\n",
    "print(alpha)"
   ]
  },
  {
   "cell_type": "markdown",
   "id": "d3d7ebbe-583f-4be7-8e83-4763b44d7aef",
   "metadata": {},
   "source": [
    "## Uniformization function"
   ]
  },
  {
   "cell_type": "code",
   "execution_count": 21,
   "id": "6bd81616-0b3e-494c-9ffb-3ffef71155e4",
   "metadata": {
    "tags": []
   },
   "outputs": [],
   "source": [
    "def alternative_uniformization(H, m=None, math_notation=True):\n",
    "    '''\n",
    "    Given a Hypergraph H, returns its adjacency tensor.\n",
    "    If the hypergraph is not uniform or m != the dimension of the hyperedges, we duplicate the existing indices of smaller hyperedges, \n",
    "    with suitable weight, and we project down higher hyperedges.\n",
    "    :param h :: Hypergraph:\n",
    "    :param math_notation :: Boolean (wether the first node starst at 0 or 1):\n",
    "    :return t :: (python dictionary, shape):\n",
    "    '''\n",
    "    N = len(H.nodes)\n",
    "    # Find maximum hyperedge dimension\n",
    "    if not m:\n",
    "        m = H.edges.size.max()\n",
    "    else:\n",
    "        assert isinstance(m, int)\n",
    "    \n",
    "    # Product of p_i's (occurrences of each node) on an edge\n",
    "    psprod = lambda edge: np.prod([np.math.factorial(p_i) for p_i in Counter(edge).values()])\n",
    "    \n",
    "    shape = tuple(N for _ in range(m))\n",
    "    # Insert edges in the tensor, multiplying them by their combinatorial factor\n",
    "    aux_map = dict()\n",
    "    for hyperedge in H.edges.members():\n",
    "\n",
    "        if math_notation:\n",
    "            hyperedge = {i - 1 for i in hyperedge}\n",
    "        \n",
    "        initial_len = len(hyperedge)\n",
    "        edge = tuple(hyperedge) # convert to list to add auxiliary nodes (possibly more than 1)\n",
    "\n",
    "        edgeset = {edge}\n",
    "        # Uplift adding an extra node enough times\n",
    "        \n",
    "        # Use this uniformization to add existing nodes enough times \n",
    "        if len(edge) <= m:\n",
    "            \n",
    "            # Increase up to the desired size\n",
    "            while len(list(edgeset)[0]) < m:\n",
    "                edgeset = increase_edge(edgeset)\n",
    "            \n",
    "            # Calculate the alpha factor for the combinatorial factor\n",
    "            alpha = np.sum([np.math.factorial(len(edge))/psprod(edge) for edge in edgeset])\n",
    "\n",
    "            # Combinatorial factor\n",
    "            weight = len(edge)/alpha\n",
    "            \n",
    "            # Get all permutations of all increased hyperedges\n",
    "            perms = []\n",
    "            for edge in edgeset:\n",
    "                perms += list(permutations(edge))\n",
    "                        \n",
    "        # Projection if higher dimensional (same as in the UPHEC case)\n",
    "        else:\n",
    "            perms = []\n",
    "            for comb in combinations(edge, m):\n",
    "                perms += list(permutations(comb))\n",
    "            weight = 1\n",
    "            \n",
    "        # Add the permutation (uplift) / combination (projection) to the tensor\n",
    "        for indices in perms:\n",
    "\n",
    "            if indices in aux_map:\n",
    "                aux_map[indices] += weight\n",
    "            else:\n",
    "                aux_map[indices] = weight\n",
    "\n",
    "    return aux_map, shape"
   ]
  },
  {
   "cell_type": "code",
   "execution_count": 22,
   "id": "9b23affc-168a-4ddb-a9af-fd887cdbdcba",
   "metadata": {
    "tags": []
   },
   "outputs": [
    {
     "name": "stdout",
     "output_type": "stream",
     "text": [
      "The hypergraph has [1, 2, 3, 4, 5, 6] nodes and ['A', 'B', 'C'] edges\n"
     ]
    },
    {
     "data": {
      "text/plain": [
       "(<Axes: >, <matplotlib.collections.PathCollection at 0x7f80fd3bbc70>)"
      ]
     },
     "execution_count": 22,
     "metadata": {},
     "output_type": "execute_result"
    },
    {
     "data": {
      "image/png": "[encoded data removed]",
      "text/plain": [
       "<Figure size 640x480 with 1 Axes>"
      ]
     },
     "metadata": {},
     "output_type": "display_data"
    }
   ],
   "source": [
    "hyperedge_dict = {'A': [1,2], 'B': [2,3,4,5], 'C': [4,5,6]}\n",
    "H = xgi.Hypergraph(hyperedge_dict)\n",
    "print(f\"The hypergraph has {H.nodes} nodes and {H.edges} edges\")\n",
    "xgi.draw(H, node_labels=True, font_color_nodes=\"blue\")"
   ]
  },
  {
   "cell_type": "code",
   "execution_count": 23,
   "id": "a39d75a3-b762-4d0a-8b87-039ed3d219d9",
   "metadata": {
    "tags": []
   },
   "outputs": [
    {
     "data": {
      "text/plain": [
       "({(0, 1, 0): 0.6666666666666666,\n",
       "  (0, 0, 1): 0.6666666666666666,\n",
       "  (1, 0, 0): 0.6666666666666666,\n",
       "  (0, 1, 1): 0.6666666666666666,\n",
       "  (1, 0, 1): 0.6666666666666666,\n",
       "  (1, 1, 0): 0.6666666666666666,\n",
       "  (1, 2, 3): 1,\n",
       "  (1, 3, 2): 1,\n",
       "  (2, 1, 3): 1,\n",
       "  (2, 3, 1): 1,\n",
       "  (3, 1, 2): 1,\n",
       "  (3, 2, 1): 1,\n",
       "  (1, 2, 4): 1,\n",
       "  (1, 4, 2): 1,\n",
       "  (2, 1, 4): 1,\n",
       "  (2, 4, 1): 1,\n",
       "  (4, 1, 2): 1,\n",
       "  (4, 2, 1): 1,\n",
       "  (1, 3, 4): 1,\n",
       "  (1, 4, 3): 1,\n",
       "  (3, 1, 4): 1,\n",
       "  (3, 4, 1): 1,\n",
       "  (4, 1, 3): 1,\n",
       "  (4, 3, 1): 1,\n",
       "  (2, 3, 4): 1,\n",
       "  (2, 4, 3): 1,\n",
       "  (3, 2, 4): 1,\n",
       "  (3, 4, 2): 1,\n",
       "  (4, 2, 3): 1,\n",
       "  (4, 3, 2): 1,\n",
       "  (3, 4, 5): 0.5,\n",
       "  (3, 5, 4): 0.5,\n",
       "  (4, 3, 5): 0.5,\n",
       "  (4, 5, 3): 0.5,\n",
       "  (5, 3, 4): 0.5,\n",
       "  (5, 4, 3): 0.5},\n",
       " (6, 6, 6))"
      ]
     },
     "execution_count": 23,
     "metadata": {},
     "output_type": "execute_result"
    }
   ],
   "source": [
    "Tu3 = alternative_uniformization(H, m=3, math_notation=True)\n",
    "Tu3"
   ]
  },
  {
   "cell_type": "code",
   "execution_count": 19,
   "id": "75445261-8a14-4f8b-bbd9-84c6b7f8d813",
   "metadata": {
    "tags": []
   },
   "outputs": [
    {
     "name": "stdout",
     "output_type": "stream",
     "text": [
      "Finished in 9 iterations.\n"
     ]
    }
   ],
   "source": [
    "cent3 = HEC_ours(Tu3, m=3, niter=100000, tol=1e-6, verbose=True)"
   ]
  },
  {
   "cell_type": "code",
   "execution_count": 20,
   "id": "d520a3fb-5ca6-457a-9f1c-c9ad2ebc5975",
   "metadata": {
    "tags": []
   },
   "outputs": [
    {
     "data": {
      "text/plain": [
       "({(0, 1, 0, 0): 0.857142857142857,\n",
       "  (0, 0, 1, 0): 0.857142857142857,\n",
       "  (0, 0, 0, 1): 0.857142857142857,\n",
       "  (1, 0, 0, 0): 0.857142857142857,\n",
       "  (0, 1, 0, 1): 0.5714285714285714,\n",
       "  (0, 1, 1, 0): 0.5714285714285714,\n",
       "  (0, 0, 1, 1): 0.5714285714285714,\n",
       "  (1, 0, 0, 1): 0.5714285714285714,\n",
       "  (1, 0, 1, 0): 0.5714285714285714,\n",
       "  (1, 1, 0, 0): 0.5714285714285714,\n",
       "  (0, 1, 1, 1): 0.857142857142857,\n",
       "  (1, 0, 1, 1): 0.857142857142857,\n",
       "  (1, 1, 0, 1): 0.857142857142857,\n",
       "  (1, 1, 1, 0): 0.857142857142857,\n",
       "  (1, 2, 3, 4): 0.16666666666666666,\n",
       "  (1, 2, 4, 3): 0.16666666666666666,\n",
       "  (1, 3, 2, 4): 0.16666666666666666,\n",
       "  (1, 3, 4, 2): 0.16666666666666666,\n",
       "  (1, 4, 2, 3): 0.16666666666666666,\n",
       "  (1, 4, 3, 2): 0.16666666666666666,\n",
       "  (2, 1, 3, 4): 0.16666666666666666,\n",
       "  (2, 1, 4, 3): 0.16666666666666666,\n",
       "  (2, 3, 1, 4): 0.16666666666666666,\n",
       "  (2, 3, 4, 1): 0.16666666666666666,\n",
       "  (2, 4, 1, 3): 0.16666666666666666,\n",
       "  (2, 4, 3, 1): 0.16666666666666666,\n",
       "  (3, 1, 2, 4): 0.16666666666666666,\n",
       "  (3, 1, 4, 2): 0.16666666666666666,\n",
       "  (3, 2, 1, 4): 0.16666666666666666,\n",
       "  (3, 2, 4, 1): 0.16666666666666666,\n",
       "  (3, 4, 1, 2): 0.16666666666666666,\n",
       "  (3, 4, 2, 1): 0.16666666666666666,\n",
       "  (4, 1, 2, 3): 0.16666666666666666,\n",
       "  (4, 1, 3, 2): 0.16666666666666666,\n",
       "  (4, 2, 1, 3): 0.16666666666666666,\n",
       "  (4, 2, 3, 1): 0.16666666666666666,\n",
       "  (4, 3, 1, 2): 0.16666666666666666,\n",
       "  (4, 3, 2, 1): 0.16666666666666666,\n",
       "  (3, 4, 5, 3): 0.16666666666666666,\n",
       "  (3, 4, 3, 5): 0.16666666666666666,\n",
       "  (3, 5, 4, 3): 0.16666666666666666,\n",
       "  (3, 5, 3, 4): 0.16666666666666666,\n",
       "  (3, 3, 4, 5): 0.16666666666666666,\n",
       "  (3, 3, 5, 4): 0.16666666666666666,\n",
       "  (4, 3, 5, 3): 0.16666666666666666,\n",
       "  (4, 3, 3, 5): 0.16666666666666666,\n",
       "  (4, 5, 3, 3): 0.16666666666666666,\n",
       "  (5, 3, 4, 3): 0.16666666666666666,\n",
       "  (5, 3, 3, 4): 0.16666666666666666,\n",
       "  (5, 4, 3, 3): 0.16666666666666666,\n",
       "  (3, 4, 5, 4): 0.16666666666666666,\n",
       "  (3, 4, 4, 5): 0.16666666666666666,\n",
       "  (3, 5, 4, 4): 0.16666666666666666,\n",
       "  (4, 3, 5, 4): 0.16666666666666666,\n",
       "  (4, 3, 4, 5): 0.16666666666666666,\n",
       "  (4, 5, 3, 4): 0.16666666666666666,\n",
       "  (4, 5, 4, 3): 0.16666666666666666,\n",
       "  (4, 4, 3, 5): 0.16666666666666666,\n",
       "  (4, 4, 5, 3): 0.16666666666666666,\n",
       "  (5, 3, 4, 4): 0.16666666666666666,\n",
       "  (5, 4, 3, 4): 0.16666666666666666,\n",
       "  (5, 4, 4, 3): 0.16666666666666666,\n",
       "  (3, 4, 5, 5): 0.16666666666666666,\n",
       "  (3, 5, 4, 5): 0.16666666666666666,\n",
       "  (3, 5, 5, 4): 0.16666666666666666,\n",
       "  (4, 3, 5, 5): 0.16666666666666666,\n",
       "  (4, 5, 3, 5): 0.16666666666666666,\n",
       "  (4, 5, 5, 3): 0.16666666666666666,\n",
       "  (5, 3, 4, 5): 0.16666666666666666,\n",
       "  (5, 3, 5, 4): 0.16666666666666666,\n",
       "  (5, 4, 3, 5): 0.16666666666666666,\n",
       "  (5, 4, 5, 3): 0.16666666666666666,\n",
       "  (5, 5, 3, 4): 0.16666666666666666,\n",
       "  (5, 5, 4, 3): 0.16666666666666666},\n",
       " (6, 6, 6, 6))"
      ]
     },
     "execution_count": 20,
     "metadata": {},
     "output_type": "execute_result"
    }
   ],
   "source": [
    "Tu4 = alternative_uniformization(H, m=4, math_notation=True)\n",
    "Tu4"
   ]
  },
  {
   "cell_type": "code",
   "execution_count": 15,
   "id": "0626ba0d-53a7-48e3-9444-259c00855308",
   "metadata": {
    "tags": []
   },
   "outputs": [
    {
     "name": "stdout",
     "output_type": "stream",
     "text": [
      "Finished in 30 iterations.\n"
     ]
    }
   ],
   "source": [
    "cent4 = HEC_ours(Tu4, m=4, niter=100000, tol=1e-6, verbose=True)"
   ]
  },
  {
   "cell_type": "code",
   "execution_count": null,
   "id": "7bb2bb0f-52b5-47d1-8234-fb7e5e9ad665",
   "metadata": {
    "tags": []
   },
   "outputs": [],
   "source": []
  },
  {
   "cell_type": "code",
   "execution_count": null,
   "id": "83b3ae63-b220-429f-8aea-a8632d0c297e",
   "metadata": {},
   "outputs": [],
   "source": []
  }
 ],
 "metadata": {
  "kernelspec": {
   "display_name": "Python 3 (ipykernel)",
   "language": "python",
   "name": "python3"
  },
  "language_info": {
   "codemirror_mode": {
    "name": "ipython",
    "version": 3
   },
   "file_extension": ".py",
   "mimetype": "text/x-python",
   "name": "python",
   "nbconvert_exporter": "python",
   "pygments_lexer": "ipython3",
   "version": "3.9.16"
  }
 },
 "nbformat": 4,
 "nbformat_minor": 5
}
