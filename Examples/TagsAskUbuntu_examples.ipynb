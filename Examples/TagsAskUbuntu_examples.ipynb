{
 "cells": [
  {
   "cell_type": "markdown",
   "metadata": {},
   "source": [
    "# Examples and calculations for the Tags-Ask-Ubuntu dataset"
   ]
  },
  {
   "cell_type": "code",
   "execution_count": 1,
   "metadata": {
    "tags": []
   },
   "outputs": [],
   "source": [
    "import copy\n",
    "import numpy as np\n",
    "import xgi\n",
    "import pandas\n",
    "from itertools import permutations\n",
    "from itertools import combinations\n",
    "from collections import Counter\n",
    "\n",
    "import matplotlib.pyplot as plt\n",
    "\n",
    "from hyperfunctions import *"
   ]
  },
  {
   "cell_type": "markdown",
   "metadata": {},
   "source": [
    "We can load the dataset from XGI directly. "
   ]
  },
  {
   "cell_type": "code",
   "execution_count": 2,
   "metadata": {
    "tags": []
   },
   "outputs": [],
   "source": [
    "H = xgi.load_xgi_data(\"tags-ask-ubuntu\")"
   ]
  },
  {
   "cell_type": "code",
   "execution_count": 3,
   "metadata": {
    "tags": []
   },
   "outputs": [
    {
     "data": {
      "text/plain": [
       "(3029, 271233, 5)"
      ]
     },
     "execution_count": 3,
     "metadata": {},
     "output_type": "execute_result"
    }
   ],
   "source": [
    "len(H.nodes), len(H.edges), H.edges.size.max()"
   ]
  },
  {
   "cell_type": "code",
   "execution_count": 4,
   "metadata": {
    "tags": []
   },
   "outputs": [],
   "source": [
    "H.remove_edges_from(H.edges.singletons()) # Remove edges with a single node in them (there are ~5000)\n",
    "H.remove_nodes_from(H.nodes.isolates())   # There are 6 nodes which only belonged to those singleton edges, we remove them as well.\n",
    "# Relabel all nodes to start from zero to the current number of nodes\n",
    "H = xgi.convert_labels_to_integers(H)\n",
    "\n",
    "H.cleanup(connected=False) #This basically does the same as the three above + checks for multiedges and removes them"
   ]
  },
  {
   "cell_type": "code",
   "execution_count": 5,
   "metadata": {
    "tags": []
   },
   "outputs": [
    {
     "data": {
      "text/plain": [
       "(3021, 145053, 5)"
      ]
     },
     "execution_count": 5,
     "metadata": {},
     "output_type": "execute_result"
    }
   ],
   "source": [
    "len(H.nodes), len(H.edges), H.edges.size.max()"
   ]
  },
  {
   "cell_type": "code",
   "execution_count": 6,
   "metadata": {
    "tags": []
   },
   "outputs": [
    {
     "data": {
      "text/plain": [
       "True"
      ]
     },
     "execution_count": 6,
     "metadata": {},
     "output_type": "execute_result"
    }
   ],
   "source": [
    "xgi.is_connected(H)"
   ]
  },
  {
   "cell_type": "markdown",
   "metadata": {},
   "source": [
    "## Hypergraph statistics"
   ]
  },
  {
   "cell_type": "code",
   "execution_count": 7,
   "metadata": {
    "tags": []
   },
   "outputs": [
    {
     "name": "stdout",
     "output_type": "stream",
     "text": [
      "Complete\n"
     ]
    },
    {
     "data": {
      "text/plain": [
       "(3021, 145053, 5)"
      ]
     },
     "execution_count": 7,
     "metadata": {},
     "output_type": "execute_result"
    }
   ],
   "source": [
    "print(\"Complete\")\n",
    "len(H.nodes), len(H.edges), H.edges.size.max()"
   ]
  },
  {
   "cell_type": "code",
   "execution_count": 8,
   "metadata": {
    "tags": []
   },
   "outputs": [],
   "source": [
    "sizes = {2:0, 3:0, 4:0, 5:0}\n",
    "for edge in H.edges.members():\n",
    "    sizes[len(edge)] += 1"
   ]
  },
  {
   "cell_type": "code",
   "execution_count": 9,
   "metadata": {
    "tags": []
   },
   "outputs": [
    {
     "data": {
      "text/plain": [
       "{2: 28138, 3: 52282, 4: 39158, 5: 25475}"
      ]
     },
     "execution_count": 9,
     "metadata": {},
     "output_type": "execute_result"
    }
   ],
   "source": [
    "sizes"
   ]
  },
  {
   "cell_type": "code",
   "execution_count": 10,
   "metadata": {},
   "outputs": [],
   "source": [
    "edgedict = H.edges.members(dtype=dict)"
   ]
  },
  {
   "cell_type": "code",
   "execution_count": 11,
   "metadata": {
    "tags": []
   },
   "outputs": [
    {
     "name": "stdout",
     "output_type": "stream",
     "text": [
      "28138\n",
      "28134\n"
     ]
    }
   ],
   "source": [
    "Hu2 = H.copy()\n",
    "for edge, members in edgedict.items():\n",
    "    if len(members) != 2:\n",
    "        Hu2.remove_edge(edge)\n",
    "\n",
    "print(len(Hu2.edges))\n",
    "        \n",
    "Hu2.cleanup(connected=True)\n",
    "\n",
    "print(len(Hu2.edges))\n",
    "\n",
    "Hu2.remove_nodes_from(Hu2.nodes - xgi.algorithms.largest_connected_component(Hu2))"
   ]
  },
  {
   "cell_type": "code",
   "execution_count": 12,
   "metadata": {
    "tags": []
   },
   "outputs": [
    {
     "name": "stdout",
     "output_type": "stream",
     "text": [
      "Order 2\n"
     ]
    },
    {
     "data": {
      "text/plain": [
       "(2714, 28134, 2, 0.8983780205230056)"
      ]
     },
     "execution_count": 12,
     "metadata": {},
     "output_type": "execute_result"
    }
   ],
   "source": [
    "print(\"Order 2\")\n",
    "len(Hu2.nodes), len(Hu2.edges), Hu2.edges.size.max(), len(Hu2.nodes)/len(H.nodes)"
   ]
  },
  {
   "cell_type": "code",
   "execution_count": 13,
   "metadata": {
    "tags": []
   },
   "outputs": [],
   "source": [
    "Hu3 = H.copy()\n",
    "for edge, members in edgedict.items():\n",
    "    if len(members) != 3:\n",
    "        Hu3.remove_edge(edge)\n",
    "\n",
    "Hu3.cleanup(connected=False)\n",
    "\n",
    "Hu3.remove_nodes_from(Hu3.nodes - xgi.algorithms.largest_connected_component(Hu3))"
   ]
  },
  {
   "cell_type": "code",
   "execution_count": 14,
   "metadata": {
    "tags": []
   },
   "outputs": [
    {
     "name": "stdout",
     "output_type": "stream",
     "text": [
      "Order 3\n"
     ]
    },
    {
     "data": {
      "text/plain": [
       "(2821, 52282, 3, 0.9337967560410461)"
      ]
     },
     "execution_count": 14,
     "metadata": {},
     "output_type": "execute_result"
    }
   ],
   "source": [
    "print(\"Order 3\")\n",
    "len(Hu3.nodes), len(Hu3.edges), Hu3.edges.size.max(), len(Hu3.nodes)/len(H.nodes)"
   ]
  },
  {
   "cell_type": "code",
   "execution_count": 15,
   "metadata": {
    "tags": []
   },
   "outputs": [],
   "source": [
    "Hu4 = H.copy()\n",
    "for edge, members in edgedict.items():\n",
    "    if len(members) != 4:\n",
    "        Hu4.remove_edge(edge)\n",
    "\n",
    "Hu4.cleanup(connected=False)\n",
    "\n",
    "Hu4.remove_nodes_from(Hu4.nodes - xgi.algorithms.largest_connected_component(Hu4))"
   ]
  },
  {
   "cell_type": "code",
   "execution_count": 16,
   "metadata": {
    "tags": []
   },
   "outputs": [
    {
     "name": "stdout",
     "output_type": "stream",
     "text": [
      "Order 4\n"
     ]
    },
    {
     "data": {
      "text/plain": [
       "(2722, 39158, 4, 0.9010261502813638)"
      ]
     },
     "execution_count": 16,
     "metadata": {},
     "output_type": "execute_result"
    }
   ],
   "source": [
    "print(\"Order 4\")\n",
    "len(Hu4.nodes), len(Hu4.edges), Hu4.edges.size.max(), len(Hu4.nodes)/len(H.nodes)"
   ]
  },
  {
   "cell_type": "code",
   "execution_count": 17,
   "metadata": {
    "tags": []
   },
   "outputs": [],
   "source": [
    "Hu5 = H.copy()\n",
    "for edge, members in edgedict.items():\n",
    "    if len(members) != 5:\n",
    "        Hu5.remove_edge(edge)\n",
    "\n",
    "Hu5.cleanup(connected=False)\n",
    "\n",
    "Hu5.remove_nodes_from(Hu5.nodes - xgi.algorithms.largest_connected_component(Hu5))"
   ]
  },
  {
   "cell_type": "code",
   "execution_count": 18,
   "metadata": {
    "tags": []
   },
   "outputs": [
    {
     "name": "stdout",
     "output_type": "stream",
     "text": [
      "Order 5\n"
     ]
    },
    {
     "data": {
      "text/plain": [
       "(2564, 25475, 5, 0.8487255875537901)"
      ]
     },
     "execution_count": 18,
     "metadata": {},
     "output_type": "execute_result"
    }
   ],
   "source": [
    "print(\"Order 5\")\n",
    "len(Hu5.nodes), len(Hu5.edges), Hu5.edges.size.max(), len(Hu5.nodes)/len(H.nodes)"
   ]
  },
  {
   "cell_type": "markdown",
   "metadata": {
    "tags": []
   },
   "source": [
    "## Order 2 - pure CEC "
   ]
  },
  {
   "cell_type": "code",
   "execution_count": 19,
   "metadata": {
    "tags": []
   },
   "outputs": [],
   "source": [
    "cec = xgi.clique_eigenvector_centrality(H)\n",
    "\n",
    "df = pandas.DataFrame({\"CEC\": cec})"
   ]
  },
  {
   "cell_type": "markdown",
   "metadata": {
    "tags": []
   },
   "source": [
    "## UPHEC at different orders"
   ]
  },
  {
   "cell_type": "markdown",
   "metadata": {},
   "source": [
    "### Order 2: CEC-like"
   ]
  },
  {
   "cell_type": "code",
   "execution_count": 8,
   "metadata": {
    "tags": []
   },
   "outputs": [
    {
     "name": "stdout",
     "output_type": "stream",
     "text": [
      "Finished in 11 iterations.\n"
     ]
    }
   ],
   "source": [
    "T2 = uniform_adjacency_combinatorial_tensor(H, m = 2, math_notation = False)\n",
    "\n",
    "cent2 = HEC_ours(T2, m=2, niter=100000, tol=1e-6, verbose=True)\n",
    "\n",
    "if cent2[1]:\n",
    "    df[\"UPHEC-2\"] = cent2[0]"
   ]
  },
  {
   "cell_type": "markdown",
   "metadata": {},
   "source": [
    "### Order 3"
   ]
  },
  {
   "cell_type": "code",
   "execution_count": 9,
   "metadata": {
    "tags": []
   },
   "outputs": [
    {
     "name": "stdout",
     "output_type": "stream",
     "text": [
      "Finished in 15 iterations.\n",
      "CPU times: user 2min 11s, sys: 217 ms, total: 2min 11s\n",
      "Wall time: 2min 11s\n"
     ]
    }
   ],
   "source": [
    "%%time\n",
    "\n",
    "T3 = uniform_adjacency_combinatorial_tensor(H, m = 3, math_notation = False)\n",
    "\n",
    "cent3 = HEC_ours(T3, m=3, niter=100000, tol=1e-6, verbose=True)\n",
    "\n",
    "cent3real = cent3[0][:-1] #extract last node\n",
    "cent3real/= np.sum(cent3real) # normalize\n",
    "\n",
    "\n",
    "if cent3[1]:\n",
    "    df[\"UPHEC-3\"] = cent3real"
   ]
  },
  {
   "cell_type": "markdown",
   "metadata": {},
   "source": [
    "### Order 4"
   ]
  },
  {
   "cell_type": "code",
   "execution_count": 10,
   "metadata": {
    "tags": []
   },
   "outputs": [
    {
     "name": "stdout",
     "output_type": "stream",
     "text": [
      "Finished in 17 iterations.\n",
      "CPU times: user 6min 48s, sys: 624 ms, total: 6min 49s\n",
      "Wall time: 6min 49s\n"
     ]
    }
   ],
   "source": [
    "%%time\n",
    "\n",
    "T4 = uniform_adjacency_combinatorial_tensor(H, m=4, math_notation = False)\n",
    "\n",
    "cent4 = HEC_ours(T4, m=4, niter=100000, tol=1e-6, verbose=True)\n",
    "\n",
    "cent4real = cent4[0][:-1] #extract last node\n",
    "cent4real/= np.sum(cent4real) # normalize\n",
    "\n",
    "if cent4[1]:\n",
    "    df[\"UPHEC-4\"] = cent4real"
   ]
  },
  {
   "cell_type": "markdown",
   "metadata": {},
   "source": [
    "### Order 5"
   ]
  },
  {
   "cell_type": "code",
   "execution_count": 11,
   "metadata": {
    "tags": []
   },
   "outputs": [
    {
     "name": "stdout",
     "output_type": "stream",
     "text": [
      "Finished in 17 iterations.\n",
      "CPU times: user 15min 51s, sys: 3.07 s, total: 15min 54s\n",
      "Wall time: 15min 55s\n"
     ]
    }
   ],
   "source": [
    "%%time\n",
    "\n",
    "T5 = uniform_adjacency_combinatorial_tensor(H, m=5, math_notation = False)\n",
    "\n",
    "cent5 = HEC_ours(T5, m=5, niter=100000, tol=1e-6, verbose=True)\n",
    "\n",
    "cent5real = cent5[0][:-1] #extract last node\n",
    "cent5real/= np.sum(cent5real) # normalize\n",
    "len(cent5real)\n",
    "\n",
    "if cent5[1]:\n",
    "    df[\"UPHEC-5\"] = cent5real"
   ]
  },
  {
   "cell_type": "markdown",
   "metadata": {
    "jp-MarkdownHeadingCollapsed": true,
    "tags": []
   },
   "source": [
    "## Uniform HEC at each order (as in Benson's work)"
   ]
  },
  {
   "cell_type": "markdown",
   "metadata": {},
   "source": [
    "### Order 2"
   ]
  },
  {
   "cell_type": "code",
   "execution_count": 13,
   "metadata": {
    "tags": []
   },
   "outputs": [],
   "source": [
    "Hu2 = H.copy()\n",
    "for edge, members in edgedict.items():\n",
    "    if len(members) != 2:\n",
    "        Hu2.remove_edge(edge)\n",
    "\n",
    "Hu2.remove_nodes_from(Hu2.nodes - xgi.algorithms.largest_connected_component(Hu2))\n",
    "\n",
    "cent2unif = xgi.algorithms.h_eigenvector_centrality(Hu2)\n",
    "\n",
    "for missing_node in range(len(H.nodes)):\n",
    "    if missing_node not in cent2unif.keys():\n",
    "        cent2unif[missing_node] = 0\n",
    "\n",
    "df[\"HEC-2unif\"] = cent2unif"
   ]
  },
  {
   "cell_type": "markdown",
   "metadata": {},
   "source": [
    "### Order 3"
   ]
  },
  {
   "cell_type": "code",
   "execution_count": 14,
   "metadata": {
    "tags": []
   },
   "outputs": [],
   "source": [
    "Hu3 = H.copy()\n",
    "for edge, members in edgedict.items():\n",
    "    if len(members) != 3:\n",
    "        Hu3.remove_edge(edge)\n",
    "\n",
    "Hu3.remove_nodes_from(Hu3.nodes - xgi.algorithms.largest_connected_component(Hu3))\n",
    "\n",
    "cent3unif = xgi.algorithms.h_eigenvector_centrality(Hu3)\n",
    "\n",
    "for missing_node in range(len(H.nodes)):\n",
    "    if missing_node not in cent3unif.keys():\n",
    "        cent3unif[missing_node] = 0\n",
    "\n",
    "df[\"HEC-3unif\"] = cent3unif"
   ]
  },
  {
   "cell_type": "markdown",
   "metadata": {},
   "source": [
    "### Order 4"
   ]
  },
  {
   "cell_type": "code",
   "execution_count": 15,
   "metadata": {
    "tags": []
   },
   "outputs": [],
   "source": [
    "Hu4 = H.copy()\n",
    "for edge, members in edgedict.items():\n",
    "    if len(members) != 4:\n",
    "        Hu4.remove_edge(edge)\n",
    "\n",
    "Hu4.remove_nodes_from(Hu4.nodes - xgi.algorithms.largest_connected_component(Hu4))\n",
    "\n",
    "cent4unif = xgi.algorithms.h_eigenvector_centrality(Hu4)\n",
    "\n",
    "for missing_node in range(len(H.nodes)):\n",
    "    if missing_node not in cent4unif.keys():\n",
    "        cent4unif[missing_node] = 0\n",
    "\n",
    "df[\"HEC-4unif\"] = cent4unif"
   ]
  },
  {
   "cell_type": "markdown",
   "metadata": {},
   "source": [
    "### Order 5"
   ]
  },
  {
   "cell_type": "code",
   "execution_count": 16,
   "metadata": {
    "tags": []
   },
   "outputs": [],
   "source": [
    "Hu5 = H.copy()\n",
    "for edge, members in edgedict.items():\n",
    "    if len(members) != 5:\n",
    "        Hu5.remove_edge(edge)\n",
    "\n",
    "Hu5.remove_nodes_from(Hu5.nodes - xgi.algorithms.largest_connected_component(Hu5))\n",
    "\n",
    "cent5unif = xgi.algorithms.h_eigenvector_centrality(Hu5)\n",
    "\n",
    "for missing_node in range(len(H.nodes)):\n",
    "    if missing_node not in cent5unif.keys():\n",
    "        cent5unif[missing_node] = 0\n",
    "\n",
    "df[\"HEC-5unif\"] = cent5unif"
   ]
  },
  {
   "cell_type": "markdown",
   "metadata": {
    "jp-MarkdownHeadingCollapsed": true,
    "tags": []
   },
   "source": [
    "## Alternative uniformization scheme at different orders"
   ]
  },
  {
   "cell_type": "markdown",
   "metadata": {},
   "source": [
    "### Order 2 == the same as the UPHEC"
   ]
  },
  {
   "cell_type": "markdown",
   "metadata": {},
   "source": [
    "### Order 3"
   ]
  },
  {
   "cell_type": "code",
   "execution_count": 17,
   "metadata": {
    "tags": []
   },
   "outputs": [
    {
     "name": "stdout",
     "output_type": "stream",
     "text": [
      "Finished in 15 iterations.\n",
      "CPU times: user 2min 13s, sys: 205 ms, total: 2min 13s\n",
      "Wall time: 2min 13s\n"
     ]
    }
   ],
   "source": [
    "%%time\n",
    "\n",
    "T3alt = alternative_uniformization(H, m=3, math_notation=False)\n",
    "\n",
    "cent3alt = HEC_ours(T3alt, m=3, niter=100000, tol=1e-6, verbose=True)"
   ]
  },
  {
   "cell_type": "code",
   "execution_count": 18,
   "metadata": {
    "tags": []
   },
   "outputs": [],
   "source": [
    "if cent3alt[1]:\n",
    "    df[\"AltUnif-3\"] = cent3alt[0]"
   ]
  },
  {
   "cell_type": "markdown",
   "metadata": {},
   "source": [
    "### Order 4"
   ]
  },
  {
   "cell_type": "code",
   "execution_count": 19,
   "metadata": {
    "tags": []
   },
   "outputs": [
    {
     "name": "stdout",
     "output_type": "stream",
     "text": [
      "Finished in 19 iterations.\n",
      "CPU times: user 8min 39s, sys: 1.32 s, total: 8min 40s\n",
      "Wall time: 8min 41s\n"
     ]
    }
   ],
   "source": [
    "%%time\n",
    "\n",
    "T4alt = alternative_uniformization(H, m=4, math_notation=False)\n",
    "\n",
    "cent4alt = HEC_ours(T4alt, m=4, niter=100000, tol=1e-6, verbose=True)\n",
    "\n",
    "if cent4alt[1]:\n",
    "    df[\"AltUnif-4\"] = cent4alt[0]"
   ]
  },
  {
   "cell_type": "markdown",
   "metadata": {},
   "source": [
    "### Orden 5"
   ]
  },
  {
   "cell_type": "code",
   "execution_count": 20,
   "metadata": {},
   "outputs": [
    {
     "name": "stdout",
     "output_type": "stream",
     "text": [
      "Finished in 19 iterations.\n",
      "CPU times: user 32min, sys: 6.59 s, total: 32min 6s\n",
      "Wall time: 32min 9s\n"
     ]
    }
   ],
   "source": [
    "%%time \n",
    "\n",
    "T5alt = alternative_uniformization(H, m=5, math_notation=True)\n",
    "\n",
    "cent5alt = HEC_ours(T5alt, m=5, niter=100000, tol=1e-6, verbose=True)\n",
    "\n",
    "if cent5alt[1]:\n",
    "    df[\"AltUnif-5\"] = cent5alt[0]"
   ]
  },
  {
   "cell_type": "markdown",
   "metadata": {},
   "source": [
    "## Save everything"
   ]
  },
  {
   "cell_type": "code",
   "execution_count": 21,
   "metadata": {
    "tags": []
   },
   "outputs": [],
   "source": [
    "#df1 = pandas.read_csv(\"Output/tags_ask_ubuntu_dataframe.csv\")"
   ]
  },
  {
   "cell_type": "code",
   "execution_count": 22,
   "metadata": {
    "tags": []
   },
   "outputs": [],
   "source": [
    "#df2 = df1.join(df)"
   ]
  },
  {
   "cell_type": "code",
   "execution_count": 23,
   "metadata": {
    "tags": []
   },
   "outputs": [],
   "source": [
    "#df2.to_csv(\"Output/tags_ask_ubuntu_dataframe.csv\", index=False)"
   ]
  },
  {
   "cell_type": "code",
   "execution_count": 24,
   "metadata": {
    "tags": []
   },
   "outputs": [],
   "source": [
    "#df2"
   ]
  },
  {
   "cell_type": "code",
   "execution_count": null,
   "metadata": {},
   "outputs": [],
   "source": []
  }
 ],
 "metadata": {
  "kernelspec": {
   "display_name": "Python 3 (ipykernel)",
   "language": "python",
   "name": "python3"
  },
  "language_info": {
   "codemirror_mode": {
    "name": "ipython",
    "version": 3
   },
   "file_extension": ".py",
   "mimetype": "text/x-python",
   "name": "python",
   "nbconvert_exporter": "python",
   "pygments_lexer": "ipython3",
   "version": "3.9.17"
  }
 },
 "nbformat": 4,
 "nbformat_minor": 4
}
