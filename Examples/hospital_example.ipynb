{
 "cells": [
  {
   "cell_type": "markdown",
   "metadata": {},
   "source": [
    "# Examples and calculations for the hospital-lyon dataset"
   ]
  },
  {
   "cell_type": "code",
   "execution_count": 1,
   "metadata": {
    "tags": []
   },
   "outputs": [],
   "source": [
    "import copy\n",
    "import numpy as np\n",
    "import xgi\n",
    "import pandas\n",
    "from itertools import permutations\n",
    "from itertools import combinations\n",
    "from collections import Counter, defaultdict\n",
    "\n",
    "import matplotlib.pyplot as plt\n",
    "\n",
    "import sys\n",
    "sys.path.append(\"..\") \n",
    "from hyperfunctions import *\n",
    "from other_measures import *"
   ]
  },
  {
   "cell_type": "markdown",
   "metadata": {},
   "source": [
    "We can load the dataset from XGI directly. "
   ]
  },
  {
   "cell_type": "code",
   "execution_count": 2,
   "metadata": {
    "tags": []
   },
   "outputs": [],
   "source": [
    "H = xgi.load_xgi_data(\"hospital-lyon\")"
   ]
  },
  {
   "cell_type": "code",
   "execution_count": 3,
   "metadata": {
    "tags": []
   },
   "outputs": [
    {
     "data": {
      "text/plain": [
       "(75, 27834, 5)"
      ]
     },
     "execution_count": 3,
     "metadata": {},
     "output_type": "execute_result"
    }
   ],
   "source": [
    "len(H.nodes), len(H.edges), H.edges.size.max()"
   ]
  },
  {
   "cell_type": "code",
   "execution_count": 4,
   "metadata": {
    "tags": []
   },
   "outputs": [],
   "source": [
    "H.remove_edges_from(H.edges.singletons()) # Remove edges with a single node in them (there are ~5000)\n",
    "H.remove_nodes_from(H.nodes.isolates())   # There are 6 nodes which only belonged to those singleton edges, we remove them as well.\n",
    "# Relabel all nodes to start from zero to the current number of nodes\n",
    "H = xgi.convert_labels_to_integers(H)\n",
    "\n",
    "H.cleanup(connected=False) #This basically does the same as the three above + checks for multiedges and removes them"
   ]
  },
  {
   "cell_type": "code",
   "execution_count": 5,
   "metadata": {
    "tags": []
   },
   "outputs": [
    {
     "data": {
      "text/plain": [
       "(75, 1824, 5)"
      ]
     },
     "execution_count": 5,
     "metadata": {},
     "output_type": "execute_result"
    }
   ],
   "source": [
    "len(H.nodes), len(H.edges), H.edges.size.max()"
   ]
  },
  {
   "cell_type": "code",
   "execution_count": 6,
   "metadata": {
    "tags": []
   },
   "outputs": [
    {
     "data": {
      "text/plain": [
       "True"
      ]
     },
     "execution_count": 6,
     "metadata": {},
     "output_type": "execute_result"
    }
   ],
   "source": [
    "xgi.is_connected(H)"
   ]
  },
  {
   "cell_type": "markdown",
   "metadata": {},
   "source": [
    "### What centralities to compute:\n",
    "Minimum and maximum orders at which to compute centralities"
   ]
  },
  {
   "cell_type": "code",
   "execution_count": 7,
   "metadata": {},
   "outputs": [],
   "source": [
    "Mmin = 2\n",
    "Mmax = None # Can be None \n",
    "\n",
    "UniformC = False # whether to compute or not Benson's centralities\n",
    "\n",
    "if not Mmax:\n",
    "    Mmax = H.edges.size.max()"
   ]
  },
  {
   "cell_type": "markdown",
   "metadata": {},
   "source": [
    "## Hypergraph statistics"
   ]
  },
  {
   "cell_type": "code",
   "execution_count": 8,
   "metadata": {
    "tags": []
   },
   "outputs": [
    {
     "name": "stdout",
     "output_type": "stream",
     "text": [
      "Complete\n"
     ]
    },
    {
     "data": {
      "text/plain": [
       "(75, 1824, 5)"
      ]
     },
     "execution_count": 8,
     "metadata": {},
     "output_type": "execute_result"
    }
   ],
   "source": [
    "print(\"Complete\")\n",
    "len(H.nodes), len(H.edges), H.edges.size.max()"
   ]
  },
  {
   "cell_type": "code",
   "execution_count": 9,
   "metadata": {
    "tags": []
   },
   "outputs": [],
   "source": [
    "sizes = defaultdict(int)\n",
    "for edge in H.edges.members():\n",
    "\n",
    "    if len(edge) == 0:\n",
    "        print(edge)\n",
    "    sizes[len(edge)] += 1"
   ]
  },
  {
   "cell_type": "code",
   "execution_count": 10,
   "metadata": {
    "scrolled": true,
    "tags": []
   },
   "outputs": [
    {
     "data": {
      "text/plain": [
       "<BarContainer object of 4 artists>"
      ]
     },
     "execution_count": 10,
     "metadata": {},
     "output_type": "execute_result"
    },
    {
     "data": {
      "image/png": "[encoded data removed]",
      "text/plain": [
       "<Figure size 640x480 with 1 Axes>"
      ]
     },
     "metadata": {},
     "output_type": "display_data"
    }
   ],
   "source": [
    "plt.bar(sizes.keys(), sizes.values())"
   ]
  },
  {
   "cell_type": "code",
   "execution_count": 11,
   "metadata": {},
   "outputs": [],
   "source": [
    "edgedict = H.edges.members(dtype=dict)"
   ]
  },
  {
   "cell_type": "code",
   "execution_count": 12,
   "metadata": {
    "tags": []
   },
   "outputs": [
    {
     "name": "stdout",
     "output_type": "stream",
     "text": [
      "Order 3\n",
      "72 657 (3, 3) 0.96\n",
      "---\n",
      "Order 2\n",
      "75 1107 (2, 2) 1.0\n",
      "---\n",
      "Order 4\n",
      "35 58 (4, 4) 0.4666666666666667\n",
      "---\n",
      "Order 5\n",
      "8 2 (5, 5) 0.10666666666666667\n",
      "---\n"
     ]
    }
   ],
   "source": [
    "Hunif = {}\n",
    "for m in sizes.keys():\n",
    "    \n",
    "    Hunif[m] = uniform_section(H, edgedict, m)\n",
    "\n",
    "    print(\"Order\", m)\n",
    "    print(len(Hunif[m].nodes), len(Hunif[m].edges), (Hunif[m].edges.size.min(), Hunif[m].edges.size.max()), len(Hunif[m].nodes)/len(H.nodes))\n",
    "    print(\"---\")"
   ]
  },
  {
   "cell_type": "markdown",
   "metadata": {
    "tags": []
   },
   "source": [
    "## Order 2 - pure CEC "
   ]
  },
  {
   "cell_type": "code",
   "execution_count": 13,
   "metadata": {
    "tags": []
   },
   "outputs": [],
   "source": [
    "cec = xgi.clique_eigenvector_centrality(H)\n",
    "\n",
    "df = pandas.DataFrame({\"CEC\": cec})"
   ]
  },
  {
   "cell_type": "code",
   "execution_count": 14,
   "metadata": {},
   "outputs": [
    {
     "data": {
      "text/plain": [
       "True"
      ]
     },
     "execution_count": 14,
     "metadata": {},
     "output_type": "execute_result"
    }
   ],
   "source": [
    "xgi.is_connected(H)"
   ]
  },
  {
   "cell_type": "markdown",
   "metadata": {
    "tags": []
   },
   "source": [
    "## UPHEC at different orders"
   ]
  },
  {
   "cell_type": "code",
   "execution_count": 15,
   "metadata": {
    "tags": []
   },
   "outputs": [
    {
     "name": "stdout",
     "output_type": "stream",
     "text": [
      "Order 2\n",
      "Finished in 7 iterations.\n",
      "---\n",
      "Order 3\n",
      "Finished in 10 iterations.\n",
      "---\n",
      "Order 4\n",
      "Finished in 9 iterations.\n",
      "---\n",
      "Order 5\n",
      "Finished in 8 iterations.\n",
      "---\n"
     ]
    }
   ],
   "source": [
    "for m in range(Mmin,Mmax + 1):\n",
    "\n",
    "    print(\"Order\", m)\n",
    "    \n",
    "    Tm = uniform_adjacency_combinatorial_tensor(H, m=m, math_notation=False)\n",
    "    \n",
    "    centm = HEC_ours(Tm, m=m, niter=100000, tol=1e-6, verbose=True)\n",
    "\n",
    "    # Remove last node (auxiliary) from uplift\n",
    "    if m > 2:\n",
    "        centm = centm[0][:-1] #extract last node\n",
    "        centm /= np.sum(centm) # normalize\n",
    "        df[f\"UPHEC-{m}\"] = centm\n",
    "    else:\n",
    "        df[f\"UPHEC-{m}\"] = centm[0]\n",
    "\n",
    "    print(\"---\")"
   ]
  },
  {
   "cell_type": "markdown",
   "metadata": {
    "tags": []
   },
   "source": [
    "## Uniform HEC at each order (as in Benson's work)"
   ]
  },
  {
   "cell_type": "code",
   "execution_count": 16,
   "metadata": {
    "tags": []
   },
   "outputs": [],
   "source": [
    "for m in sizes.keys():\n",
    "\n",
    "    centmunif = xgi.algorithms.h_eigenvector_centrality(Hunif[m])\n",
    "    \n",
    "    for missing_node in range(len(H.nodes)):\n",
    "        if missing_node not in centmunif.keys():\n",
    "            centmunif[missing_node] = 0\n",
    "    \n",
    "    df[f\"HEC-{m}unif\"] = centmunif"
   ]
  },
  {
   "cell_type": "markdown",
   "metadata": {
    "tags": []
   },
   "source": [
    "## Alternative uniformization scheme at different orders"
   ]
  },
  {
   "cell_type": "markdown",
   "metadata": {},
   "source": [
    "### Order 2 == the same as the UPHEC"
   ]
  },
  {
   "cell_type": "markdown",
   "metadata": {},
   "source": [
    "### Order 3 - onwards"
   ]
  },
  {
   "cell_type": "code",
   "execution_count": 18,
   "metadata": {
    "tags": []
   },
   "outputs": [
    {
     "name": "stdout",
     "output_type": "stream",
     "text": [
      "Order 2\n",
      "Finished in 7 iterations.\n",
      "---\n",
      "Order 3\n",
      "Finished in 11 iterations.\n",
      "---\n",
      "Order 4\n",
      "Finished in 14 iterations.\n",
      "---\n",
      "Order 5\n",
      "Finished in 16 iterations.\n",
      "---\n"
     ]
    }
   ],
   "source": [
    "for m in range(Mmin, Mmax + 1):\n",
    "\n",
    "    print(\"Order\", m)\n",
    "    \n",
    "    Tmalt = alternative_uniformization(H, m=m, math_notation=False)\n",
    "    \n",
    "    centmalt = HEC_ours(Tmalt, m=m, niter=100000, tol=1e-6, verbose=True)\n",
    "    \n",
    "    if centmalt[1]:\n",
    "        df[f\"AltUnif-{m}\"] = centmalt[0]\n",
    "        \n",
    "    print(\"---\")"
   ]
  },
  {
   "cell_type": "markdown",
   "metadata": {},
   "source": [
    "## Save everything"
   ]
  },
  {
   "cell_type": "code",
   "execution_count": 19,
   "metadata": {},
   "outputs": [],
   "source": [
    "df.to_csv(\"../Output/hospital_dataframe.csv\", index=False)"
   ]
  },
  {
   "cell_type": "code",
   "execution_count": null,
   "metadata": {},
   "outputs": [],
   "source": []
  }
 ],
 "metadata": {
  "kernelspec": {
   "display_name": "Python 3 (ipykernel)",
   "language": "python",
   "name": "python3"
  },
  "language_info": {
   "codemirror_mode": {
    "name": "ipython",
    "version": 3
   },
   "file_extension": ".py",
   "mimetype": "text/x-python",
   "name": "python",
   "nbconvert_exporter": "python",
   "pygments_lexer": "ipython3",
   "version": "3.9.17"
  }
 },
 "nbformat": 4,
 "nbformat_minor": 4
}
