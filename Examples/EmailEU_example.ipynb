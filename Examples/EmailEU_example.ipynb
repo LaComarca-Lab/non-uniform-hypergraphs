{
 "cells": [
  {
   "cell_type": "markdown",
   "metadata": {},
   "source": [
    "# Examples and calculations for the ??? dataset"
   ]
  },
  {
   "cell_type": "code",
   "execution_count": 1,
   "metadata": {
    "tags": []
   },
   "outputs": [],
   "source": [
    "import copy\n",
    "import numpy as np\n",
    "import xgi\n",
    "import pandas\n",
    "from itertools import permutations\n",
    "from itertools import combinations\n",
    "from collections import Counter, defaultdict\n",
    "\n",
    "import matplotlib.pyplot as plt\n",
    "\n",
    "from hyperfunctions import *\n",
    "from other_measures import *"
   ]
  },
  {
   "cell_type": "markdown",
   "metadata": {},
   "source": [
    "We can load the dataset from XGI directly. "
   ]
  },
  {
   "cell_type": "code",
   "execution_count": 2,
   "metadata": {
    "tags": []
   },
   "outputs": [],
   "source": [
    "H = xgi.load_xgi_data(\"email-eu\")"
   ]
  },
  {
   "cell_type": "code",
   "execution_count": 3,
   "metadata": {
    "tags": []
   },
   "outputs": [
    {
     "data": {
      "text/plain": [
       "(1005, 235263, 40)"
      ]
     },
     "execution_count": 3,
     "metadata": {},
     "output_type": "execute_result"
    }
   ],
   "source": [
    "len(H.nodes), len(H.edges), H.edges.size.max()"
   ]
  },
  {
   "cell_type": "code",
   "execution_count": 4,
   "metadata": {
    "tags": []
   },
   "outputs": [],
   "source": [
    "H.remove_edges_from(H.edges.singletons()) # Remove edges with a single node in them (there are ~5000)\n",
    "H.remove_nodes_from(H.nodes.isolates())   # There are 6 nodes which only belonged to those singleton edges, we remove them as well.\n",
    "# Relabel all nodes to start from zero to the current number of nodes\n",
    "H = xgi.convert_labels_to_integers(H)\n",
    "\n",
    "H.cleanup(connected=False) #This basically does the same as the three above + checks for multiedges and removes them"
   ]
  },
  {
   "cell_type": "code",
   "execution_count": 5,
   "metadata": {
    "tags": []
   },
   "outputs": [
    {
     "data": {
      "text/plain": [
       "(986, 24520, 40)"
      ]
     },
     "execution_count": 5,
     "metadata": {},
     "output_type": "execute_result"
    }
   ],
   "source": [
    "len(H.nodes), len(H.edges), H.edges.size.max()"
   ]
  },
  {
   "cell_type": "code",
   "execution_count": 6,
   "metadata": {
    "tags": []
   },
   "outputs": [
    {
     "data": {
      "text/plain": [
       "True"
      ]
     },
     "execution_count": 6,
     "metadata": {},
     "output_type": "execute_result"
    }
   ],
   "source": [
    "xgi.is_connected(H)"
   ]
  },
  {
   "cell_type": "markdown",
   "metadata": {},
   "source": [
    "## Hypergraph statistics"
   ]
  },
  {
   "cell_type": "code",
   "execution_count": 7,
   "metadata": {
    "tags": []
   },
   "outputs": [
    {
     "name": "stdout",
     "output_type": "stream",
     "text": [
      "Complete\n"
     ]
    },
    {
     "data": {
      "text/plain": [
       "(986, 24520, 40)"
      ]
     },
     "execution_count": 7,
     "metadata": {},
     "output_type": "execute_result"
    }
   ],
   "source": [
    "print(\"Complete\")\n",
    "len(H.nodes), len(H.edges), H.edges.size.max()"
   ]
  },
  {
   "cell_type": "code",
   "execution_count": 8,
   "metadata": {
    "tags": []
   },
   "outputs": [],
   "source": [
    "sizes = defaultdict(int)\n",
    "for edge in H.edges.members():\n",
    "\n",
    "    if len(edge) == 0:\n",
    "        print(edge)\n",
    "    sizes[len(edge)] += 1"
   ]
  },
  {
   "cell_type": "code",
   "execution_count": 9,
   "metadata": {
    "scrolled": true,
    "tags": []
   },
   "outputs": [
    {
     "data": {
      "text/plain": [
       "<BarContainer object of 38 artists>"
      ]
     },
     "execution_count": 9,
     "metadata": {},
     "output_type": "execute_result"
    },
    {
     "data": {
      "image/png": "[encoded data removed]",
      "text/plain": [
       "<Figure size 640x480 with 1 Axes>"
      ]
     },
     "metadata": {},
     "output_type": "display_data"
    }
   ],
   "source": [
    "plt.bar(sizes.keys(), sizes.values())"
   ]
  },
  {
   "cell_type": "code",
   "execution_count": 10,
   "metadata": {},
   "outputs": [],
   "source": [
    "edgedict = H.edges.members(dtype=dict)"
   ]
  },
  {
   "cell_type": "code",
   "execution_count": 11,
   "metadata": {
    "tags": []
   },
   "outputs": [
    {
     "name": "stdout",
     "output_type": "stream",
     "text": [
      "Order 2\n",
      "945 12753 (2, 2) 0.9584178498985801\n",
      "---\n",
      "Order 8\n",
      "548 352 (8, 8) 0.5557809330628803\n",
      "---\n",
      "Order 6\n",
      "607 888 (6, 6) 0.6156186612576064\n",
      "---\n",
      "Order 4\n",
      "691 2293 (4, 4) 0.7008113590263692\n",
      "---\n",
      "Order 3\n",
      "792 4938 (3, 3) 0.8032454361054767\n",
      "---\n",
      "Order 5\n",
      "644 1359 (5, 5) 0.6531440162271805\n",
      "---\n",
      "Order 16\n",
      "328 54 (16, 16) 0.332657200811359\n",
      "---\n",
      "Order 11\n",
      "404 132 (11, 11) 0.40973630831643004\n",
      "---\n",
      "Order 12\n",
      "439 112 (12, 12) 0.44523326572008115\n",
      "---\n",
      "Order 7\n",
      "556 551 (7, 7) 0.563894523326572\n",
      "---\n",
      "Order 25\n",
      "217 19 (25, 25) 0.22008113590263692\n",
      "---\n",
      "Order 20\n",
      "311 36 (20, 20) 0.3154158215010142\n",
      "---\n",
      "Order 10\n",
      "458 187 (10, 10) 0.4645030425963489\n",
      "---\n",
      "Order 9\n",
      "521 272 (9, 9) 0.5283975659229209\n",
      "---\n",
      "Order 13\n",
      "346 74 (13, 13) 0.3509127789046653\n",
      "---\n",
      "Order 15\n",
      "342 66 (15, 15) 0.34685598377281945\n",
      "---\n",
      "Order 19\n",
      "329 42 (19, 19) 0.33367139959432046\n",
      "---\n",
      "Order 21\n",
      "273 32 (21, 21) 0.2768762677484787\n",
      "---\n",
      "Order 18\n",
      "300 51 (18, 18) 0.30425963488843816\n",
      "---\n",
      "Order 14\n",
      "360 71 (14, 14) 0.36511156186612576\n",
      "---\n",
      "Order 17\n",
      "302 46 (17, 17) 0.30628803245436104\n",
      "---\n",
      "Order 23\n",
      "263 18 (23, 23) 0.2667342799188641\n",
      "---\n",
      "Order 30\n",
      "35 3 (30, 30) 0.035496957403651115\n",
      "---\n",
      "Order 26\n",
      "205 20 (26, 26) 0.2079107505070994\n",
      "---\n",
      "Order 38\n",
      "180 6 (38, 38) 0.18255578093306288\n",
      "---\n",
      "Order 29\n",
      "161 14 (29, 29) 0.16328600405679514\n",
      "---\n",
      "Order 27\n",
      "190 18 (27, 27) 0.1926977687626775\n",
      "---\n",
      "Order 24\n",
      "183 15 (24, 24) 0.18559837728194725\n",
      "---\n",
      "Order 22\n",
      "257 29 (22, 22) 0.2606490872210953\n",
      "---\n",
      "Order 35\n",
      "104 4 (35, 35) 0.10547667342799188\n",
      "---\n",
      "Order 28\n",
      "202 16 (28, 28) 0.20486815415821502\n",
      "---\n",
      "Order 34\n",
      "76 7 (34, 34) 0.07707910750507099\n",
      "---\n",
      "Order 33\n",
      "68 4 (33, 33) 0.06896551724137931\n",
      "---\n",
      "Order 39\n",
      "114 3 (39, 39) 0.11561866125760649\n",
      "---\n",
      "Order 40\n",
      "42 2 (40, 40) 0.04259634888438134\n",
      "---\n",
      "Order 31\n",
      "35 3 (31, 31) 0.035496957403651115\n",
      "---\n",
      "Order 32\n",
      "64 3 (32, 32) 0.06490872210953347\n",
      "---\n",
      "Order 37\n",
      "42 3 (37, 37) 0.04259634888438134\n",
      "---\n"
     ]
    }
   ],
   "source": [
    "Hunif = {}\n",
    "for m in sizes.keys():\n",
    "    \n",
    "    Hunif[m] = uniform_section(H, edgedict, m)\n",
    "\n",
    "    print(\"Order\", m)\n",
    "    print(len(Hunif[m].nodes), len(Hunif[m].edges), (Hunif[m].edges.size.min(), Hunif[m].edges.size.max()), len(Hunif[m].nodes)/len(H.nodes))\n",
    "    print(\"---\")"
   ]
  },
  {
   "cell_type": "markdown",
   "metadata": {
    "tags": []
   },
   "source": [
    "## Order 2 - pure CEC "
   ]
  },
  {
   "cell_type": "code",
   "execution_count": 12,
   "metadata": {
    "tags": []
   },
   "outputs": [],
   "source": [
    "cec = xgi.clique_eigenvector_centrality(H)\n",
    "\n",
    "df = pandas.DataFrame({\"CEC\": cec})"
   ]
  },
  {
   "cell_type": "markdown",
   "metadata": {
    "tags": []
   },
   "source": [
    "## UPHEC at different orders"
   ]
  },
  {
   "cell_type": "code",
   "execution_count": 13,
   "metadata": {
    "tags": []
   },
   "outputs": [
    {
     "name": "stdout",
     "output_type": "stream",
     "text": [
      "Order 2\n",
      "Finished in 15 iterations.\n",
      "---\n",
      "Order 3\n",
      "Finished in 28 iterations.\n",
      "---\n",
      "Order 4\n"
     ]
    },
    {
     "name": "stderr",
     "output_type": "stream",
     "text": [
      "\n",
      "KeyboardInterrupt\n",
      "\n"
     ]
    }
   ],
   "source": [
    "for m in range(2,H.edges.size.max() + 1):\n",
    "\n",
    "    print(\"Order\", m)\n",
    "    \n",
    "    Tm = uniform_adjacency_combinatorial_tensor(H, m=m, math_notation=False)\n",
    "    \n",
    "    centm = HEC_ours(Tm, m=m, niter=100000, tol=1e-6, verbose=True)\n",
    "\n",
    "    # Remove last node (auxiliary) from uplift\n",
    "    if m > 2:\n",
    "        centm = centm[0][:-1] #extract last node\n",
    "        centm /= np.sum(centm) # normalize\n",
    "\n",
    "    if centm[1]:\n",
    "        df[f\"UPHEC-{m}\"] = centm[0]\n",
    "\n",
    "    print(\"---\")"
   ]
  },
  {
   "cell_type": "markdown",
   "metadata": {
    "tags": []
   },
   "source": [
    "## Uniform HEC at each order (as in Benson's work)"
   ]
  },
  {
   "cell_type": "code",
   "execution_count": null,
   "metadata": {
    "tags": []
   },
   "outputs": [],
   "source": [
    "for m in sizes.keys():\n",
    "\n",
    "    centmunif = xgi.algorithms.h_eigenvector_centrality(Hunif[m])\n",
    "    \n",
    "    for missing_node in range(len(H.nodes)):\n",
    "        if missing_node not in centmunif.keys():\n",
    "            centmunif[missing_node] = 0\n",
    "    \n",
    "    df[f\"HEC-{m}unif\"] = centmunif"
   ]
  },
  {
   "cell_type": "markdown",
   "metadata": {
    "jp-MarkdownHeadingCollapsed": true,
    "tags": []
   },
   "source": [
    "## Alternative uniformization scheme at different orders -- NOT DONE"
   ]
  },
  {
   "cell_type": "markdown",
   "metadata": {},
   "source": [
    "### Order 2 == the same as the UPHEC"
   ]
  },
  {
   "cell_type": "markdown",
   "metadata": {},
   "source": [
    "### Order 3"
   ]
  },
  {
   "cell_type": "code",
   "execution_count": null,
   "metadata": {
    "tags": []
   },
   "outputs": [],
   "source": [
    "%%time\n",
    "\n",
    "T3alt = alternative_uniformization(H, m=3, math_notation=False)\n",
    "\n",
    "cent3alt = HEC_ours(T3alt, m=3, niter=100000, tol=1e-6, verbose=True)"
   ]
  },
  {
   "cell_type": "code",
   "execution_count": null,
   "metadata": {
    "tags": []
   },
   "outputs": [],
   "source": [
    "if cent3alt[1]:\n",
    "    df[\"AltUnif-3\"] = cent3alt[0]"
   ]
  },
  {
   "cell_type": "markdown",
   "metadata": {},
   "source": [
    "### Order 4"
   ]
  },
  {
   "cell_type": "code",
   "execution_count": null,
   "metadata": {
    "tags": []
   },
   "outputs": [],
   "source": [
    "%%time\n",
    "\n",
    "T4alt = alternative_uniformization(H, m=4, math_notation=False)\n",
    "\n",
    "cent4alt = HEC_ours(T4alt, m=4, niter=100000, tol=1e-6, verbose=True)\n",
    "\n",
    "if cent4alt[1]:\n",
    "    df[\"AltUnif-4\"] = cent4alt[0]"
   ]
  },
  {
   "cell_type": "markdown",
   "metadata": {},
   "source": [
    "### Orden 5"
   ]
  },
  {
   "cell_type": "code",
   "execution_count": null,
   "metadata": {},
   "outputs": [],
   "source": [
    "%%time \n",
    "\n",
    "T5alt = alternative_uniformization(H, m=5, math_notation=True)\n",
    "\n",
    "cent5alt = HEC_ours(T5alt, m=5, niter=100000, tol=1e-6, verbose=True)\n",
    "\n",
    "if cent5alt[1]:\n",
    "    df[\"AltUnif-5\"] = cent5alt[0]"
   ]
  },
  {
   "cell_type": "markdown",
   "metadata": {},
   "source": [
    "## Save everything"
   ]
  },
  {
   "cell_type": "code",
   "execution_count": null,
   "metadata": {
    "tags": []
   },
   "outputs": [],
   "source": [
    "#df1 = pandas.read_csv(\"Output/diseasome_dataframe.csv\")"
   ]
  },
  {
   "cell_type": "code",
   "execution_count": null,
   "metadata": {
    "tags": []
   },
   "outputs": [],
   "source": [
    "#df2 = df1.join(df)"
   ]
  },
  {
   "cell_type": "code",
   "execution_count": null,
   "metadata": {
    "tags": []
   },
   "outputs": [],
   "source": [
    "#df2.to_csv(\"Output/diseasome_dataframe.csv\", index=False)"
   ]
  },
  {
   "cell_type": "code",
   "execution_count": null,
   "metadata": {
    "tags": []
   },
   "outputs": [],
   "source": [
    "#df2"
   ]
  },
  {
   "cell_type": "code",
   "execution_count": null,
   "metadata": {},
   "outputs": [],
   "source": []
  }
 ],
 "metadata": {
  "kernelspec": {
   "display_name": "Python 3 (ipykernel)",
   "language": "python",
   "name": "python3"
  },
  "language_info": {
   "codemirror_mode": {
    "name": "ipython",
    "version": 3
   },
   "file_extension": ".py",
   "mimetype": "text/x-python",
   "name": "python",
   "nbconvert_exporter": "python",
   "pygments_lexer": "ipython3",
   "version": "3.9.17"
  }
 },
 "nbformat": 4,
 "nbformat_minor": 4
}
