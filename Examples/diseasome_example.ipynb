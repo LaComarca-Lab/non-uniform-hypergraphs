{
 "cells": [
  {
   "cell_type": "markdown",
   "metadata": {},
   "source": [
    "# Examples and calculations for the diseasome dataset"
   ]
  },
  {
   "cell_type": "code",
   "execution_count": 1,
   "metadata": {
    "tags": []
   },
   "outputs": [],
   "source": [
    "import copy\n",
    "import numpy as np\n",
    "import xgi\n",
    "import pandas\n",
    "from itertools import permutations\n",
    "from itertools import combinations\n",
    "from collections import Counter, defaultdict\n",
    "\n",
    "import matplotlib.pyplot as plt\n",
    "\n",
    "from hyperfunctions import *\n",
    "from other_measures import *"
   ]
  },
  {
   "cell_type": "markdown",
   "metadata": {},
   "source": [
    "We can load the dataset from XGI directly. "
   ]
  },
  {
   "cell_type": "code",
   "execution_count": 2,
   "metadata": {
    "tags": []
   },
   "outputs": [],
   "source": [
    "H = xgi.load_xgi_data(\"diseasome\")"
   ]
  },
  {
   "cell_type": "code",
   "execution_count": 3,
   "metadata": {
    "tags": []
   },
   "outputs": [
    {
     "data": {
      "text/plain": [
       "(516, 903, 11)"
      ]
     },
     "execution_count": 3,
     "metadata": {},
     "output_type": "execute_result"
    }
   ],
   "source": [
    "len(H.nodes), len(H.edges), H.edges.size.max()"
   ]
  },
  {
   "cell_type": "code",
   "execution_count": 4,
   "metadata": {
    "tags": []
   },
   "outputs": [],
   "source": [
    "H.remove_edges_from(H.edges.singletons()) # Remove edges with a single node in them (there are ~5000)\n",
    "H.remove_nodes_from(H.nodes.isolates())   # There are 6 nodes which only belonged to those singleton edges, we remove them as well.\n",
    "# Relabel all nodes to start from zero to the current number of nodes\n",
    "H = xgi.convert_labels_to_integers(H)\n",
    "\n",
    "H.cleanup(connected=False) #This basically does the same as the three above + checks for multiedges and removes them"
   ]
  },
  {
   "cell_type": "code",
   "execution_count": 5,
   "metadata": {
    "tags": []
   },
   "outputs": [
    {
     "data": {
      "text/plain": [
       "(516, 314, 11)"
      ]
     },
     "execution_count": 5,
     "metadata": {},
     "output_type": "execute_result"
    }
   ],
   "source": [
    "len(H.nodes), len(H.edges), H.edges.size.max()"
   ]
  },
  {
   "cell_type": "code",
   "execution_count": 6,
   "metadata": {
    "tags": []
   },
   "outputs": [
    {
     "data": {
      "text/plain": [
       "True"
      ]
     },
     "execution_count": 6,
     "metadata": {},
     "output_type": "execute_result"
    }
   ],
   "source": [
    "xgi.is_connected(H)"
   ]
  },
  {
   "cell_type": "markdown",
   "metadata": {},
   "source": [
    "## Hypergraph statistics"
   ]
  },
  {
   "cell_type": "code",
   "execution_count": 7,
   "metadata": {
    "tags": []
   },
   "outputs": [
    {
     "name": "stdout",
     "output_type": "stream",
     "text": [
      "Complete\n"
     ]
    },
    {
     "data": {
      "text/plain": [
       "(516, 314, 11)"
      ]
     },
     "execution_count": 7,
     "metadata": {},
     "output_type": "execute_result"
    }
   ],
   "source": [
    "print(\"Complete\")\n",
    "len(H.nodes), len(H.edges), H.edges.size.max()"
   ]
  },
  {
   "cell_type": "code",
   "execution_count": 8,
   "metadata": {
    "tags": []
   },
   "outputs": [],
   "source": [
    "sizes = defaultdict(int)\n",
    "for edge in H.edges.members():\n",
    "\n",
    "    if len(edge) == 0:\n",
    "        print(edge)\n",
    "    sizes[len(edge)] += 1"
   ]
  },
  {
   "cell_type": "code",
   "execution_count": 9,
   "metadata": {
    "scrolled": true,
    "tags": []
   },
   "outputs": [
    {
     "data": {
      "text/plain": [
       "<BarContainer object of 10 artists>"
      ]
     },
     "execution_count": 9,
     "metadata": {},
     "output_type": "execute_result"
    },
    {
     "data": {
      "image/png": "[encoded data removed]",
      "text/plain": [
       "<Figure size 640x480 with 1 Axes>"
      ]
     },
     "metadata": {},
     "output_type": "display_data"
    }
   ],
   "source": [
    "plt.bar(sizes.keys(), sizes.values())"
   ]
  },
  {
   "cell_type": "code",
   "execution_count": 10,
   "metadata": {},
   "outputs": [],
   "source": [
    "edgedict = H.edges.members(dtype=dict)"
   ]
  },
  {
   "cell_type": "code",
   "execution_count": 15,
   "metadata": {
    "tags": []
   },
   "outputs": [
    {
     "name": "stdout",
     "output_type": "stream",
     "text": [
      "Order 2\n",
      "36 35 (2, 2) 0.06976744186046512\n",
      "---\n",
      "Order 3\n",
      "43 24 (3, 3) 0.08333333333333333\n",
      "---\n",
      "Order 6\n",
      "11 2 (6, 6) 0.02131782945736434\n",
      "---\n",
      "Order 4\n",
      "20 7 (4, 4) 0.03875968992248062\n",
      "---\n",
      "Order 8\n",
      "15 2 (8, 8) 0.029069767441860465\n",
      "---\n",
      "Order 7\n",
      "7 1 (7, 7) 0.013565891472868217\n",
      "---\n",
      "Order 5\n",
      "20 5 (5, 5) 0.03875968992248062\n",
      "---\n",
      "Order 10\n",
      "10 1 (10, 10) 0.01937984496124031\n",
      "---\n",
      "Order 9\n",
      "9 1 (9, 9) 0.01744186046511628\n",
      "---\n",
      "Order 11\n",
      "11 1 (11, 11) 0.02131782945736434\n",
      "---\n"
     ]
    }
   ],
   "source": [
    "Hunif = {}\n",
    "for m in sizes.keys():\n",
    "    \n",
    "    Hunif[m] = uniform_section(H, edgedict, m)\n",
    "\n",
    "    print(\"Order\", m)\n",
    "    print(len(Hunif[m].nodes), len(Hunif[m].edges), (Hunif[m].edges.size.min(), Hunif[m].edges.size.max()), len(Hunif[m].nodes)/len(H.nodes))\n",
    "    print(\"---\")"
   ]
  },
  {
   "cell_type": "markdown",
   "metadata": {
    "tags": []
   },
   "source": [
    "## Order 2 - pure CEC "
   ]
  },
  {
   "cell_type": "code",
   "execution_count": 16,
   "metadata": {
    "tags": []
   },
   "outputs": [],
   "source": [
    "cec = xgi.clique_eigenvector_centrality(H)\n",
    "\n",
    "df = pandas.DataFrame({\"CEC\": cec})"
   ]
  },
  {
   "cell_type": "markdown",
   "metadata": {
    "tags": []
   },
   "source": [
    "## UPHEC at different orders"
   ]
  },
  {
   "cell_type": "code",
   "execution_count": null,
   "metadata": {
    "tags": []
   },
   "outputs": [
    {
     "name": "stdout",
     "output_type": "stream",
     "text": [
      "Order 2\n",
      "Finished in 19 iterations.\n",
      "---\n",
      "Order 3\n",
      "Finished in 34 iterations.\n",
      "---\n",
      "Order 4\n",
      "Finished in 50 iterations.\n",
      "---\n",
      "Order 5\n",
      "Finished in 64 iterations.\n",
      "---\n",
      "Order 6\n",
      "Finished in 80 iterations.\n",
      "---\n",
      "Order 7\n",
      "Finished in 89 iterations.\n",
      "---\n",
      "Order 8\n",
      "Finished in 104 iterations.\n",
      "---\n",
      "Order 9\n",
      "Finished in 121 iterations.\n",
      "---\n",
      "Order 10\n",
      "Finished in 139 iterations.\n",
      "---\n",
      "Order 11\n"
     ]
    }
   ],
   "source": [
    "for m in range(2,H.edges.size.max() + 1):\n",
    "\n",
    "    print(\"Order\", m)\n",
    "    \n",
    "    Tm = uniform_adjacency_combinatorial_tensor(H, m=m, math_notation=False)\n",
    "    \n",
    "    centm = HEC_ours(Tm, m=m, niter=100000, tol=1e-6, verbose=True)\n",
    "\n",
    "    # Remove last node (auxiliary) from uplift\n",
    "    if m > 2:\n",
    "        centm = centm[0][:-1] #extract last node\n",
    "        centm /= np.sum(centm) # normalize\n",
    "\n",
    "    if centm[1]:\n",
    "        df[f\"UPHEC-{m}\"] = centm[0]\n",
    "\n",
    "    print(\"---\")"
   ]
  },
  {
   "cell_type": "markdown",
   "metadata": {
    "tags": []
   },
   "source": [
    "## Uniform HEC at each order (as in Benson's work)"
   ]
  },
  {
   "cell_type": "code",
   "execution_count": null,
   "metadata": {
    "tags": []
   },
   "outputs": [],
   "source": [
    "for m in sizes.keys():\n",
    "\n",
    "    centmunif = xgi.algorithms.h_eigenvector_centrality(Hunif[m])\n",
    "    \n",
    "    for missing_node in range(len(H.nodes)):\n",
    "        if missing_node not in centmunif.keys():\n",
    "            centmunif[missing_node] = 0\n",
    "    \n",
    "    df[f\"HEC-{m}unif\"] = centmunif"
   ]
  },
  {
   "cell_type": "markdown",
   "metadata": {
    "jp-MarkdownHeadingCollapsed": true,
    "tags": []
   },
   "source": [
    "## Alternative uniformization scheme at different orders -- NOT DONE"
   ]
  },
  {
   "cell_type": "markdown",
   "metadata": {},
   "source": [
    "### Order 2 == the same as the UPHEC"
   ]
  },
  {
   "cell_type": "markdown",
   "metadata": {},
   "source": [
    "### Order 3"
   ]
  },
  {
   "cell_type": "code",
   "execution_count": null,
   "metadata": {
    "tags": []
   },
   "outputs": [],
   "source": [
    "%%time\n",
    "\n",
    "T3alt = alternative_uniformization(H, m=3, math_notation=False)\n",
    "\n",
    "cent3alt = HEC_ours(T3alt, m=3, niter=100000, tol=1e-6, verbose=True)"
   ]
  },
  {
   "cell_type": "code",
   "execution_count": null,
   "metadata": {
    "tags": []
   },
   "outputs": [],
   "source": [
    "if cent3alt[1]:\n",
    "    df[\"AltUnif-3\"] = cent3alt[0]"
   ]
  },
  {
   "cell_type": "markdown",
   "metadata": {},
   "source": [
    "### Order 4"
   ]
  },
  {
   "cell_type": "code",
   "execution_count": null,
   "metadata": {
    "tags": []
   },
   "outputs": [],
   "source": [
    "%%time\n",
    "\n",
    "T4alt = alternative_uniformization(H, m=4, math_notation=False)\n",
    "\n",
    "cent4alt = HEC_ours(T4alt, m=4, niter=100000, tol=1e-6, verbose=True)\n",
    "\n",
    "if cent4alt[1]:\n",
    "    df[\"AltUnif-4\"] = cent4alt[0]"
   ]
  },
  {
   "cell_type": "markdown",
   "metadata": {},
   "source": [
    "### Orden 5"
   ]
  },
  {
   "cell_type": "code",
   "execution_count": null,
   "metadata": {},
   "outputs": [],
   "source": [
    "%%time \n",
    "\n",
    "T5alt = alternative_uniformization(H, m=5, math_notation=True)\n",
    "\n",
    "cent5alt = HEC_ours(T5alt, m=5, niter=100000, tol=1e-6, verbose=True)\n",
    "\n",
    "if cent5alt[1]:\n",
    "    df[\"AltUnif-5\"] = cent5alt[0]"
   ]
  },
  {
   "cell_type": "markdown",
   "metadata": {},
   "source": [
    "## Save everything"
   ]
  },
  {
   "cell_type": "code",
   "execution_count": null,
   "metadata": {
    "tags": []
   },
   "outputs": [],
   "source": [
    "#df1 = pandas.read_csv(\"Output/diseasome_dataframe.csv\")"
   ]
  },
  {
   "cell_type": "code",
   "execution_count": null,
   "metadata": {
    "tags": []
   },
   "outputs": [],
   "source": [
    "#df2 = df1.join(df)"
   ]
  },
  {
   "cell_type": "code",
   "execution_count": null,
   "metadata": {
    "tags": []
   },
   "outputs": [],
   "source": [
    "#df2.to_csv(\"Output/diseasome_dataframe.csv\", index=False)"
   ]
  },
  {
   "cell_type": "code",
   "execution_count": null,
   "metadata": {
    "tags": []
   },
   "outputs": [],
   "source": [
    "#df2"
   ]
  },
  {
   "cell_type": "code",
   "execution_count": null,
   "metadata": {},
   "outputs": [],
   "source": []
  }
 ],
 "metadata": {
  "kernelspec": {
   "display_name": "Python 3 (ipykernel)",
   "language": "python",
   "name": "python3"
  },
  "language_info": {
   "codemirror_mode": {
    "name": "ipython",
    "version": 3
   },
   "file_extension": ".py",
   "mimetype": "text/x-python",
   "name": "python",
   "nbconvert_exporter": "python",
   "pygments_lexer": "ipython3",
   "version": "3.9.17"
  }
 },
 "nbformat": 4,
 "nbformat_minor": 4
}
