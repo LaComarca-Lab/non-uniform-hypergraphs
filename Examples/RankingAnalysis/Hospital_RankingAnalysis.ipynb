{
 "cells": [
  {
   "cell_type": "markdown",
   "id": "ef77113a-8db5-4179-bdcf-44e552c00f46",
   "metadata": {},
   "source": [
    "# Analysis of the rankings obtained in the hospital-lyon hypergraph"
   ]
  },
  {
   "cell_type": "code",
   "execution_count": 1,
   "id": "b9bfb58a-daa4-43c7-aa18-3f1c54bda337",
   "metadata": {
    "tags": []
   },
   "outputs": [],
   "source": [
    "import numpy as np\n",
    "import pandas\n",
    "import matplotlib.pyplot as plt\n",
    "import seaborn as sns\n",
    "import scipy\n",
    "\n",
    "import scienceplots\n",
    "\n",
    "plt.style.use(['science', 'no-latex'])\n",
    "\n",
    "from collections import defaultdict"
   ]
  },
  {
   "cell_type": "code",
   "execution_count": 2,
   "id": "5dd9e70f-1f35-4c83-9ee5-ee7abff15b83",
   "metadata": {
    "tags": []
   },
   "outputs": [],
   "source": [
    "df = pandas.read_csv(\"../../Output/hospital_dataframe.csv\")"
   ]
  },
  {
   "cell_type": "code",
   "execution_count": 3,
   "id": "cba05232-e6d5-4a02-a9ad-37006805e2d9",
   "metadata": {
    "tags": []
   },
   "outputs": [],
   "source": [
    "df.drop(\"AltUnif-2\", axis=1, inplace=True)"
   ]
  },
  {
   "cell_type": "code",
   "execution_count": 4,
   "id": "96024c33-ab6a-4b69-9fe3-57a28f21b465",
   "metadata": {},
   "outputs": [
    {
     "data": {
      "text/html": [
       "<div>\n",
       "<style scoped>\n",
       "    .dataframe tbody tr th:only-of-type {\n",
       "        vertical-align: middle;\n",
       "    }\n",
       "\n",
       "    .dataframe tbody tr th {\n",
       "        vertical-align: top;\n",
       "    }\n",
       "\n",
       "    .dataframe thead th {\n",
       "        text-align: right;\n",
       "    }\n",
       "</style>\n",
       "<table border=\"1\" class=\"dataframe\">\n",
       "  <thead>\n",
       "    <tr style=\"text-align: right;\">\n",
       "      <th></th>\n",
       "      <th>CEC</th>\n",
       "      <th>UPHEC-2</th>\n",
       "      <th>UPHEC-3</th>\n",
       "      <th>UPHEC-4</th>\n",
       "      <th>UPHEC-5</th>\n",
       "      <th>HEC-3unif</th>\n",
       "      <th>HEC-2unif</th>\n",
       "      <th>HEC-4unif</th>\n",
       "      <th>HEC-5unif</th>\n",
       "      <th>AltUnif-3</th>\n",
       "      <th>AltUnif-4</th>\n",
       "      <th>AltUnif-5</th>\n",
       "    </tr>\n",
       "  </thead>\n",
       "  <tbody>\n",
       "    <tr>\n",
       "      <th>0</th>\n",
       "      <td>0.027757</td>\n",
       "      <td>0.023123</td>\n",
       "      <td>0.019813</td>\n",
       "      <td>0.017907</td>\n",
       "      <td>0.017032</td>\n",
       "      <td>0.026020</td>\n",
       "      <td>0.021856</td>\n",
       "      <td>0.026416</td>\n",
       "      <td>0.120520</td>\n",
       "      <td>0.019080</td>\n",
       "      <td>0.017654</td>\n",
       "      <td>0.017006</td>\n",
       "    </tr>\n",
       "    <tr>\n",
       "      <th>1</th>\n",
       "      <td>0.021048</td>\n",
       "      <td>0.019829</td>\n",
       "      <td>0.018419</td>\n",
       "      <td>0.017265</td>\n",
       "      <td>0.016350</td>\n",
       "      <td>0.021497</td>\n",
       "      <td>0.018378</td>\n",
       "      <td>0.025425</td>\n",
       "      <td>0.120519</td>\n",
       "      <td>0.017971</td>\n",
       "      <td>0.016861</td>\n",
       "      <td>0.015762</td>\n",
       "    </tr>\n",
       "    <tr>\n",
       "      <th>2</th>\n",
       "      <td>0.027982</td>\n",
       "      <td>0.022973</td>\n",
       "      <td>0.019828</td>\n",
       "      <td>0.017880</td>\n",
       "      <td>0.016990</td>\n",
       "      <td>0.025808</td>\n",
       "      <td>0.021693</td>\n",
       "      <td>0.028992</td>\n",
       "      <td>0.120519</td>\n",
       "      <td>0.019118</td>\n",
       "      <td>0.017531</td>\n",
       "      <td>0.016894</td>\n",
       "    </tr>\n",
       "    <tr>\n",
       "      <th>3</th>\n",
       "      <td>0.004057</td>\n",
       "      <td>0.008875</td>\n",
       "      <td>0.010116</td>\n",
       "      <td>0.011034</td>\n",
       "      <td>0.011546</td>\n",
       "      <td>0.009717</td>\n",
       "      <td>0.006566</td>\n",
       "      <td>0.034161</td>\n",
       "      <td>0.138441</td>\n",
       "      <td>0.009616</td>\n",
       "      <td>0.010675</td>\n",
       "      <td>0.011059</td>\n",
       "    </tr>\n",
       "    <tr>\n",
       "      <th>4</th>\n",
       "      <td>0.009356</td>\n",
       "      <td>0.013022</td>\n",
       "      <td>0.013080</td>\n",
       "      <td>0.013363</td>\n",
       "      <td>0.013458</td>\n",
       "      <td>0.014306</td>\n",
       "      <td>0.013414</td>\n",
       "      <td>0.035672</td>\n",
       "      <td>0.138441</td>\n",
       "      <td>0.012778</td>\n",
       "      <td>0.013588</td>\n",
       "      <td>0.013632</td>\n",
       "    </tr>\n",
       "    <tr>\n",
       "      <th>...</th>\n",
       "      <td>...</td>\n",
       "      <td>...</td>\n",
       "      <td>...</td>\n",
       "      <td>...</td>\n",
       "      <td>...</td>\n",
       "      <td>...</td>\n",
       "      <td>...</td>\n",
       "      <td>...</td>\n",
       "      <td>...</td>\n",
       "      <td>...</td>\n",
       "      <td>...</td>\n",
       "      <td>...</td>\n",
       "    </tr>\n",
       "    <tr>\n",
       "      <th>70</th>\n",
       "      <td>0.007459</td>\n",
       "      <td>0.011532</td>\n",
       "      <td>0.012515</td>\n",
       "      <td>0.012796</td>\n",
       "      <td>0.012997</td>\n",
       "      <td>0.001919</td>\n",
       "      <td>0.012689</td>\n",
       "      <td>0.000000</td>\n",
       "      <td>0.000000</td>\n",
       "      <td>0.012812</td>\n",
       "      <td>0.012863</td>\n",
       "      <td>0.013050</td>\n",
       "    </tr>\n",
       "    <tr>\n",
       "      <th>71</th>\n",
       "      <td>0.002185</td>\n",
       "      <td>0.006778</td>\n",
       "      <td>0.008373</td>\n",
       "      <td>0.010056</td>\n",
       "      <td>0.010786</td>\n",
       "      <td>0.007875</td>\n",
       "      <td>0.010078</td>\n",
       "      <td>0.000000</td>\n",
       "      <td>0.000000</td>\n",
       "      <td>0.009408</td>\n",
       "      <td>0.010911</td>\n",
       "      <td>0.011481</td>\n",
       "    </tr>\n",
       "    <tr>\n",
       "      <th>72</th>\n",
       "      <td>0.002540</td>\n",
       "      <td>0.006651</td>\n",
       "      <td>0.008183</td>\n",
       "      <td>0.009792</td>\n",
       "      <td>0.010505</td>\n",
       "      <td>0.000000</td>\n",
       "      <td>0.009692</td>\n",
       "      <td>0.000000</td>\n",
       "      <td>0.000000</td>\n",
       "      <td>0.009414</td>\n",
       "      <td>0.010822</td>\n",
       "      <td>0.011387</td>\n",
       "    </tr>\n",
       "    <tr>\n",
       "      <th>73</th>\n",
       "      <td>0.001303</td>\n",
       "      <td>0.005063</td>\n",
       "      <td>0.006799</td>\n",
       "      <td>0.008559</td>\n",
       "      <td>0.009475</td>\n",
       "      <td>0.000000</td>\n",
       "      <td>0.004798</td>\n",
       "      <td>0.000000</td>\n",
       "      <td>0.000000</td>\n",
       "      <td>0.007273</td>\n",
       "      <td>0.008703</td>\n",
       "      <td>0.009424</td>\n",
       "    </tr>\n",
       "    <tr>\n",
       "      <th>74</th>\n",
       "      <td>0.002635</td>\n",
       "      <td>0.006943</td>\n",
       "      <td>0.008590</td>\n",
       "      <td>0.009737</td>\n",
       "      <td>0.010436</td>\n",
       "      <td>0.000000</td>\n",
       "      <td>0.003671</td>\n",
       "      <td>0.000000</td>\n",
       "      <td>0.000000</td>\n",
       "      <td>0.007915</td>\n",
       "      <td>0.009041</td>\n",
       "      <td>0.009555</td>\n",
       "    </tr>\n",
       "  </tbody>\n",
       "</table>\n",
       "<p>75 rows × 12 columns</p>\n",
       "</div>"
      ],
      "text/plain": [
       "         CEC   UPHEC-2   UPHEC-3   UPHEC-4   UPHEC-5  HEC-3unif  HEC-2unif  \\\n",
       "0   0.027757  0.023123  0.019813  0.017907  0.017032   0.026020   0.021856   \n",
       "1   0.021048  0.019829  0.018419  0.017265  0.016350   0.021497   0.018378   \n",
       "2   0.027982  0.022973  0.019828  0.017880  0.016990   0.025808   0.021693   \n",
       "3   0.004057  0.008875  0.010116  0.011034  0.011546   0.009717   0.006566   \n",
       "4   0.009356  0.013022  0.013080  0.013363  0.013458   0.014306   0.013414   \n",
       "..       ...       ...       ...       ...       ...        ...        ...   \n",
       "70  0.007459  0.011532  0.012515  0.012796  0.012997   0.001919   0.012689   \n",
       "71  0.002185  0.006778  0.008373  0.010056  0.010786   0.007875   0.010078   \n",
       "72  0.002540  0.006651  0.008183  0.009792  0.010505   0.000000   0.009692   \n",
       "73  0.001303  0.005063  0.006799  0.008559  0.009475   0.000000   0.004798   \n",
       "74  0.002635  0.006943  0.008590  0.009737  0.010436   0.000000   0.003671   \n",
       "\n",
       "    HEC-4unif  HEC-5unif  AltUnif-3  AltUnif-4  AltUnif-5  \n",
       "0    0.026416   0.120520   0.019080   0.017654   0.017006  \n",
       "1    0.025425   0.120519   0.017971   0.016861   0.015762  \n",
       "2    0.028992   0.120519   0.019118   0.017531   0.016894  \n",
       "3    0.034161   0.138441   0.009616   0.010675   0.011059  \n",
       "4    0.035672   0.138441   0.012778   0.013588   0.013632  \n",
       "..        ...        ...        ...        ...        ...  \n",
       "70   0.000000   0.000000   0.012812   0.012863   0.013050  \n",
       "71   0.000000   0.000000   0.009408   0.010911   0.011481  \n",
       "72   0.000000   0.000000   0.009414   0.010822   0.011387  \n",
       "73   0.000000   0.000000   0.007273   0.008703   0.009424  \n",
       "74   0.000000   0.000000   0.007915   0.009041   0.009555  \n",
       "\n",
       "[75 rows x 12 columns]"
      ]
     },
     "execution_count": 4,
     "metadata": {},
     "output_type": "execute_result"
    }
   ],
   "source": [
    "df"
   ]
  },
  {
   "cell_type": "markdown",
   "id": "8fc7079f-0849-4e54-ad23-1b998a708774",
   "metadata": {},
   "source": [
    "We have to sort the columns before showing the KT plots. This is a bit more cumbersome than it should due to the alphabetical sorting."
   ]
  },
  {
   "cell_type": "code",
   "execution_count": 5,
   "id": "100f4a0f-5455-4509-8f95-48ebde8a0673",
   "metadata": {},
   "outputs": [],
   "source": [
    "def sortcolumns(df):\n",
    "\n",
    "    labeldict = {\"U\":[], \"H\":[], \"A\":[]}\n",
    "    for label in df.columns:\n",
    "        if \"UPHEC\" in label:\n",
    "            labeldict[\"U\"].append(label)\n",
    "        elif \"Alt\" in label:\n",
    "            labeldict[\"A\"].append(label)\n",
    "        elif \"CEC\" not in label:\n",
    "            labeldict[\"H\"].append(label)\n",
    "    \n",
    "    # Sort UPHEC, AltUnif\n",
    "    for key in [\"U\",\"A\"]:\n",
    "        labeldict[key] = sorted(labeldict[key])\n",
    "    \n",
    "    # Sort the remaining one according to its number\n",
    "    Hmindex = [int(label.split(\"-\")[1].split(\"u\")[0]) for label in labeldict[\"H\"]]\n",
    "    labeldict[\"H\"] = list(np.array(labeldict[\"H\"])[np.argsort(Hmindex)])\n",
    "     \n",
    "    return df.reindex([\"CEC\"]+ labeldict[\"U\"]+ labeldict[\"H\"]+ labeldict[\"A\"], axis=1)"
   ]
  },
  {
   "cell_type": "code",
   "execution_count": 6,
   "id": "0f262ced-4d3e-4950-b89d-4cf7915c3371",
   "metadata": {},
   "outputs": [],
   "source": [
    "df = sortcolumns(df)"
   ]
  },
  {
   "cell_type": "code",
   "execution_count": 7,
   "id": "9fc5e3c1-e04c-4833-a499-e7d72f585622",
   "metadata": {},
   "outputs": [],
   "source": [
    "#df[labeldict[\"U\"] + labeldict[\"A\"]]"
   ]
  },
  {
   "cell_type": "code",
   "execution_count": 8,
   "id": "9d36bbb6-fcec-4dfc-a260-5e72e11fb8a6",
   "metadata": {
    "scrolled": true,
    "tags": []
   },
   "outputs": [
    {
     "data": {
      "text/plain": [
       "CEC          1.0\n",
       "UPHEC-2      1.0\n",
       "UPHEC-3      1.0\n",
       "UPHEC-4      1.0\n",
       "UPHEC-5      1.0\n",
       "HEC-2unif    1.0\n",
       "HEC-3unif    1.0\n",
       "HEC-4unif    1.0\n",
       "HEC-5unif    1.0\n",
       "AltUnif-3    1.0\n",
       "AltUnif-4    1.0\n",
       "AltUnif-5    1.0\n",
       "dtype: float64"
      ]
     },
     "execution_count": 8,
     "metadata": {},
     "output_type": "execute_result"
    }
   ],
   "source": [
    "df.sum() # consistency check"
   ]
  },
  {
   "cell_type": "code",
   "execution_count": 9,
   "id": "74fbac22-3eb0-46eb-8e05-4e48af8605b3",
   "metadata": {},
   "outputs": [],
   "source": [
    "#series2 = df[\"HEC-2unif\"]\n",
    "#series2[series2 > 0].count()"
   ]
  },
  {
   "cell_type": "code",
   "execution_count": 10,
   "id": "0e7bde16-b16c-4b82-a5ec-963a770bef43",
   "metadata": {},
   "outputs": [],
   "source": [
    "#series5 = df[\"AltUnif-5\"]\n",
    "#series5obtained"
   ]
  },
  {
   "cell_type": "markdown",
   "id": "68b42aa7-5013-4610-91b6-28a624a02933",
   "metadata": {},
   "source": [
    "## Complete ranking - Kendall's tau"
   ]
  },
  {
   "cell_type": "code",
   "execution_count": 11,
   "id": "f94bf9f6-a387-4bb7-a088-fc4c83969f75",
   "metadata": {
    "tags": []
   },
   "outputs": [],
   "source": [
    "KT = np.zeros((len(df.columns),len(df.columns)))\n",
    "for i, row in enumerate(df):\n",
    "    for j, col in enumerate(df):\n",
    "        KT[i,j] = scipy.stats.kendalltau(df[row],df[col]).statistic"
   ]
  },
  {
   "cell_type": "code",
   "execution_count": 12,
   "id": "ce045e3b-359b-4826-90ec-cbe3c09c26cf",
   "metadata": {
    "tags": []
   },
   "outputs": [
    {
     "data": {
      "text/plain": [
       "0.16306438682179725"
      ]
     },
     "execution_count": 12,
     "metadata": {},
     "output_type": "execute_result"
    }
   ],
   "source": [
    "np.min(KT)"
   ]
  },
  {
   "cell_type": "code",
   "execution_count": 13,
   "id": "c10047fb-be7d-47a7-b98a-5896cb268135",
   "metadata": {},
   "outputs": [
    {
     "data": {
      "text/plain": [
       "array([[1.        , 0.94378378, 0.95747748, 0.93225225, 0.92072072,\n",
       "        0.79027027, 0.78961612, 0.32258104, 0.17905109, 0.93009009,\n",
       "        0.88396396, 0.87603604],\n",
       "       [0.94378378, 1.        , 0.97477477, 0.97261261, 0.96972973,\n",
       "        0.81045045, 0.77375169, 0.33618129, 0.18704444, 0.93297297,\n",
       "        0.90846847, 0.90054054],\n",
       "       [0.95747748, 0.97477477, 1.        , 0.97045045, 0.95891892,\n",
       "        0.80540541, 0.78312613, 0.33618129, 0.18864311, 0.9409009 ,\n",
       "        0.90198198, 0.89117117],\n",
       "       [0.93225225, 0.97261261, 0.97045045, 1.        , 0.98702703,\n",
       "        0.82198198, 0.7744728 , 0.34128139, 0.1950378 , 0.94594595,\n",
       "        0.92144144, 0.90630631],\n",
       "       [0.92072072, 0.96972973, 0.95891892, 0.98702703, 1.        ,\n",
       "        0.82342342, 0.76437725, 0.3472315 , 0.1950378 , 0.94306306,\n",
       "        0.92      , 0.90630631],\n",
       "       [0.79027027, 0.81045045, 0.80540541, 0.82198198, 0.82342342,\n",
       "        1.        , 0.68505508, 0.36423182, 0.1678604 , 0.85009009,\n",
       "        0.89333333, 0.90846847],\n",
       "       [0.78961612, 0.77375169, 0.78312613, 0.7744728 , 0.76437725,\n",
       "        0.68505508, 1.        , 0.3244565 , 0.20953913, 0.75211837,\n",
       "        0.74634949, 0.74130171],\n",
       "       [0.32258104, 0.33618129, 0.33618129, 0.34128139, 0.3472315 ,\n",
       "        0.36423182, 0.3244565 , 1.        , 0.33749864, 0.33618129,\n",
       "        0.3472315 , 0.35488164],\n",
       "       [0.17905109, 0.18704444, 0.18864311, 0.1950378 , 0.1950378 ,\n",
       "        0.1678604 , 0.20953913, 0.33749864, 1.        , 0.16306439,\n",
       "        0.17585375, 0.1678604 ],\n",
       "       [0.93009009, 0.93297297, 0.9409009 , 0.94594595, 0.94306306,\n",
       "        0.85009009, 0.75211837, 0.33618129, 0.16306439, 1.        ,\n",
       "        0.93945946, 0.93009009],\n",
       "       [0.88396396, 0.90846847, 0.90198198, 0.92144144, 0.92      ,\n",
       "        0.89333333, 0.74634949, 0.3472315 , 0.17585375, 0.93945946,\n",
       "        1.        , 0.9790991 ],\n",
       "       [0.87603604, 0.90054054, 0.89117117, 0.90630631, 0.90630631,\n",
       "        0.90846847, 0.74130171, 0.35488164, 0.1678604 , 0.93009009,\n",
       "        0.9790991 , 1.        ]])"
      ]
     },
     "execution_count": 13,
     "metadata": {},
     "output_type": "execute_result"
    }
   ],
   "source": [
    "KT"
   ]
  },
  {
   "cell_type": "code",
   "execution_count": 14,
   "id": "6684edca-a933-4b20-b637-2a8c57389bf6",
   "metadata": {},
   "outputs": [],
   "source": [
    "def findInt(col):\n",
    "    index = col.find(\"-\")\n",
    "    for n in [3,2,1]:\n",
    "        try:\n",
    "            M = int(col[index+1:index+n])\n",
    "            return str(M)\n",
    "        except:\n",
    "            continue\n",
    "labels = [str(col)[0]+findInt(col) for col in list(df.columns)[1:]]\n",
    "\n",
    "type_dict = defaultdict(int)\n",
    "for cent in labels:\n",
    "    type_dict[cent[0]] += 1\n",
    "    \n",
    "separators = [type_dict[\"U\"], type_dict[\"H\"]+type_dict[\"U\"]]"
   ]
  },
  {
   "cell_type": "code",
   "execution_count": 15,
   "id": "57f95900-bed3-43a3-a613-28e1c613b5ca",
   "metadata": {},
   "outputs": [
    {
     "name": "stdout",
     "output_type": "stream",
     "text": [
      "defaultdict(<class 'int'>, {'U': 4, 'H': 4, 'A': 3})\n"
     ]
    }
   ],
   "source": [
    "print(type_dict)"
   ]
  },
  {
   "cell_type": "code",
   "execution_count": 16,
   "id": "24bb51c3-a1e5-4b91-beee-762b33cabeb9",
   "metadata": {
    "tags": []
   },
   "outputs": [
    {
     "data": {
      "image/png": "[encoded data removed]",
      "text/plain": [
       "<Figure size 1000x800 with 2 Axes>"
      ]
     },
     "metadata": {},
     "output_type": "display_data"
    }
   ],
   "source": [
    "fig, ax = plt.subplots(1,1, figsize=(10,8))\n",
    "\n",
    "ax = sns.heatmap(KT[1:,1:], annot=False, vmin=0, vmax=1)\n",
    "\n",
    "ax.hlines(separators, *ax.get_xlim(), linewidth=5)\n",
    "ax.vlines(separators, *ax.get_ylim(), linewidth=5)\n",
    "\n",
    "ax.set_yticklabels(labels, rotation=0)\n",
    "ax.set_xticklabels(labels, rotation=45)\n",
    "\n",
    "#plt.savefig(\"Figures/KT_heatmap.svg\")\n",
    "\n",
    "plt.show()"
   ]
  },
  {
   "cell_type": "markdown",
   "id": "38c30f99-b826-498f-a166-38c6f06ca192",
   "metadata": {
    "tags": []
   },
   "source": [
    "## Top-K ranking\n"
   ]
  },
  {
   "cell_type": "code",
   "execution_count": 17,
   "id": "884873f9-8ae6-4b5c-b642-ccb1d87f16aa",
   "metadata": {
    "tags": []
   },
   "outputs": [],
   "source": [
    "## Top K nodes based on a centrality dictionary ##\n",
    "def topK(cent, K=None, return_list=False):\n",
    "    \"\"\"\n",
    "    Given a dictionary node-centrality score, return the top K ranking\n",
    "    \"\"\"\n",
    "\n",
    "    if not K:\n",
    "        K = len(cent)\n",
    "    \n",
    "    C = sorted(cent, key=cent.get, reverse=True)[:K]\n",
    "    ranking = {key: cent[key] for key in C}\n",
    "    \n",
    "    if return_list:\n",
    "        return C\n",
    "\n",
    "    return ranking"
   ]
  },
  {
   "cell_type": "code",
   "execution_count": 18,
   "id": "034cbeaf-c95b-4705-a4e7-95fd4bc333ad",
   "metadata": {
    "tags": []
   },
   "outputs": [],
   "source": [
    "dictlist = df.to_dict()"
   ]
  },
  {
   "cell_type": "code",
   "execution_count": 19,
   "id": "c11bad96-aa3e-48cb-b6d4-e88c3f70f185",
   "metadata": {
    "tags": []
   },
   "outputs": [
    {
     "name": "stdout",
     "output_type": "stream",
     "text": [
      "CEC dict_keys([27, 30, 28, 29, 8, 15, 11, 6, 5, 2])\n",
      "UPHEC-2 dict_keys([27, 30, 29, 28, 8, 15, 11, 6, 0, 2])\n",
      "UPHEC-3 dict_keys([27, 30, 28, 29, 8, 15, 11, 6, 5, 2])\n",
      "UPHEC-4 dict_keys([27, 30, 28, 29, 8, 15, 6, 11, 5, 0])\n",
      "UPHEC-5 dict_keys([27, 30, 28, 29, 8, 15, 6, 11, 5, 0])\n",
      "HEC-2unif dict_keys([6, 30, 8, 11, 27, 5, 29, 0, 2, 51])\n",
      "HEC-3unif dict_keys([27, 30, 29, 8, 28, 6, 15, 11, 5, 0])\n",
      "HEC-4unif dict_keys([17, 20, 18, 5, 11, 8, 19, 13, 4, 28])\n",
      "HEC-5unif dict_keys([3, 4, 6, 5, 0, 1, 2, 7, 8, 9])\n",
      "AltUnif-3 dict_keys([27, 30, 28, 29, 8, 15, 11, 6, 5, 2])\n",
      "AltUnif-4 dict_keys([27, 30, 29, 28, 8, 6, 5, 11, 15, 0])\n",
      "AltUnif-5 dict_keys([30, 27, 29, 8, 6, 28, 11, 0, 5, 15])\n"
     ]
    }
   ],
   "source": [
    "for key1, value1 in dictlist.items():\n",
    "    print(key1, topK(value1,K=10).keys())"
   ]
  },
  {
   "cell_type": "code",
   "execution_count": 20,
   "id": "fa4fbdbf-283f-4607-b787-6949f7f27ab1",
   "metadata": {},
   "outputs": [
    {
     "name": "stdout",
     "output_type": "stream",
     "text": [
      "Comparing CEC against the rest.\n",
      "Comparing UPHEC-2 against the rest.\n",
      "Comparing UPHEC-3 against the rest.\n",
      "Comparing UPHEC-4 against the rest.\n",
      "Comparing UPHEC-5 against the rest.\n",
      "Comparing HEC-2unif against the rest.\n",
      "Comparing HEC-3unif against the rest.\n",
      "Comparing HEC-4unif against the rest.\n",
      "Comparing HEC-5unif against the rest.\n",
      "Comparing AltUnif-3 against the rest.\n",
      "Comparing AltUnif-4 against the rest.\n",
      "Comparing AltUnif-5 against the rest.\n"
     ]
    }
   ],
   "source": [
    "KTtopK = defaultdict(list)\n",
    "\n",
    "for key1, value1 in dictlist.items():\n",
    "    \n",
    "    print(\"Comparing\", key1, \"against the rest.\")\n",
    "    \n",
    "    for key2, value2 in dictlist.items():\n",
    "        \n",
    "        if key1 == key2:\n",
    "            continue\n",
    "        \n",
    "        for k in range(1, len(df)):\n",
    "                        \n",
    "            topk1 = topK(value1, K=k)\n",
    "            centrals2 = [value2[node] for node in topk1.keys()]\n",
    "            \n",
    "            KTtopK[key1 + \" -> \" + key2].append( scipy.stats.kendalltau(list(topk1.values()), centrals2).statistic )"
   ]
  },
  {
   "cell_type": "code",
   "execution_count": 21,
   "id": "7eb0e963-ee24-4901-b26b-cfe0c728055b",
   "metadata": {
    "tags": []
   },
   "outputs": [
    {
     "data": {
      "image/png": "[encoded data removed]",
      "text/plain": [
       "<Figure size 350x262.5 with 1 Axes>"
      ]
     },
     "metadata": {},
     "output_type": "display_data"
    }
   ],
   "source": [
    "for key, val in KTtopK.items():\n",
    "    plt.plot(val, label=key)\n",
    "    \n",
    "#plt.legend()"
   ]
  },
  {
   "cell_type": "code",
   "execution_count": null,
   "id": "ee908997-33d4-4691-9972-89db0a64c308",
   "metadata": {},
   "outputs": [],
   "source": []
  }
 ],
 "metadata": {
  "kernelspec": {
   "display_name": "Python 3 (ipykernel)",
   "language": "python",
   "name": "python3"
  },
  "language_info": {
   "codemirror_mode": {
    "name": "ipython",
    "version": 3
   },
   "file_extension": ".py",
   "mimetype": "text/x-python",
   "name": "python",
   "nbconvert_exporter": "python",
   "pygments_lexer": "ipython3",
   "version": "3.9.17"
  }
 },
 "nbformat": 4,
 "nbformat_minor": 5
}
