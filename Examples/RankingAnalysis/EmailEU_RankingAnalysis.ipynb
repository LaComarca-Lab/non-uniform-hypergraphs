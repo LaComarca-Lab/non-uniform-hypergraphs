{
 "cells": [
  {
   "cell_type": "markdown",
   "id": "ef77113a-8db5-4179-bdcf-44e552c00f46",
   "metadata": {},
   "source": [
    "# Analysis of the rankings obtained in the EmailEU hypergraph"
   ]
  },
  {
   "cell_type": "markdown",
   "id": "7e996694-52d7-4d6e-85e8-eb7dd08c7ba0",
   "metadata": {},
   "source": [
    "### NOTE: the calculation crashes (I think lack of RAM) when trying to compute the UPHEC-5...."
   ]
  },
  {
   "cell_type": "code",
   "execution_count": 1,
   "id": "b9bfb58a-daa4-43c7-aa18-3f1c54bda337",
   "metadata": {
    "tags": []
   },
   "outputs": [],
   "source": [
    "import numpy as np\n",
    "import pandas\n",
    "import matplotlib.pyplot as plt\n",
    "import seaborn as sns\n",
    "import scipy\n",
    "\n",
    "import scienceplots\n",
    "\n",
    "plt.style.use(['science', 'no-latex'])\n",
    "\n",
    "from collections import defaultdict"
   ]
  },
  {
   "cell_type": "code",
   "execution_count": 2,
   "id": "5dd9e70f-1f35-4c83-9ee5-ee7abff15b83",
   "metadata": {
    "tags": []
   },
   "outputs": [],
   "source": [
    "df = pandas.read_csv(\"../Output/email-eu_dataframe.csv\")"
   ]
  },
  {
   "cell_type": "code",
   "execution_count": 3,
   "id": "cba05232-e6d5-4a02-a9ad-37006805e2d9",
   "metadata": {
    "scrolled": true,
    "tags": []
   },
   "outputs": [
    {
     "data": {
      "text/html": [
       "<div>\n",
       "<style scoped>\n",
       "    .dataframe tbody tr th:only-of-type {\n",
       "        vertical-align: middle;\n",
       "    }\n",
       "\n",
       "    .dataframe tbody tr th {\n",
       "        vertical-align: top;\n",
       "    }\n",
       "\n",
       "    .dataframe thead th {\n",
       "        text-align: right;\n",
       "    }\n",
       "</style>\n",
       "<table border=\"1\" class=\"dataframe\">\n",
       "  <thead>\n",
       "    <tr style=\"text-align: right;\">\n",
       "      <th></th>\n",
       "      <th>CEC</th>\n",
       "      <th>UPHEC-2</th>\n",
       "      <th>UPHEC-3</th>\n",
       "      <th>UPHEC-4</th>\n",
       "      <th>HEC-2unif</th>\n",
       "      <th>HEC-8unif</th>\n",
       "      <th>HEC-6unif</th>\n",
       "      <th>HEC-4unif</th>\n",
       "      <th>HEC-3unif</th>\n",
       "      <th>HEC-5unif</th>\n",
       "      <th>...</th>\n",
       "      <th>HEC-34unif</th>\n",
       "      <th>HEC-33unif</th>\n",
       "      <th>HEC-39unif</th>\n",
       "      <th>HEC-40unif</th>\n",
       "      <th>HEC-31unif</th>\n",
       "      <th>HEC-32unif</th>\n",
       "      <th>HEC-37unif</th>\n",
       "      <th>AltUnif-2</th>\n",
       "      <th>AltUnif-3</th>\n",
       "      <th>AltUnif-4</th>\n",
       "    </tr>\n",
       "  </thead>\n",
       "  <tbody>\n",
       "    <tr>\n",
       "      <th>0</th>\n",
       "      <td>4.060333e-04</td>\n",
       "      <td>0.001253</td>\n",
       "      <td>0.001444</td>\n",
       "      <td>0.001598</td>\n",
       "      <td>0.001204</td>\n",
       "      <td>0.001326</td>\n",
       "      <td>0.001146</td>\n",
       "      <td>0.001041</td>\n",
       "      <td>0.000667</td>\n",
       "      <td>0.001313</td>\n",
       "      <td>...</td>\n",
       "      <td>0.004058</td>\n",
       "      <td>0.018162</td>\n",
       "      <td>0.008470</td>\n",
       "      <td>0.023849</td>\n",
       "      <td>0.028352</td>\n",
       "      <td>0.010484</td>\n",
       "      <td>0.023925</td>\n",
       "      <td>0.001253</td>\n",
       "      <td>0.001444</td>\n",
       "      <td>0.001590</td>\n",
       "    </tr>\n",
       "    <tr>\n",
       "      <th>1</th>\n",
       "      <td>2.085870e-04</td>\n",
       "      <td>0.001221</td>\n",
       "      <td>0.001659</td>\n",
       "      <td>0.001834</td>\n",
       "      <td>0.001118</td>\n",
       "      <td>0.000516</td>\n",
       "      <td>0.003738</td>\n",
       "      <td>0.000211</td>\n",
       "      <td>0.000324</td>\n",
       "      <td>0.000599</td>\n",
       "      <td>...</td>\n",
       "      <td>0.020377</td>\n",
       "      <td>0.018162</td>\n",
       "      <td>0.008917</td>\n",
       "      <td>0.023849</td>\n",
       "      <td>0.028730</td>\n",
       "      <td>0.010484</td>\n",
       "      <td>0.023925</td>\n",
       "      <td>0.001221</td>\n",
       "      <td>0.001659</td>\n",
       "      <td>0.001825</td>\n",
       "    </tr>\n",
       "    <tr>\n",
       "      <th>2</th>\n",
       "      <td>2.972874e-03</td>\n",
       "      <td>0.002392</td>\n",
       "      <td>0.001275</td>\n",
       "      <td>0.001087</td>\n",
       "      <td>0.001801</td>\n",
       "      <td>0.002386</td>\n",
       "      <td>0.003911</td>\n",
       "      <td>0.009942</td>\n",
       "      <td>0.008295</td>\n",
       "      <td>0.007249</td>\n",
       "      <td>...</td>\n",
       "      <td>0.020377</td>\n",
       "      <td>0.018162</td>\n",
       "      <td>0.008919</td>\n",
       "      <td>0.023849</td>\n",
       "      <td>0.028730</td>\n",
       "      <td>0.010484</td>\n",
       "      <td>0.023925</td>\n",
       "      <td>0.002392</td>\n",
       "      <td>0.001271</td>\n",
       "      <td>0.001081</td>\n",
       "    </tr>\n",
       "    <tr>\n",
       "      <th>3</th>\n",
       "      <td>3.093814e-03</td>\n",
       "      <td>0.002712</td>\n",
       "      <td>0.001132</td>\n",
       "      <td>0.000765</td>\n",
       "      <td>0.002550</td>\n",
       "      <td>0.002494</td>\n",
       "      <td>0.003997</td>\n",
       "      <td>0.011122</td>\n",
       "      <td>0.009697</td>\n",
       "      <td>0.007901</td>\n",
       "      <td>...</td>\n",
       "      <td>0.004058</td>\n",
       "      <td>0.018162</td>\n",
       "      <td>0.008919</td>\n",
       "      <td>0.023849</td>\n",
       "      <td>0.028730</td>\n",
       "      <td>0.010484</td>\n",
       "      <td>0.023925</td>\n",
       "      <td>0.002712</td>\n",
       "      <td>0.001128</td>\n",
       "      <td>0.000761</td>\n",
       "    </tr>\n",
       "    <tr>\n",
       "      <th>4</th>\n",
       "      <td>3.654223e-03</td>\n",
       "      <td>0.002835</td>\n",
       "      <td>0.001264</td>\n",
       "      <td>0.000959</td>\n",
       "      <td>0.002987</td>\n",
       "      <td>0.002472</td>\n",
       "      <td>0.002737</td>\n",
       "      <td>0.011478</td>\n",
       "      <td>0.010103</td>\n",
       "      <td>0.007771</td>\n",
       "      <td>...</td>\n",
       "      <td>0.004058</td>\n",
       "      <td>0.010682</td>\n",
       "      <td>0.008919</td>\n",
       "      <td>0.023849</td>\n",
       "      <td>0.028730</td>\n",
       "      <td>0.020481</td>\n",
       "      <td>0.023925</td>\n",
       "      <td>0.002835</td>\n",
       "      <td>0.001260</td>\n",
       "      <td>0.000954</td>\n",
       "    </tr>\n",
       "    <tr>\n",
       "      <th>...</th>\n",
       "      <td>...</td>\n",
       "      <td>...</td>\n",
       "      <td>...</td>\n",
       "      <td>...</td>\n",
       "      <td>...</td>\n",
       "      <td>...</td>\n",
       "      <td>...</td>\n",
       "      <td>...</td>\n",
       "      <td>...</td>\n",
       "      <td>...</td>\n",
       "      <td>...</td>\n",
       "      <td>...</td>\n",
       "      <td>...</td>\n",
       "      <td>...</td>\n",
       "      <td>...</td>\n",
       "      <td>...</td>\n",
       "      <td>...</td>\n",
       "      <td>...</td>\n",
       "      <td>...</td>\n",
       "      <td>...</td>\n",
       "      <td>...</td>\n",
       "    </tr>\n",
       "    <tr>\n",
       "      <th>981</th>\n",
       "      <td>3.831862e-06</td>\n",
       "      <td>0.000151</td>\n",
       "      <td>0.000140</td>\n",
       "      <td>0.000114</td>\n",
       "      <td>0.000000</td>\n",
       "      <td>0.000000</td>\n",
       "      <td>0.000000</td>\n",
       "      <td>0.000000</td>\n",
       "      <td>0.000000</td>\n",
       "      <td>0.000000</td>\n",
       "      <td>...</td>\n",
       "      <td>0.000000</td>\n",
       "      <td>0.000000</td>\n",
       "      <td>0.000000</td>\n",
       "      <td>0.000000</td>\n",
       "      <td>0.000000</td>\n",
       "      <td>0.000000</td>\n",
       "      <td>0.000000</td>\n",
       "      <td>0.000151</td>\n",
       "      <td>0.000144</td>\n",
       "      <td>0.000101</td>\n",
       "    </tr>\n",
       "    <tr>\n",
       "      <th>982</th>\n",
       "      <td>3.587755e-05</td>\n",
       "      <td>0.000319</td>\n",
       "      <td>0.000225</td>\n",
       "      <td>0.000169</td>\n",
       "      <td>0.000000</td>\n",
       "      <td>0.000000</td>\n",
       "      <td>0.000000</td>\n",
       "      <td>0.000000</td>\n",
       "      <td>0.000000</td>\n",
       "      <td>0.000000</td>\n",
       "      <td>...</td>\n",
       "      <td>0.000000</td>\n",
       "      <td>0.000000</td>\n",
       "      <td>0.000000</td>\n",
       "      <td>0.000000</td>\n",
       "      <td>0.000000</td>\n",
       "      <td>0.000000</td>\n",
       "      <td>0.000000</td>\n",
       "      <td>0.000319</td>\n",
       "      <td>0.000222</td>\n",
       "      <td>0.000168</td>\n",
       "    </tr>\n",
       "    <tr>\n",
       "      <th>983</th>\n",
       "      <td>1.131889e-05</td>\n",
       "      <td>0.000192</td>\n",
       "      <td>0.000393</td>\n",
       "      <td>0.000510</td>\n",
       "      <td>0.000000</td>\n",
       "      <td>0.000000</td>\n",
       "      <td>0.000000</td>\n",
       "      <td>0.000000</td>\n",
       "      <td>0.000000</td>\n",
       "      <td>0.000000</td>\n",
       "      <td>...</td>\n",
       "      <td>0.000000</td>\n",
       "      <td>0.000000</td>\n",
       "      <td>0.000000</td>\n",
       "      <td>0.000000</td>\n",
       "      <td>0.000000</td>\n",
       "      <td>0.000000</td>\n",
       "      <td>0.000000</td>\n",
       "      <td>0.000192</td>\n",
       "      <td>0.000392</td>\n",
       "      <td>0.000508</td>\n",
       "    </tr>\n",
       "    <tr>\n",
       "      <th>984</th>\n",
       "      <td>3.534088e-07</td>\n",
       "      <td>0.000045</td>\n",
       "      <td>0.000045</td>\n",
       "      <td>0.000032</td>\n",
       "      <td>0.000000</td>\n",
       "      <td>0.000000</td>\n",
       "      <td>0.000000</td>\n",
       "      <td>0.000000</td>\n",
       "      <td>0.000000</td>\n",
       "      <td>0.000000</td>\n",
       "      <td>...</td>\n",
       "      <td>0.000000</td>\n",
       "      <td>0.000000</td>\n",
       "      <td>0.000000</td>\n",
       "      <td>0.000000</td>\n",
       "      <td>0.000000</td>\n",
       "      <td>0.000000</td>\n",
       "      <td>0.000000</td>\n",
       "      <td>0.000045</td>\n",
       "      <td>0.000042</td>\n",
       "      <td>0.000039</td>\n",
       "    </tr>\n",
       "    <tr>\n",
       "      <th>985</th>\n",
       "      <td>4.463437e-07</td>\n",
       "      <td>0.000051</td>\n",
       "      <td>0.000045</td>\n",
       "      <td>0.000033</td>\n",
       "      <td>0.000000</td>\n",
       "      <td>0.000000</td>\n",
       "      <td>0.000000</td>\n",
       "      <td>0.000000</td>\n",
       "      <td>0.000000</td>\n",
       "      <td>0.000000</td>\n",
       "      <td>...</td>\n",
       "      <td>0.000000</td>\n",
       "      <td>0.000000</td>\n",
       "      <td>0.000000</td>\n",
       "      <td>0.000000</td>\n",
       "      <td>0.000000</td>\n",
       "      <td>0.000000</td>\n",
       "      <td>0.000000</td>\n",
       "      <td>0.000051</td>\n",
       "      <td>0.000041</td>\n",
       "      <td>0.000041</td>\n",
       "    </tr>\n",
       "  </tbody>\n",
       "</table>\n",
       "<p>986 rows × 45 columns</p>\n",
       "</div>"
      ],
      "text/plain": [
       "              CEC   UPHEC-2   UPHEC-3   UPHEC-4  HEC-2unif  HEC-8unif  \\\n",
       "0    4.060333e-04  0.001253  0.001444  0.001598   0.001204   0.001326   \n",
       "1    2.085870e-04  0.001221  0.001659  0.001834   0.001118   0.000516   \n",
       "2    2.972874e-03  0.002392  0.001275  0.001087   0.001801   0.002386   \n",
       "3    3.093814e-03  0.002712  0.001132  0.000765   0.002550   0.002494   \n",
       "4    3.654223e-03  0.002835  0.001264  0.000959   0.002987   0.002472   \n",
       "..            ...       ...       ...       ...        ...        ...   \n",
       "981  3.831862e-06  0.000151  0.000140  0.000114   0.000000   0.000000   \n",
       "982  3.587755e-05  0.000319  0.000225  0.000169   0.000000   0.000000   \n",
       "983  1.131889e-05  0.000192  0.000393  0.000510   0.000000   0.000000   \n",
       "984  3.534088e-07  0.000045  0.000045  0.000032   0.000000   0.000000   \n",
       "985  4.463437e-07  0.000051  0.000045  0.000033   0.000000   0.000000   \n",
       "\n",
       "     HEC-6unif  HEC-4unif  HEC-3unif  HEC-5unif  ...  HEC-34unif  HEC-33unif  \\\n",
       "0     0.001146   0.001041   0.000667   0.001313  ...    0.004058    0.018162   \n",
       "1     0.003738   0.000211   0.000324   0.000599  ...    0.020377    0.018162   \n",
       "2     0.003911   0.009942   0.008295   0.007249  ...    0.020377    0.018162   \n",
       "3     0.003997   0.011122   0.009697   0.007901  ...    0.004058    0.018162   \n",
       "4     0.002737   0.011478   0.010103   0.007771  ...    0.004058    0.010682   \n",
       "..         ...        ...        ...        ...  ...         ...         ...   \n",
       "981   0.000000   0.000000   0.000000   0.000000  ...    0.000000    0.000000   \n",
       "982   0.000000   0.000000   0.000000   0.000000  ...    0.000000    0.000000   \n",
       "983   0.000000   0.000000   0.000000   0.000000  ...    0.000000    0.000000   \n",
       "984   0.000000   0.000000   0.000000   0.000000  ...    0.000000    0.000000   \n",
       "985   0.000000   0.000000   0.000000   0.000000  ...    0.000000    0.000000   \n",
       "\n",
       "     HEC-39unif  HEC-40unif  HEC-31unif  HEC-32unif  HEC-37unif  AltUnif-2  \\\n",
       "0      0.008470    0.023849    0.028352    0.010484    0.023925   0.001253   \n",
       "1      0.008917    0.023849    0.028730    0.010484    0.023925   0.001221   \n",
       "2      0.008919    0.023849    0.028730    0.010484    0.023925   0.002392   \n",
       "3      0.008919    0.023849    0.028730    0.010484    0.023925   0.002712   \n",
       "4      0.008919    0.023849    0.028730    0.020481    0.023925   0.002835   \n",
       "..          ...         ...         ...         ...         ...        ...   \n",
       "981    0.000000    0.000000    0.000000    0.000000    0.000000   0.000151   \n",
       "982    0.000000    0.000000    0.000000    0.000000    0.000000   0.000319   \n",
       "983    0.000000    0.000000    0.000000    0.000000    0.000000   0.000192   \n",
       "984    0.000000    0.000000    0.000000    0.000000    0.000000   0.000045   \n",
       "985    0.000000    0.000000    0.000000    0.000000    0.000000   0.000051   \n",
       "\n",
       "     AltUnif-3  AltUnif-4  \n",
       "0     0.001444   0.001590  \n",
       "1     0.001659   0.001825  \n",
       "2     0.001271   0.001081  \n",
       "3     0.001128   0.000761  \n",
       "4     0.001260   0.000954  \n",
       "..         ...        ...  \n",
       "981   0.000144   0.000101  \n",
       "982   0.000222   0.000168  \n",
       "983   0.000392   0.000508  \n",
       "984   0.000042   0.000039  \n",
       "985   0.000041   0.000041  \n",
       "\n",
       "[986 rows x 45 columns]"
      ]
     },
     "execution_count": 3,
     "metadata": {},
     "output_type": "execute_result"
    }
   ],
   "source": [
    "df"
   ]
  },
  {
   "cell_type": "code",
   "execution_count": 4,
   "id": "2d22428d-af6f-4a8f-aea8-2b9f8f77bd1d",
   "metadata": {
    "tags": []
   },
   "outputs": [],
   "source": [
    "df.drop(\"AltUnif-2\", axis=1, inplace=True)"
   ]
  },
  {
   "cell_type": "markdown",
   "id": "beaf5c07-a0cf-4b0f-ac79-59e99dc63e63",
   "metadata": {},
   "source": [
    "We have to sort the columns before showing the KT plots. This is a bit more cumbersome than it should due to the alphabetical sorting."
   ]
  },
  {
   "cell_type": "code",
   "execution_count": 5,
   "id": "752d30e1-06ef-4995-a0a4-a971aa210cbc",
   "metadata": {},
   "outputs": [],
   "source": [
    "def sortcolumns(df):\n",
    "\n",
    "    labeldict = {\"U\":[], \"H\":[], \"A\":[]}\n",
    "    for label in df.columns:\n",
    "        if \"UPHEC\" in label:\n",
    "            labeldict[\"U\"].append(label)\n",
    "        elif \"Alt\" in label:\n",
    "            labeldict[\"A\"].append(label)\n",
    "        elif \"CEC\" not in label:\n",
    "            labeldict[\"H\"].append(label)\n",
    "    \n",
    "    # Sort UPHEC, AltUnif\n",
    "    for key in [\"U\",\"A\"]:\n",
    "        labeldict[key] = sorted(labeldict[key])\n",
    "    \n",
    "    # Sort the remaining one according to its number\n",
    "    Hmindex = [int(label.split(\"-\")[1].split(\"u\")[0]) for label in labeldict[\"H\"]]\n",
    "    labeldict[\"H\"] = list(np.array(labeldict[\"H\"])[np.argsort(Hmindex)])\n",
    "     \n",
    "    return df.reindex([\"CEC\"]+ labeldict[\"U\"]+ labeldict[\"H\"]+ labeldict[\"A\"], axis=1)"
   ]
  },
  {
   "cell_type": "code",
   "execution_count": 6,
   "id": "d7071e74-19bd-4975-9232-dfe2b3a8f543",
   "metadata": {},
   "outputs": [],
   "source": [
    "df = sortcolumns(df)"
   ]
  },
  {
   "cell_type": "code",
   "execution_count": 7,
   "id": "6475da4c-8891-44c7-b057-e45f70287eab",
   "metadata": {},
   "outputs": [],
   "source": [
    "#df[labeldict[\"U\"] + labeldict[\"A\"]]"
   ]
  },
  {
   "cell_type": "code",
   "execution_count": 8,
   "id": "9d36bbb6-fcec-4dfc-a260-5e72e11fb8a6",
   "metadata": {
    "scrolled": true,
    "tags": []
   },
   "outputs": [
    {
     "data": {
      "text/plain": [
       "CEC           1.0\n",
       "UPHEC-2       1.0\n",
       "UPHEC-3       1.0\n",
       "UPHEC-4       1.0\n",
       "HEC-2unif     1.0\n",
       "HEC-3unif     1.0\n",
       "HEC-4unif     1.0\n",
       "HEC-5unif     1.0\n",
       "HEC-6unif     1.0\n",
       "HEC-7unif     1.0\n",
       "HEC-8unif     1.0\n",
       "HEC-9unif     1.0\n",
       "HEC-10unif    1.0\n",
       "HEC-11unif    1.0\n",
       "HEC-12unif    1.0\n",
       "HEC-13unif    1.0\n",
       "HEC-14unif    1.0\n",
       "HEC-15unif    1.0\n",
       "HEC-16unif    1.0\n",
       "HEC-17unif    1.0\n",
       "HEC-18unif    1.0\n",
       "HEC-19unif    1.0\n",
       "HEC-20unif    1.0\n",
       "HEC-21unif    1.0\n",
       "HEC-22unif    1.0\n",
       "HEC-23unif    1.0\n",
       "HEC-24unif    1.0\n",
       "HEC-25unif    1.0\n",
       "HEC-26unif    1.0\n",
       "HEC-27unif    1.0\n",
       "HEC-28unif    1.0\n",
       "HEC-29unif    1.0\n",
       "HEC-30unif    1.0\n",
       "HEC-31unif    1.0\n",
       "HEC-32unif    1.0\n",
       "HEC-33unif    1.0\n",
       "HEC-34unif    1.0\n",
       "HEC-35unif    1.0\n",
       "HEC-37unif    1.0\n",
       "HEC-38unif    1.0\n",
       "HEC-39unif    1.0\n",
       "HEC-40unif    1.0\n",
       "AltUnif-3     1.0\n",
       "AltUnif-4     1.0\n",
       "dtype: float64"
      ]
     },
     "execution_count": 8,
     "metadata": {},
     "output_type": "execute_result"
    }
   ],
   "source": [
    "df.sum() # consistency check"
   ]
  },
  {
   "cell_type": "code",
   "execution_count": 9,
   "id": "74fbac22-3eb0-46eb-8e05-4e48af8605b3",
   "metadata": {},
   "outputs": [],
   "source": [
    "#series2 = df[\"HEC-2unif\"]\n",
    "#series2[series2 > 0].count()"
   ]
  },
  {
   "cell_type": "code",
   "execution_count": 10,
   "id": "0e7bde16-b16c-4b82-a5ec-963a770bef43",
   "metadata": {},
   "outputs": [],
   "source": [
    "#series5 = df[\"AltUnif-5\"]\n",
    "#series5obtained"
   ]
  },
  {
   "cell_type": "markdown",
   "id": "68b42aa7-5013-4610-91b6-28a624a02933",
   "metadata": {},
   "source": [
    "## Complete ranking - Kendall's tau"
   ]
  },
  {
   "cell_type": "code",
   "execution_count": 11,
   "id": "f94bf9f6-a387-4bb7-a088-fc4c83969f75",
   "metadata": {
    "tags": []
   },
   "outputs": [],
   "source": [
    "KT = np.zeros((len(df.columns),len(df.columns)))\n",
    "for i, row in enumerate(df):\n",
    "    for j, col in enumerate(df):\n",
    "        KT[i,j] = scipy.stats.kendalltau(df[row],df[col]).statistic"
   ]
  },
  {
   "cell_type": "code",
   "execution_count": 12,
   "id": "ce045e3b-359b-4826-90ec-cbe3c09c26cf",
   "metadata": {
    "tags": []
   },
   "outputs": [
    {
     "data": {
      "text/plain": [
       "0.08586932655391304"
      ]
     },
     "execution_count": 12,
     "metadata": {},
     "output_type": "execute_result"
    }
   ],
   "source": [
    "np.min(KT)"
   ]
  },
  {
   "cell_type": "code",
   "execution_count": 13,
   "id": "01917695-5761-4461-8fe2-fd5a424e7f15",
   "metadata": {},
   "outputs": [
    {
     "data": {
      "text/plain": [
       "7"
      ]
     },
     "execution_count": 13,
     "metadata": {},
     "output_type": "execute_result"
    }
   ],
   "source": [
    "word = \"AltUnif-45sd\"\n",
    "word.find(\"-\")"
   ]
  },
  {
   "cell_type": "code",
   "execution_count": 14,
   "id": "6684edca-a933-4b20-b637-2a8c57389bf6",
   "metadata": {},
   "outputs": [],
   "source": [
    "def findInt(col):\n",
    "    index = col.find(\"-\")\n",
    "    for n in [3,2,1]:\n",
    "        try:\n",
    "            M = int(col[index+1:index+n])\n",
    "            return str(M)\n",
    "        except:\n",
    "            continue\n",
    "\n",
    "labels = [str(col)[0]+findInt(col) for col in list(df.columns)[1:]]\n",
    "\n",
    "type_dict = defaultdict(int)\n",
    "for cent in labels:\n",
    "    type_dict[cent[0]] += 1\n",
    "    \n",
    "separators = [type_dict[\"U\"], type_dict[\"H\"]+type_dict[\"U\"]]"
   ]
  },
  {
   "cell_type": "code",
   "execution_count": 15,
   "id": "3ff581a4-2622-496d-83b5-b94b5efa786a",
   "metadata": {},
   "outputs": [
    {
     "data": {
      "text/plain": [
       "43"
      ]
     },
     "execution_count": 15,
     "metadata": {},
     "output_type": "execute_result"
    }
   ],
   "source": [
    "len(labels)"
   ]
  },
  {
   "cell_type": "code",
   "execution_count": 16,
   "id": "57f95900-bed3-43a3-a613-28e1c613b5ca",
   "metadata": {},
   "outputs": [
    {
     "name": "stdout",
     "output_type": "stream",
     "text": [
      "['U2', 'U3', 'U4', 'H2', 'H3', 'H4', 'H5', 'H6', 'H7', 'H8', 'H9', 'H10', 'H11', 'H12', 'H13', 'H14', 'H15', 'H16', 'H17', 'H18', 'H19', 'H20', 'H21', 'H22', 'H23', 'H24', 'H25', 'H26', 'H27', 'H28', 'H29', 'H30', 'H31', 'H32', 'H33', 'H34', 'H35', 'H37', 'H38', 'H39', 'H40', 'A3', 'A4']\n",
      "defaultdict(<class 'int'>, {'U': 3, 'H': 38, 'A': 2})\n"
     ]
    }
   ],
   "source": [
    "print(labels)\n",
    "print(type_dict)"
   ]
  },
  {
   "cell_type": "code",
   "execution_count": 17,
   "id": "24bb51c3-a1e5-4b91-beee-762b33cabeb9",
   "metadata": {
    "tags": []
   },
   "outputs": [
    {
     "data": {
      "image/png": "[encoded data removed]",
      "text/plain": [
       "<Figure size 1000x800 with 2 Axes>"
      ]
     },
     "metadata": {},
     "output_type": "display_data"
    }
   ],
   "source": [
    "fig, ax = plt.subplots(1,1, figsize=(10,8))\n",
    "\n",
    "ax = sns.heatmap(KT[1:,1:], annot=False, vmin=0, vmax=1)\n",
    "\n",
    "ax.hlines(separators, *ax.get_xlim(), linewidth=3)\n",
    "ax.vlines(separators, *ax.get_ylim(), linewidth=3)\n",
    "\n",
    "## Too many to display\n",
    "#ax.set_yticklabels(labels[::2], rotation=0)\n",
    "#ax.set_xticklabels(labels[::2], rotation=45)\n",
    "\n",
    "#plt.savefig(\"Figures/KT_heatmap.svg\")\n",
    "\n",
    "plt.show()"
   ]
  },
  {
   "cell_type": "markdown",
   "id": "38c30f99-b826-498f-a166-38c6f06ca192",
   "metadata": {
    "tags": []
   },
   "source": [
    "## Top-K ranking\n"
   ]
  },
  {
   "cell_type": "code",
   "execution_count": 18,
   "id": "884873f9-8ae6-4b5c-b642-ccb1d87f16aa",
   "metadata": {
    "tags": []
   },
   "outputs": [],
   "source": [
    "## Top K nodes based on a centrality dictionary ##\n",
    "def topK(cent, K=None, return_list=False):\n",
    "    \"\"\"\n",
    "    Given a dictionary node-centrality score, return the top K ranking\n",
    "    \"\"\"\n",
    "\n",
    "    if not K:\n",
    "        K = len(cent)\n",
    "    \n",
    "    C = sorted(cent, key=cent.get, reverse=True)[:K]\n",
    "    ranking = {key: cent[key] for key in C}\n",
    "    \n",
    "    if return_list:\n",
    "        return C\n",
    "\n",
    "    return ranking"
   ]
  },
  {
   "cell_type": "code",
   "execution_count": 19,
   "id": "034cbeaf-c95b-4705-a4e7-95fd4bc333ad",
   "metadata": {
    "tags": []
   },
   "outputs": [],
   "source": [
    "dictlist = df.to_dict()"
   ]
  },
  {
   "cell_type": "code",
   "execution_count": 20,
   "id": "c11bad96-aa3e-48cb-b6d4-e88c3f70f185",
   "metadata": {
    "tags": []
   },
   "outputs": [
    {
     "name": "stdout",
     "output_type": "stream",
     "text": [
      "CEC dict_keys([114, 318, 113, 417, 245, 263, 443, 333, 47, 361])\n",
      "UPHEC-2 dict_keys([114, 63, 169, 128, 130, 30, 106, 113, 417, 318])\n",
      "UPHEC-3 dict_keys([296, 377, 295, 60, 103, 181, 104, 368, 393, 398])\n",
      "UPHEC-4 dict_keys([296, 377, 60, 104, 103, 181, 368, 389, 398, 385])\n",
      "HEC-2unif dict_keys([160, 107, 62, 121, 82, 431, 249, 166, 183, 282])\n",
      "HEC-3unif dict_keys([63, 58, 4, 210, 3, 2, 250, 138, 107, 717])\n",
      "HEC-4unif dict_keys([62, 4, 3, 57, 2, 244, 135, 205, 636, 382])\n",
      "HEC-5unif dict_keys([62, 3, 4, 2, 57, 596, 232, 132, 197, 54])\n",
      "HEC-6unif dict_keys([374, 78, 44, 65, 193, 45, 64, 147, 256, 328])\n",
      "HEC-7unif dict_keys([363, 75, 62, 43, 192, 44, 161, 143, 63, 325])\n",
      "HEC-8unif dict_keys([358, 43, 42, 186, 356, 157, 140, 315, 60, 73])\n",
      "HEC-9unif dict_keys([349, 183, 347, 155, 72, 137, 60, 41, 309, 40])\n",
      "HEC-10unif dict_keys([335, 176, 333, 40, 67, 41, 58, 131, 146, 296])\n",
      "HEC-11unif dict_keys([290, 162, 65, 36, 56, 37, 288, 132, 55, 117])\n",
      "HEC-12unif dict_keys([64, 317, 55, 172, 315, 129, 37, 38, 54, 145])\n",
      "HEC-13unif dict_keys([33, 42, 73, 26, 16, 215, 32, 156, 167, 247])\n",
      "HEC-14unif dict_keys([199, 163, 265, 253, 71, 173, 266, 31, 225, 72])\n",
      "HEC-15unif dict_keys([29, 253, 241, 148, 185, 269, 243, 191, 159, 254])\n",
      "HEC-16unif dict_keys([103, 99, 77, 200, 199, 91, 90, 76, 75, 201])\n",
      "HEC-17unif dict_keys([28, 212, 29, 136, 141, 157, 199, 201, 211, 213])\n",
      "HEC-18unif dict_keys([208, 218, 25, 61, 148, 169, 26, 139, 210, 219])\n",
      "HEC-19unif dict_keys([312, 295, 31, 56, 58, 108, 123, 125, 126, 128])\n",
      "HEC-20unif dict_keys([67, 223, 235, 27, 28, 66, 100, 146, 154, 174])\n",
      "HEC-21unif dict_keys([54, 203, 24, 78, 229, 193, 157, 25, 53, 128])\n",
      "HEC-22unif dict_keys([152, 178, 189, 135, 212, 67, 110, 198, 24, 25])\n",
      "HEC-23unif dict_keys([105, 106, 59, 27, 43, 45, 75, 95, 96, 97])\n",
      "HEC-24unif dict_keys([41, 49, 62, 69, 79, 88, 93, 95, 119, 121])\n",
      "HEC-25unif dict_keys([45, 69, 75, 89, 99, 106, 107, 108, 111, 133])\n",
      "HEC-26unif dict_keys([74, 58, 73, 77, 93, 101, 104, 129, 131, 133])\n",
      "HEC-27unif dict_keys([96, 132, 67, 51, 55, 65, 66, 70, 73, 84])\n",
      "HEC-28unif dict_keys([64, 69, 39, 53, 92, 123, 174, 195, 161, 4])\n",
      "HEC-29unif dict_keys([56, 59, 1, 3, 13, 14, 17, 25, 42, 52])\n",
      "HEC-30unif dict_keys([3, 13, 32, 31, 15, 27, 9, 18, 28, 7])\n",
      "HEC-31unif dict_keys([25, 7, 4, 21, 8, 17, 9, 26, 2, 30])\n",
      "HEC-32unif dict_keys([4, 5, 6, 8, 9, 10, 11, 12, 15, 16])\n",
      "HEC-33unif dict_keys([0, 1, 2, 3, 7, 13, 14, 18, 26, 28])\n",
      "HEC-34unif dict_keys([1, 2, 6, 7, 13, 19, 23, 27, 28, 33])\n",
      "HEC-35unif dict_keys([46, 5, 6, 13, 14, 20, 22, 26, 27, 43])\n",
      "HEC-37unif dict_keys([35, 18, 0, 25, 41, 31, 19, 33, 2, 23])\n",
      "HEC-38unif dict_keys([83, 118, 22, 23, 32, 33, 44, 46, 53, 70])\n",
      "HEC-39unif dict_keys([7, 37, 30, 2, 3, 4, 5, 6, 8, 9])\n",
      "HEC-40unif dict_keys([6, 34, 13, 26, 17, 27, 21, 41, 8, 33])\n",
      "AltUnif-3 dict_keys([296, 377, 295, 60, 103, 181, 104, 368, 393, 61])\n",
      "AltUnif-4 dict_keys([296, 377, 60, 104, 103, 181, 368, 389, 398, 385])\n"
     ]
    }
   ],
   "source": [
    "for key1, value1 in dictlist.items():\n",
    "    print(key1, topK(value1,K=10).keys())"
   ]
  },
  {
   "cell_type": "code",
   "execution_count": 21,
   "id": "fa4fbdbf-283f-4607-b787-6949f7f27ab1",
   "metadata": {},
   "outputs": [
    {
     "name": "stdout",
     "output_type": "stream",
     "text": [
      "Comparing CEC against the rest.\n",
      "Comparing UPHEC-2 against the rest.\n",
      "Comparing UPHEC-3 against the rest.\n",
      "Comparing UPHEC-4 against the rest.\n",
      "Comparing HEC-2unif against the rest.\n",
      "Comparing HEC-3unif against the rest.\n",
      "Comparing HEC-4unif against the rest.\n",
      "Comparing HEC-5unif against the rest.\n",
      "Comparing HEC-6unif against the rest.\n",
      "Comparing HEC-7unif against the rest.\n",
      "Comparing HEC-8unif against the rest.\n",
      "Comparing HEC-9unif against the rest.\n",
      "Comparing HEC-10unif against the rest.\n",
      "Comparing HEC-11unif against the rest.\n",
      "Comparing HEC-12unif against the rest.\n",
      "Comparing HEC-13unif against the rest.\n",
      "Comparing HEC-14unif against the rest.\n",
      "Comparing HEC-15unif against the rest.\n",
      "Comparing HEC-16unif against the rest.\n",
      "Comparing HEC-17unif against the rest.\n",
      "Comparing HEC-18unif against the rest.\n",
      "Comparing HEC-19unif against the rest.\n",
      "Comparing HEC-20unif against the rest.\n",
      "Comparing HEC-21unif against the rest.\n",
      "Comparing HEC-22unif against the rest.\n",
      "Comparing HEC-23unif against the rest.\n",
      "Comparing HEC-24unif against the rest.\n",
      "Comparing HEC-25unif against the rest.\n",
      "Comparing HEC-26unif against the rest.\n",
      "Comparing HEC-27unif against the rest.\n",
      "Comparing HEC-28unif against the rest.\n",
      "Comparing HEC-29unif against the rest.\n",
      "Comparing HEC-30unif against the rest.\n",
      "Comparing HEC-31unif against the rest.\n",
      "Comparing HEC-32unif against the rest.\n",
      "Comparing HEC-33unif against the rest.\n",
      "Comparing HEC-34unif against the rest.\n",
      "Comparing HEC-35unif against the rest.\n",
      "Comparing HEC-37unif against the rest.\n",
      "Comparing HEC-38unif against the rest.\n",
      "Comparing HEC-39unif against the rest.\n",
      "Comparing HEC-40unif against the rest.\n",
      "Comparing AltUnif-3 against the rest.\n",
      "Comparing AltUnif-4 against the rest.\n"
     ]
    }
   ],
   "source": [
    "KTtopK = defaultdict(list)\n",
    "\n",
    "for key1, value1 in dictlist.items():\n",
    "    \n",
    "    print(\"Comparing\", key1, \"against the rest.\")\n",
    "    \n",
    "    for key2, value2 in dictlist.items():\n",
    "        \n",
    "        if key1 == key2:\n",
    "            continue\n",
    "        \n",
    "        for k in range(1, len(df)):\n",
    "                        \n",
    "            topk1 = topK(value1, K=k)\n",
    "            centrals2 = [value2[node] for node in topk1.keys()]\n",
    "            \n",
    "            KTtopK[key1 + \" -> \" + key2].append( scipy.stats.kendalltau(list(topk1.values()), centrals2).statistic )"
   ]
  },
  {
   "cell_type": "code",
   "execution_count": 22,
   "id": "7eb0e963-ee24-4901-b26b-cfe0c728055b",
   "metadata": {
    "tags": []
   },
   "outputs": [
    {
     "data": {
      "image/png": "[encoded data removed]",
      "text/plain": [
       "<Figure size 350x262.5 with 1 Axes>"
      ]
     },
     "metadata": {},
     "output_type": "display_data"
    }
   ],
   "source": [
    "for key, val in KTtopK.items():\n",
    "    plt.plot(val, label=key)\n",
    "    \n",
    "#plt.legend()"
   ]
  },
  {
   "cell_type": "code",
   "execution_count": null,
   "id": "52fd1e26-58d1-4acc-856c-8d56b1cd98d8",
   "metadata": {
    "tags": []
   },
   "outputs": [],
   "source": [
    "fig, ax = plt.subplots(2,3, figsize=(16,10), sharex=True, sharey=True)\n",
    "\n",
    "#fig.suptitle(\"Kendall-tau index for Top-K UPHEC vs Alt. Uniformization\")\n",
    "\n",
    "colorUU = iter(cmap(np.linspace(0, 1, 4*3)))\n",
    "colorUH = iter(cmap(np.linspace(0, 1, 4*4)))\n",
    "colorHU = iter(cmap(np.linspace(0, 1, 4*4)))\n",
    "\n",
    "colorAA = iter(cmap(np.linspace(0, 1, 2*3)))\n",
    "colorUA = iter(cmap(np.linspace(0, 1, 4*3)))\n",
    "colorAU = iter(cmap(np.linspace(0, 1, 4*3)))\n",
    "\n",
    "for key, val in KTtopK.items():\n",
    "    \n",
    "    \n",
    "    if \"UP\" in key[0:3] and \"UP\" in key[-8:]:\n",
    "        \n",
    "        ax[0,0].plot(range(11,len(df)), val[10:],\n",
    "                     label=f\"U{key[6]}\" + r\"$\\rightarrow$\"+ f\"U{key[-1]}\", color=next(colorUU))\n",
    "        #ax[0,0].set_title(\"UPHEC - UPHEC\")\n",
    "    \n",
    "    elif \"UP\" in key[0:3] and \"unif\" in key[-5:]:\n",
    "        \n",
    "        ax[0,1].plot(range(11,len(df)), val[10:],\n",
    "                     label=f\"U{key[6]}\" + r\"$\\rightarrow$\"+ f\"H{key[-5]}\", color=next(colorUH))\n",
    "        #ax[0,1].set_title(\"UPHEC - HEC\")\n",
    "    \n",
    "    elif \"unif\" in key[0:9] and \"UP\" in key[-8:]:\n",
    "        \n",
    "        ax[0,2].plot(range(11,len(df)), val[10:],\n",
    "                     label=f\"H{key[4]}\" + r\"$\\rightarrow$\"+ f\"U{key[-1]}\", color=next(colorHU))\n",
    "        #ax[0,2].set_title(\"HEC - UPHEC\")\n",
    "    \n",
    "    \n",
    "    elif \"Alt\" in key[0:8] and \"Alt\" in key[-9:]:\n",
    "        \n",
    "        ax[1,0].plot(range(11,len(df)), val[10:],\n",
    "                     label=f\"A{key[8]}\" + r\"$\\rightarrow$\"+ f\"A{key[-1]}\", color=next(colorAA))\n",
    "        #ax[1,0].set_title(\"Alt. Unif. - Alt. Unif.\")\n",
    "    \n",
    "    elif \"UP\" in key[0:3] and \"Alt\" in key[-9:]:\n",
    "        \n",
    "        ax[1,1].plot(range(11,len(df)), val[10:],\n",
    "                     label=f\"U{key[6]}\" + r\"$\\rightarrow$\"+ f\"A{key[-1]}\", color=next(colorUA))\n",
    "        #ax[1,1].set_title(\"UPHEC - Alt. Unif.\")\n",
    "    \n",
    "    elif \"Alt\" in key[0:8] and \"UP\" in key[-8:]:\n",
    "        \n",
    "        ax[1,2].plot(range(11,len(df)), val[10:],\n",
    "                     label=f\"A{key[8]}\" + r\"$\\rightarrow$\"+ f\"U{key[-1]}\", color=next(colorAU))\n",
    "        #ax[1,2].set_title(\"Alt. Unif. - UPHEC\")\n",
    "        \n",
    "        \n",
    "ax[0,0].set_xscale('log')\n",
    "ax[0,1].set_xscale('log')\n",
    "ax[0,2].set_xscale('log')\n",
    "ax[1,0].set_xscale('log')\n",
    "ax[1,1].set_xscale('log')\n",
    "ax[1,2].set_xscale('log')\n",
    "\n",
    "\n",
    "ax[0,0].legend()\n",
    "ax[0,1].legend()\n",
    "ax[0,2].legend()\n",
    "ax[1,0].legend()\n",
    "ax[1,1].legend()\n",
    "ax[1,2].legend()\n",
    "\n",
    "plt.tight_layout()\n",
    "\n",
    "#plt.savefig(\"Figures/KT_topK_comparisons.svg\")\n",
    "\n",
    "plt.show()"
   ]
  },
  {
   "cell_type": "code",
   "execution_count": null,
   "id": "71ced83e-7a9a-452e-968c-5ba3e6395a70",
   "metadata": {},
   "outputs": [],
   "source": []
  }
 ],
 "metadata": {
  "kernelspec": {
   "display_name": "Python 3 (ipykernel)",
   "language": "python",
   "name": "python3"
  },
  "language_info": {
   "codemirror_mode": {
    "name": "ipython",
    "version": 3
   },
   "file_extension": ".py",
   "mimetype": "text/x-python",
   "name": "python",
   "nbconvert_exporter": "python",
   "pygments_lexer": "ipython3",
   "version": "3.9.17"
  }
 },
 "nbformat": 4,
 "nbformat_minor": 5
}
